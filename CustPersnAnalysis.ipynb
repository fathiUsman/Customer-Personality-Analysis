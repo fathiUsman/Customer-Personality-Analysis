{
  "nbformat": 4,
  "nbformat_minor": 0,
  "metadata": {
    "colab": {
      "name": "CustPersnAnalysis.ipynb",
      "provenance": [],
      "collapsed_sections": [],
      "mount_file_id": "1JOldxtQIKtv15cOjvLQnRX2WB6Gv8gZv",
      "authorship_tag": "ABX9TyMz3QKqIkAsbFhgdOPIrrae",
      "include_colab_link": true
    },
    "kernelspec": {
      "name": "python3",
      "display_name": "Python 3"
    },
    "language_info": {
      "name": "python"
    }
  },
  "cells": [
    {
      "cell_type": "markdown",
      "metadata": {
        "id": "view-in-github",
        "colab_type": "text"
      },
      "source": [
        "<a href=\"https://colab.research.google.com/github/fathiUsman/Customer-Personality-Analysis/blob/main/CustPersnAnalysis.ipynb\" target=\"_parent\"><img src=\"https://colab.research.google.com/assets/colab-badge.svg\" alt=\"Open In Colab\"/></a>"
      ]
    },
    {
      "cell_type": "markdown",
      "metadata": {
        "id": "zIM5Hp9yBR_i"
      },
      "source": [
        "# **CUSTOMER PERSONALITY ANALYSIS WITH PYTHON**\n",
        "\n",
        "Analysis of company's ideal customers"
      ]
    },
    {
      "cell_type": "markdown",
      "metadata": {
        "id": "ZMorFpM7vQ9r"
      },
      "source": [
        "## **CONTEXT**\n",
        "\n",
        "\n",
        "Customer Personality Analysis is a detailed analysis of a company’s ideal customers. It helps a business to better understand its customers and makes it easier for them to modify products according to the specific needs, behaviors and concerns of different types of customers.\n",
        "\n",
        "Customer personality analysis helps a business to modify its product based on its target customers from different types of customer segments. For example, instead of spending money to market a new product to every customer in the company’s database, a company can analyze which customer segment is most likely to buy the product and then market the product only on that particular segment.\n",
        "\n"
      ]
    },
    {
      "cell_type": "markdown",
      "metadata": {
        "id": "t3ZmVr3MwYak"
      },
      "source": [
        "# **CONTENT**\n",
        "\n",
        "**Attributes**\n",
        "\n",
        "**People**\n",
        "\n",
        "ID: Customer's unique identifier\n",
        "\n",
        "Year_Birth: Customer's birth year\n",
        "\n",
        "Education: Customer's education level\n",
        "\n",
        "Marital_Status: Customer's marital status\n",
        "\n",
        "Income: Customer's yearly household income\n",
        "\n",
        "Kidhome: Number of children in customer's household\n",
        "\n",
        "Teenhome: Number of teenagers in customer's household\n",
        "\n",
        "Dt_Customer: Date of customer's enrollment with the company\n",
        "\n",
        "Recency: Number of days since customer's last purchase\n",
        "\n",
        "Complain: 1 if customer complained in the last 2 years, 0 otherwise\n",
        "\n",
        "**Products**\n",
        "\n",
        "MntWines: Amount spent on wine in 2 years\n",
        "\n",
        "MntFruits: Amount spent on fruits in 2 years\n",
        "\n",
        "MntMeatProducts: Amount spent on meat in 2 years\n",
        "\n",
        "MntFishProducts: Amount spent on fish in 2 years\n",
        "\n",
        "MntSweetProducts: Amount spent on sweets in 2 years\n",
        "\n",
        "MntGoldProds: Amount spent on gold in  2 years\n",
        "\n",
        "**Promotion**\n",
        "\n",
        "NumDealsPurchases: Number of purchases made with a discount\n",
        "\n",
        "AcceptedCmp1: 1 if customer accepted the offer in the 1st campaign, 0 otherwise\n",
        "\n",
        "AcceptedCmp2: 1 if customer accepted the offer in the 2nd campaign, 0 otherwise\n",
        "\n",
        "AcceptedCmp3: 1 if customer accepted the offer in the 3rd campaign, 0 otherwise\n",
        "\n",
        "AcceptedCmp4: 1 if customer accepted the offer in the 4th campaign, 0 otherwise\n",
        "\n",
        "AcceptedCmp5: 1 if customer accepted the offer in the 5th campaign, 0 otherwise\n",
        "\n",
        "Response: 1 if customer accepted the offer in the last campaign, 0 otherwise\n",
        "\n",
        "**Place**\n",
        "\n",
        "NumWebPurchases: Number of purchases made through the company’s web site\n",
        "\n",
        "NumCatalogPurchases: Number of purchases made using a catalogue\n",
        "\n",
        "NumStorePurchases: Number of purchases made directly in stores\n",
        "\n",
        "NumWebVisitsMonth: Number of visits to company’s web site in the last month\n"
      ]
    },
    {
      "cell_type": "markdown",
      "metadata": {
        "id": "c6_p9Ooi6AgJ"
      },
      "source": [
        "**TARGET**\n",
        "\n",
        "Here I will be using a dataset that contains data collected from a marketing campaign from 2012-2014, where the task is to predict how different customer segments will respond for a particular product or service."
      ]
    },
    {
      "cell_type": "markdown",
      "metadata": {
        "id": "VbQgSBupxC1s"
      },
      "source": [
        "#Import all the libraries and packages"
      ]
    },
    {
      "cell_type": "code",
      "metadata": {
        "id": "tQuBqe8rwYLV"
      },
      "source": [
        "import numpy as np\n",
        "import pandas as pd\n",
        "import datetime\n",
        "from datetime import date\n",
        "import matplotlib\n",
        "import seaborn as sns\n",
        "import matplotlib.pyplot as plt\n",
        "import warnings\n",
        "warnings.filterwarnings('ignore')\n",
        "%matplotlib inline"
      ],
      "execution_count": null,
      "outputs": []
    },
    {
      "cell_type": "code",
      "metadata": {
        "id": "VjMdhxqitq2E"
      },
      "source": [
        "# Read the dataset\n",
        "data=pd.read_csv('/content/drive/MyDrive/finalproject/marketing_campaign - marketing_campaign (1).csv')"
      ],
      "execution_count": null,
      "outputs": []
    },
    {
      "cell_type": "code",
      "metadata": {
        "colab": {
          "base_uri": "https://localhost:8080/",
          "height": 226
        },
        "id": "pgbo6VnavD1R",
        "outputId": "45da6aab-2993-4367-96ea-52f16bf99723"
      },
      "source": [
        "# First 5 rows of the dataset\n",
        "data.head()"
      ],
      "execution_count": null,
      "outputs": [
        {
          "output_type": "execute_result",
          "data": {
            "text/html": [
              "<div>\n",
              "<style scoped>\n",
              "    .dataframe tbody tr th:only-of-type {\n",
              "        vertical-align: middle;\n",
              "    }\n",
              "\n",
              "    .dataframe tbody tr th {\n",
              "        vertical-align: top;\n",
              "    }\n",
              "\n",
              "    .dataframe thead th {\n",
              "        text-align: right;\n",
              "    }\n",
              "</style>\n",
              "<table border=\"1\" class=\"dataframe\">\n",
              "  <thead>\n",
              "    <tr style=\"text-align: right;\">\n",
              "      <th></th>\n",
              "      <th>ID</th>\n",
              "      <th>Year_Birth</th>\n",
              "      <th>Education</th>\n",
              "      <th>Marital_Status</th>\n",
              "      <th>Income</th>\n",
              "      <th>Kidhome</th>\n",
              "      <th>Teenhome</th>\n",
              "      <th>Dt_Customer</th>\n",
              "      <th>Recency</th>\n",
              "      <th>MntWines</th>\n",
              "      <th>MntFruits</th>\n",
              "      <th>MntMeatProducts</th>\n",
              "      <th>MntFishProducts</th>\n",
              "      <th>MntSweetProducts</th>\n",
              "      <th>MntGoldProds</th>\n",
              "      <th>NumDealsPurchases</th>\n",
              "      <th>NumWebPurchases</th>\n",
              "      <th>NumCatalogPurchases</th>\n",
              "      <th>NumStorePurchases</th>\n",
              "      <th>NumWebVisitsMonth</th>\n",
              "      <th>AcceptedCmp3</th>\n",
              "      <th>AcceptedCmp4</th>\n",
              "      <th>AcceptedCmp5</th>\n",
              "      <th>AcceptedCmp1</th>\n",
              "      <th>AcceptedCmp2</th>\n",
              "      <th>Complain</th>\n",
              "      <th>Z_CostContact</th>\n",
              "      <th>Z_Revenue</th>\n",
              "      <th>Response</th>\n",
              "    </tr>\n",
              "  </thead>\n",
              "  <tbody>\n",
              "    <tr>\n",
              "      <th>0</th>\n",
              "      <td>5524</td>\n",
              "      <td>1957</td>\n",
              "      <td>Graduation</td>\n",
              "      <td>Single</td>\n",
              "      <td>58138.0</td>\n",
              "      <td>0</td>\n",
              "      <td>0</td>\n",
              "      <td>04-09-2012</td>\n",
              "      <td>58</td>\n",
              "      <td>635</td>\n",
              "      <td>88</td>\n",
              "      <td>546</td>\n",
              "      <td>172</td>\n",
              "      <td>88</td>\n",
              "      <td>88</td>\n",
              "      <td>3</td>\n",
              "      <td>8</td>\n",
              "      <td>10</td>\n",
              "      <td>4</td>\n",
              "      <td>7</td>\n",
              "      <td>0</td>\n",
              "      <td>0</td>\n",
              "      <td>0</td>\n",
              "      <td>0</td>\n",
              "      <td>0</td>\n",
              "      <td>0</td>\n",
              "      <td>3</td>\n",
              "      <td>11</td>\n",
              "      <td>1</td>\n",
              "    </tr>\n",
              "    <tr>\n",
              "      <th>1</th>\n",
              "      <td>2174</td>\n",
              "      <td>1954</td>\n",
              "      <td>Graduation</td>\n",
              "      <td>Single</td>\n",
              "      <td>46344.0</td>\n",
              "      <td>1</td>\n",
              "      <td>1</td>\n",
              "      <td>08-03-2014</td>\n",
              "      <td>38</td>\n",
              "      <td>11</td>\n",
              "      <td>1</td>\n",
              "      <td>6</td>\n",
              "      <td>2</td>\n",
              "      <td>1</td>\n",
              "      <td>6</td>\n",
              "      <td>2</td>\n",
              "      <td>1</td>\n",
              "      <td>1</td>\n",
              "      <td>2</td>\n",
              "      <td>5</td>\n",
              "      <td>0</td>\n",
              "      <td>0</td>\n",
              "      <td>0</td>\n",
              "      <td>0</td>\n",
              "      <td>0</td>\n",
              "      <td>0</td>\n",
              "      <td>3</td>\n",
              "      <td>11</td>\n",
              "      <td>0</td>\n",
              "    </tr>\n",
              "    <tr>\n",
              "      <th>2</th>\n",
              "      <td>4141</td>\n",
              "      <td>1965</td>\n",
              "      <td>Graduation</td>\n",
              "      <td>Together</td>\n",
              "      <td>71613.0</td>\n",
              "      <td>0</td>\n",
              "      <td>0</td>\n",
              "      <td>21-08-2013</td>\n",
              "      <td>26</td>\n",
              "      <td>426</td>\n",
              "      <td>49</td>\n",
              "      <td>127</td>\n",
              "      <td>111</td>\n",
              "      <td>21</td>\n",
              "      <td>42</td>\n",
              "      <td>1</td>\n",
              "      <td>8</td>\n",
              "      <td>2</td>\n",
              "      <td>10</td>\n",
              "      <td>4</td>\n",
              "      <td>0</td>\n",
              "      <td>0</td>\n",
              "      <td>0</td>\n",
              "      <td>0</td>\n",
              "      <td>0</td>\n",
              "      <td>0</td>\n",
              "      <td>3</td>\n",
              "      <td>11</td>\n",
              "      <td>0</td>\n",
              "    </tr>\n",
              "    <tr>\n",
              "      <th>3</th>\n",
              "      <td>6182</td>\n",
              "      <td>1984</td>\n",
              "      <td>Graduation</td>\n",
              "      <td>Together</td>\n",
              "      <td>26646.0</td>\n",
              "      <td>1</td>\n",
              "      <td>0</td>\n",
              "      <td>10-02-2014</td>\n",
              "      <td>26</td>\n",
              "      <td>11</td>\n",
              "      <td>4</td>\n",
              "      <td>20</td>\n",
              "      <td>10</td>\n",
              "      <td>3</td>\n",
              "      <td>5</td>\n",
              "      <td>2</td>\n",
              "      <td>2</td>\n",
              "      <td>0</td>\n",
              "      <td>4</td>\n",
              "      <td>6</td>\n",
              "      <td>0</td>\n",
              "      <td>0</td>\n",
              "      <td>0</td>\n",
              "      <td>0</td>\n",
              "      <td>0</td>\n",
              "      <td>0</td>\n",
              "      <td>3</td>\n",
              "      <td>11</td>\n",
              "      <td>0</td>\n",
              "    </tr>\n",
              "    <tr>\n",
              "      <th>4</th>\n",
              "      <td>5324</td>\n",
              "      <td>1981</td>\n",
              "      <td>PhD</td>\n",
              "      <td>Married</td>\n",
              "      <td>58293.0</td>\n",
              "      <td>1</td>\n",
              "      <td>0</td>\n",
              "      <td>19-01-2014</td>\n",
              "      <td>94</td>\n",
              "      <td>173</td>\n",
              "      <td>43</td>\n",
              "      <td>118</td>\n",
              "      <td>46</td>\n",
              "      <td>27</td>\n",
              "      <td>15</td>\n",
              "      <td>5</td>\n",
              "      <td>5</td>\n",
              "      <td>3</td>\n",
              "      <td>6</td>\n",
              "      <td>5</td>\n",
              "      <td>0</td>\n",
              "      <td>0</td>\n",
              "      <td>0</td>\n",
              "      <td>0</td>\n",
              "      <td>0</td>\n",
              "      <td>0</td>\n",
              "      <td>3</td>\n",
              "      <td>11</td>\n",
              "      <td>0</td>\n",
              "    </tr>\n",
              "  </tbody>\n",
              "</table>\n",
              "</div>"
            ],
            "text/plain": [
              "     ID  Year_Birth   Education  ... Z_CostContact  Z_Revenue  Response\n",
              "0  5524        1957  Graduation  ...             3         11         1\n",
              "1  2174        1954  Graduation  ...             3         11         0\n",
              "2  4141        1965  Graduation  ...             3         11         0\n",
              "3  6182        1984  Graduation  ...             3         11         0\n",
              "4  5324        1981         PhD  ...             3         11         0\n",
              "\n",
              "[5 rows x 29 columns]"
            ]
          },
          "metadata": {},
          "execution_count": 41
        }
      ]
    },
    {
      "cell_type": "code",
      "metadata": {
        "colab": {
          "base_uri": "https://localhost:8080/"
        },
        "id": "wnLFIVmTvD63",
        "outputId": "b7e31be9-f803-4885-8da3-1ac2f30ccf83"
      },
      "source": [
        "#size of the dataset\n",
        "data.shape"
      ],
      "execution_count": null,
      "outputs": [
        {
          "output_type": "execute_result",
          "data": {
            "text/plain": [
              "(2240, 29)"
            ]
          },
          "metadata": {},
          "execution_count": 42
        }
      ]
    },
    {
      "cell_type": "code",
      "metadata": {
        "colab": {
          "base_uri": "https://localhost:8080/"
        },
        "id": "so0g2MlJvD9X",
        "outputId": "42eb7ae5-bf57-4244-f29c-62f23b0285fd"
      },
      "source": [
        "#information of the columns\n",
        "data.info()"
      ],
      "execution_count": null,
      "outputs": [
        {
          "output_type": "stream",
          "name": "stdout",
          "text": [
            "<class 'pandas.core.frame.DataFrame'>\n",
            "RangeIndex: 2240 entries, 0 to 2239\n",
            "Data columns (total 29 columns):\n",
            " #   Column               Non-Null Count  Dtype  \n",
            "---  ------               --------------  -----  \n",
            " 0   ID                   2240 non-null   int64  \n",
            " 1   Year_Birth           2240 non-null   int64  \n",
            " 2   Education            2240 non-null   object \n",
            " 3   Marital_Status       2240 non-null   object \n",
            " 4   Income               2216 non-null   float64\n",
            " 5   Kidhome              2240 non-null   int64  \n",
            " 6   Teenhome             2240 non-null   int64  \n",
            " 7   Dt_Customer          2240 non-null   object \n",
            " 8   Recency              2240 non-null   int64  \n",
            " 9   MntWines             2240 non-null   int64  \n",
            " 10  MntFruits            2240 non-null   int64  \n",
            " 11  MntMeatProducts      2240 non-null   int64  \n",
            " 12  MntFishProducts      2240 non-null   int64  \n",
            " 13  MntSweetProducts     2240 non-null   int64  \n",
            " 14  MntGoldProds         2240 non-null   int64  \n",
            " 15  NumDealsPurchases    2240 non-null   int64  \n",
            " 16  NumWebPurchases      2240 non-null   int64  \n",
            " 17  NumCatalogPurchases  2240 non-null   int64  \n",
            " 18  NumStorePurchases    2240 non-null   int64  \n",
            " 19  NumWebVisitsMonth    2240 non-null   int64  \n",
            " 20  AcceptedCmp3         2240 non-null   int64  \n",
            " 21  AcceptedCmp4         2240 non-null   int64  \n",
            " 22  AcceptedCmp5         2240 non-null   int64  \n",
            " 23  AcceptedCmp1         2240 non-null   int64  \n",
            " 24  AcceptedCmp2         2240 non-null   int64  \n",
            " 25  Complain             2240 non-null   int64  \n",
            " 26  Z_CostContact        2240 non-null   int64  \n",
            " 27  Z_Revenue            2240 non-null   int64  \n",
            " 28  Response             2240 non-null   int64  \n",
            "dtypes: float64(1), int64(25), object(3)\n",
            "memory usage: 507.6+ KB\n"
          ]
        }
      ]
    },
    {
      "cell_type": "markdown",
      "metadata": {
        "id": "W0m3wVr9sZFT"
      },
      "source": [
        "## **EXPLORATORY DATA ANALYSIS**"
      ]
    },
    {
      "cell_type": "code",
      "metadata": {
        "id": "iY4O-LMI9arS"
      },
      "source": [
        "# create a column as Children by adding both kids and teens at home.\n",
        "\n",
        "data['Children']=data['Kidhome']+data['Teenhome']\n"
      ],
      "execution_count": null,
      "outputs": []
    },
    {
      "cell_type": "code",
      "metadata": {
        "colab": {
          "base_uri": "https://localhost:8080/"
        },
        "id": "XqKUs66ZLJrn",
        "outputId": "caa4fd87-f2df-4cb7-b7d5-b6ef7ff34112"
      },
      "source": [
        "data.Children"
      ],
      "execution_count": null,
      "outputs": [
        {
          "output_type": "execute_result",
          "data": {
            "text/plain": [
              "0       0\n",
              "1       2\n",
              "2       0\n",
              "3       1\n",
              "4       1\n",
              "       ..\n",
              "2235    1\n",
              "2236    3\n",
              "2237    0\n",
              "2238    1\n",
              "2239    2\n",
              "Name: Children, Length: 2240, dtype: int64"
            ]
          },
          "metadata": {},
          "execution_count": 45
        }
      ]
    },
    {
      "cell_type": "code",
      "metadata": {
        "colab": {
          "base_uri": "https://localhost:8080/"
        },
        "id": "jsJuJYUp9a1m",
        "outputId": "fc9c0fbd-e6cb-432f-b6b9-c720a9eb9a63"
      },
      "source": [
        "#Create column 'Spending' by adding all the products ,to find the total expenditure by customers\n",
        "\n",
        "data['Spending']=data['MntWines']+data['MntFruits']+data['MntMeatProducts']+data['MntFishProducts']+data['MntSweetProducts']+data['MntGoldProds']\n",
        "data.Spending"
      ],
      "execution_count": null,
      "outputs": [
        {
          "output_type": "execute_result",
          "data": {
            "text/plain": [
              "0       1617\n",
              "1         27\n",
              "2        776\n",
              "3         53\n",
              "4        422\n",
              "        ... \n",
              "2235    1341\n",
              "2236     444\n",
              "2237    1241\n",
              "2238     843\n",
              "2239     172\n",
              "Name: Spending, Length: 2240, dtype: int64"
            ]
          },
          "metadata": {},
          "execution_count": 46
        }
      ]
    },
    {
      "cell_type": "code",
      "metadata": {
        "id": "iUONmNOmLneW"
      },
      "source": [
        "# Rename the columns \n",
        "data=data.rename(columns={'MntWines': \"Wines\",'MntFruits':'Fruits','MntMeatProducts':'Meat','MntFishProducts':'Fish','MntSweetProducts':'Sweets','MntGoldProds':'Gold'})\n"
      ],
      "execution_count": null,
      "outputs": []
    },
    {
      "cell_type": "markdown",
      "metadata": {
        "id": "TRHa-fOefbWI"
      },
      "source": [
        "To convert year of birth to Age (as of 2014)\n",
        "\n",
        "Subtract the year of birth from the present year"
      ]
    },
    {
      "cell_type": "code",
      "metadata": {
        "colab": {
          "base_uri": "https://localhost:8080/"
        },
        "id": "1KdlDg2jBI-k",
        "outputId": "a6daad2d-84f5-4aa6-a72c-129e76f04068"
      },
      "source": [
        "\n",
        "data['Age']=2014-data['Year_Birth']\n",
        "data.Age"
      ],
      "execution_count": null,
      "outputs": [
        {
          "output_type": "execute_result",
          "data": {
            "text/plain": [
              "0       57\n",
              "1       60\n",
              "2       49\n",
              "3       30\n",
              "4       33\n",
              "        ..\n",
              "2235    47\n",
              "2236    68\n",
              "2237    33\n",
              "2238    58\n",
              "2239    60\n",
              "Name: Age, Length: 2240, dtype: int64"
            ]
          },
          "metadata": {},
          "execution_count": 48
        }
      ]
    },
    {
      "cell_type": "code",
      "metadata": {
        "id": "JXLsq756BJBT"
      },
      "source": [
        "#Rename the columns\n",
        "data=data.rename(columns={'NumDealsPurchases':'DealPurchases','NumWebPurchases': \"WebPurchases\",'NumCatalogPurchases':'CatalogPurchases','NumStorePurchases':'StorePurchases'})"
      ],
      "execution_count": null,
      "outputs": []
    },
    {
      "cell_type": "markdown",
      "metadata": {
        "id": "bYpmcYdggDrw"
      },
      "source": [
        "**To find the seniority**\n",
        "\n",
        "Steps:\n",
        "\n",
        "\n",
        "*   dataframe created with the date of customer enrolled to the company\n",
        "*   Calculated number of days from when the customer is enrolled till the present date\n",
        "\n",
        "\n",
        "*   Converted the days into months \n",
        "\n",
        "\n",
        "\n",
        "\n"
      ]
    },
    {
      "cell_type": "code",
      "metadata": {
        "id": "QQh8bfXTt2kD"
      },
      "source": [
        "last_date = date(2014,10, 4)"
      ],
      "execution_count": null,
      "outputs": []
    },
    {
      "cell_type": "code",
      "metadata": {
        "colab": {
          "base_uri": "https://localhost:8080/"
        },
        "id": "dnS75qUrt4O7",
        "outputId": "26901f5a-a7b9-48dc-8d5d-4ee4b2b6cb5e"
      },
      "source": [
        "data['Seniority']=pd.to_datetime(data['Dt_Customer'], dayfirst=True)\n",
        "data.Seniority"
      ],
      "execution_count": null,
      "outputs": [
        {
          "output_type": "execute_result",
          "data": {
            "text/plain": [
              "0      2012-09-04\n",
              "1      2014-03-08\n",
              "2      2013-08-21\n",
              "3      2014-02-10\n",
              "4      2014-01-19\n",
              "          ...    \n",
              "2235   2013-06-13\n",
              "2236   2014-06-10\n",
              "2237   2014-01-25\n",
              "2238   2014-01-24\n",
              "2239   2012-10-15\n",
              "Name: Seniority, Length: 2240, dtype: datetime64[ns]"
            ]
          },
          "metadata": {},
          "execution_count": 51
        }
      ]
    },
    {
      "cell_type": "code",
      "metadata": {
        "id": "0trnMWjiufOD"
      },
      "source": [
        "data['Seniority'] = pd.to_numeric(data['Seniority'].dt.date.apply(lambda x: (last_date - x)).dt.days, downcast='integer')/30"
      ],
      "execution_count": null,
      "outputs": []
    },
    {
      "cell_type": "code",
      "metadata": {
        "colab": {
          "base_uri": "https://localhost:8080/"
        },
        "id": "OMdvltusjaTS",
        "outputId": "ea69efb9-6381-4a85-dfdb-45025761e63a"
      },
      "source": [
        "data.Seniority"
      ],
      "execution_count": null,
      "outputs": [
        {
          "output_type": "execute_result",
          "data": {
            "text/plain": [
              "0       25.333333\n",
              "1        7.000000\n",
              "2       13.633333\n",
              "3        7.866667\n",
              "4        8.600000\n",
              "          ...    \n",
              "2235    15.933333\n",
              "2236     3.866667\n",
              "2237     8.400000\n",
              "2238     8.433333\n",
              "2239    23.966667\n",
              "Name: Seniority, Length: 2240, dtype: float64"
            ]
          },
          "metadata": {},
          "execution_count": 53
        }
      ]
    },
    {
      "cell_type": "code",
      "metadata": {
        "colab": {
          "base_uri": "https://localhost:8080/",
          "height": 226
        },
        "id": "JejGGalUvEAK",
        "outputId": "fa1b540a-8211-40d4-e8d8-5d3146c80578"
      },
      "source": [
        "#dataframe with important column\n",
        "data1=data\n",
        "data1.head()"
      ],
      "execution_count": null,
      "outputs": [
        {
          "output_type": "execute_result",
          "data": {
            "text/html": [
              "<div>\n",
              "<style scoped>\n",
              "    .dataframe tbody tr th:only-of-type {\n",
              "        vertical-align: middle;\n",
              "    }\n",
              "\n",
              "    .dataframe tbody tr th {\n",
              "        vertical-align: top;\n",
              "    }\n",
              "\n",
              "    .dataframe thead th {\n",
              "        text-align: right;\n",
              "    }\n",
              "</style>\n",
              "<table border=\"1\" class=\"dataframe\">\n",
              "  <thead>\n",
              "    <tr style=\"text-align: right;\">\n",
              "      <th></th>\n",
              "      <th>ID</th>\n",
              "      <th>Year_Birth</th>\n",
              "      <th>Education</th>\n",
              "      <th>Marital_Status</th>\n",
              "      <th>Income</th>\n",
              "      <th>Kidhome</th>\n",
              "      <th>Teenhome</th>\n",
              "      <th>Dt_Customer</th>\n",
              "      <th>Recency</th>\n",
              "      <th>Wines</th>\n",
              "      <th>Fruits</th>\n",
              "      <th>Meat</th>\n",
              "      <th>Fish</th>\n",
              "      <th>Sweets</th>\n",
              "      <th>Gold</th>\n",
              "      <th>DealPurchases</th>\n",
              "      <th>WebPurchases</th>\n",
              "      <th>CatalogPurchases</th>\n",
              "      <th>StorePurchases</th>\n",
              "      <th>NumWebVisitsMonth</th>\n",
              "      <th>AcceptedCmp3</th>\n",
              "      <th>AcceptedCmp4</th>\n",
              "      <th>AcceptedCmp5</th>\n",
              "      <th>AcceptedCmp1</th>\n",
              "      <th>AcceptedCmp2</th>\n",
              "      <th>Complain</th>\n",
              "      <th>Z_CostContact</th>\n",
              "      <th>Z_Revenue</th>\n",
              "      <th>Response</th>\n",
              "      <th>Children</th>\n",
              "      <th>Spending</th>\n",
              "      <th>Age</th>\n",
              "      <th>Seniority</th>\n",
              "    </tr>\n",
              "  </thead>\n",
              "  <tbody>\n",
              "    <tr>\n",
              "      <th>0</th>\n",
              "      <td>5524</td>\n",
              "      <td>1957</td>\n",
              "      <td>Graduation</td>\n",
              "      <td>Single</td>\n",
              "      <td>58138.0</td>\n",
              "      <td>0</td>\n",
              "      <td>0</td>\n",
              "      <td>04-09-2012</td>\n",
              "      <td>58</td>\n",
              "      <td>635</td>\n",
              "      <td>88</td>\n",
              "      <td>546</td>\n",
              "      <td>172</td>\n",
              "      <td>88</td>\n",
              "      <td>88</td>\n",
              "      <td>3</td>\n",
              "      <td>8</td>\n",
              "      <td>10</td>\n",
              "      <td>4</td>\n",
              "      <td>7</td>\n",
              "      <td>0</td>\n",
              "      <td>0</td>\n",
              "      <td>0</td>\n",
              "      <td>0</td>\n",
              "      <td>0</td>\n",
              "      <td>0</td>\n",
              "      <td>3</td>\n",
              "      <td>11</td>\n",
              "      <td>1</td>\n",
              "      <td>0</td>\n",
              "      <td>1617</td>\n",
              "      <td>57</td>\n",
              "      <td>25.333333</td>\n",
              "    </tr>\n",
              "    <tr>\n",
              "      <th>1</th>\n",
              "      <td>2174</td>\n",
              "      <td>1954</td>\n",
              "      <td>Graduation</td>\n",
              "      <td>Single</td>\n",
              "      <td>46344.0</td>\n",
              "      <td>1</td>\n",
              "      <td>1</td>\n",
              "      <td>08-03-2014</td>\n",
              "      <td>38</td>\n",
              "      <td>11</td>\n",
              "      <td>1</td>\n",
              "      <td>6</td>\n",
              "      <td>2</td>\n",
              "      <td>1</td>\n",
              "      <td>6</td>\n",
              "      <td>2</td>\n",
              "      <td>1</td>\n",
              "      <td>1</td>\n",
              "      <td>2</td>\n",
              "      <td>5</td>\n",
              "      <td>0</td>\n",
              "      <td>0</td>\n",
              "      <td>0</td>\n",
              "      <td>0</td>\n",
              "      <td>0</td>\n",
              "      <td>0</td>\n",
              "      <td>3</td>\n",
              "      <td>11</td>\n",
              "      <td>0</td>\n",
              "      <td>2</td>\n",
              "      <td>27</td>\n",
              "      <td>60</td>\n",
              "      <td>7.000000</td>\n",
              "    </tr>\n",
              "    <tr>\n",
              "      <th>2</th>\n",
              "      <td>4141</td>\n",
              "      <td>1965</td>\n",
              "      <td>Graduation</td>\n",
              "      <td>Together</td>\n",
              "      <td>71613.0</td>\n",
              "      <td>0</td>\n",
              "      <td>0</td>\n",
              "      <td>21-08-2013</td>\n",
              "      <td>26</td>\n",
              "      <td>426</td>\n",
              "      <td>49</td>\n",
              "      <td>127</td>\n",
              "      <td>111</td>\n",
              "      <td>21</td>\n",
              "      <td>42</td>\n",
              "      <td>1</td>\n",
              "      <td>8</td>\n",
              "      <td>2</td>\n",
              "      <td>10</td>\n",
              "      <td>4</td>\n",
              "      <td>0</td>\n",
              "      <td>0</td>\n",
              "      <td>0</td>\n",
              "      <td>0</td>\n",
              "      <td>0</td>\n",
              "      <td>0</td>\n",
              "      <td>3</td>\n",
              "      <td>11</td>\n",
              "      <td>0</td>\n",
              "      <td>0</td>\n",
              "      <td>776</td>\n",
              "      <td>49</td>\n",
              "      <td>13.633333</td>\n",
              "    </tr>\n",
              "    <tr>\n",
              "      <th>3</th>\n",
              "      <td>6182</td>\n",
              "      <td>1984</td>\n",
              "      <td>Graduation</td>\n",
              "      <td>Together</td>\n",
              "      <td>26646.0</td>\n",
              "      <td>1</td>\n",
              "      <td>0</td>\n",
              "      <td>10-02-2014</td>\n",
              "      <td>26</td>\n",
              "      <td>11</td>\n",
              "      <td>4</td>\n",
              "      <td>20</td>\n",
              "      <td>10</td>\n",
              "      <td>3</td>\n",
              "      <td>5</td>\n",
              "      <td>2</td>\n",
              "      <td>2</td>\n",
              "      <td>0</td>\n",
              "      <td>4</td>\n",
              "      <td>6</td>\n",
              "      <td>0</td>\n",
              "      <td>0</td>\n",
              "      <td>0</td>\n",
              "      <td>0</td>\n",
              "      <td>0</td>\n",
              "      <td>0</td>\n",
              "      <td>3</td>\n",
              "      <td>11</td>\n",
              "      <td>0</td>\n",
              "      <td>1</td>\n",
              "      <td>53</td>\n",
              "      <td>30</td>\n",
              "      <td>7.866667</td>\n",
              "    </tr>\n",
              "    <tr>\n",
              "      <th>4</th>\n",
              "      <td>5324</td>\n",
              "      <td>1981</td>\n",
              "      <td>PhD</td>\n",
              "      <td>Married</td>\n",
              "      <td>58293.0</td>\n",
              "      <td>1</td>\n",
              "      <td>0</td>\n",
              "      <td>19-01-2014</td>\n",
              "      <td>94</td>\n",
              "      <td>173</td>\n",
              "      <td>43</td>\n",
              "      <td>118</td>\n",
              "      <td>46</td>\n",
              "      <td>27</td>\n",
              "      <td>15</td>\n",
              "      <td>5</td>\n",
              "      <td>5</td>\n",
              "      <td>3</td>\n",
              "      <td>6</td>\n",
              "      <td>5</td>\n",
              "      <td>0</td>\n",
              "      <td>0</td>\n",
              "      <td>0</td>\n",
              "      <td>0</td>\n",
              "      <td>0</td>\n",
              "      <td>0</td>\n",
              "      <td>3</td>\n",
              "      <td>11</td>\n",
              "      <td>0</td>\n",
              "      <td>1</td>\n",
              "      <td>422</td>\n",
              "      <td>33</td>\n",
              "      <td>8.600000</td>\n",
              "    </tr>\n",
              "  </tbody>\n",
              "</table>\n",
              "</div>"
            ],
            "text/plain": [
              "     ID  Year_Birth   Education  ... Spending  Age  Seniority\n",
              "0  5524        1957  Graduation  ...     1617   57  25.333333\n",
              "1  2174        1954  Graduation  ...       27   60   7.000000\n",
              "2  4141        1965  Graduation  ...      776   49  13.633333\n",
              "3  6182        1984  Graduation  ...       53   30   7.866667\n",
              "4  5324        1981         PhD  ...      422   33   8.600000\n",
              "\n",
              "[5 rows x 33 columns]"
            ]
          },
          "metadata": {},
          "execution_count": 54
        }
      ]
    },
    {
      "cell_type": "code",
      "metadata": {
        "colab": {
          "base_uri": "https://localhost:8080/",
          "height": 320
        },
        "id": "g-bJZVfKlkG5",
        "outputId": "3e494f9e-3e91-49ee-9509-8f1c778529ac"
      },
      "source": [
        "data.describe()"
      ],
      "execution_count": null,
      "outputs": [
        {
          "output_type": "execute_result",
          "data": {
            "text/html": [
              "<div>\n",
              "<style scoped>\n",
              "    .dataframe tbody tr th:only-of-type {\n",
              "        vertical-align: middle;\n",
              "    }\n",
              "\n",
              "    .dataframe tbody tr th {\n",
              "        vertical-align: top;\n",
              "    }\n",
              "\n",
              "    .dataframe thead th {\n",
              "        text-align: right;\n",
              "    }\n",
              "</style>\n",
              "<table border=\"1\" class=\"dataframe\">\n",
              "  <thead>\n",
              "    <tr style=\"text-align: right;\">\n",
              "      <th></th>\n",
              "      <th>ID</th>\n",
              "      <th>Year_Birth</th>\n",
              "      <th>Income</th>\n",
              "      <th>Kidhome</th>\n",
              "      <th>Teenhome</th>\n",
              "      <th>Recency</th>\n",
              "      <th>Wines</th>\n",
              "      <th>Fruits</th>\n",
              "      <th>Meat</th>\n",
              "      <th>Fish</th>\n",
              "      <th>Sweets</th>\n",
              "      <th>Gold</th>\n",
              "      <th>DealPurchases</th>\n",
              "      <th>WebPurchases</th>\n",
              "      <th>CatalogPurchases</th>\n",
              "      <th>StorePurchases</th>\n",
              "      <th>NumWebVisitsMonth</th>\n",
              "      <th>AcceptedCmp3</th>\n",
              "      <th>AcceptedCmp4</th>\n",
              "      <th>AcceptedCmp5</th>\n",
              "      <th>AcceptedCmp1</th>\n",
              "      <th>AcceptedCmp2</th>\n",
              "      <th>Complain</th>\n",
              "      <th>Z_CostContact</th>\n",
              "      <th>Z_Revenue</th>\n",
              "      <th>Response</th>\n",
              "      <th>Children</th>\n",
              "      <th>Spending</th>\n",
              "      <th>Age</th>\n",
              "      <th>Seniority</th>\n",
              "    </tr>\n",
              "  </thead>\n",
              "  <tbody>\n",
              "    <tr>\n",
              "      <th>count</th>\n",
              "      <td>2240.000000</td>\n",
              "      <td>2240.000000</td>\n",
              "      <td>2216.000000</td>\n",
              "      <td>2240.000000</td>\n",
              "      <td>2240.000000</td>\n",
              "      <td>2240.000000</td>\n",
              "      <td>2240.000000</td>\n",
              "      <td>2240.000000</td>\n",
              "      <td>2240.000000</td>\n",
              "      <td>2240.000000</td>\n",
              "      <td>2240.000000</td>\n",
              "      <td>2240.000000</td>\n",
              "      <td>2240.000000</td>\n",
              "      <td>2240.000000</td>\n",
              "      <td>2240.000000</td>\n",
              "      <td>2240.000000</td>\n",
              "      <td>2240.000000</td>\n",
              "      <td>2240.000000</td>\n",
              "      <td>2240.000000</td>\n",
              "      <td>2240.000000</td>\n",
              "      <td>2240.000000</td>\n",
              "      <td>2240.000000</td>\n",
              "      <td>2240.000000</td>\n",
              "      <td>2240.0</td>\n",
              "      <td>2240.0</td>\n",
              "      <td>2240.000000</td>\n",
              "      <td>2240.000000</td>\n",
              "      <td>2240.000000</td>\n",
              "      <td>2240.000000</td>\n",
              "      <td>2240.000000</td>\n",
              "    </tr>\n",
              "    <tr>\n",
              "      <th>mean</th>\n",
              "      <td>5592.159821</td>\n",
              "      <td>1968.805804</td>\n",
              "      <td>52247.251354</td>\n",
              "      <td>0.444196</td>\n",
              "      <td>0.506250</td>\n",
              "      <td>49.109375</td>\n",
              "      <td>303.935714</td>\n",
              "      <td>26.302232</td>\n",
              "      <td>166.950000</td>\n",
              "      <td>37.525446</td>\n",
              "      <td>27.062946</td>\n",
              "      <td>44.021875</td>\n",
              "      <td>2.325000</td>\n",
              "      <td>4.084821</td>\n",
              "      <td>2.662054</td>\n",
              "      <td>5.790179</td>\n",
              "      <td>5.316518</td>\n",
              "      <td>0.072768</td>\n",
              "      <td>0.074554</td>\n",
              "      <td>0.072768</td>\n",
              "      <td>0.064286</td>\n",
              "      <td>0.013393</td>\n",
              "      <td>0.009375</td>\n",
              "      <td>3.0</td>\n",
              "      <td>11.0</td>\n",
              "      <td>0.149107</td>\n",
              "      <td>0.950446</td>\n",
              "      <td>605.798214</td>\n",
              "      <td>45.194196</td>\n",
              "      <td>15.019405</td>\n",
              "    </tr>\n",
              "    <tr>\n",
              "      <th>std</th>\n",
              "      <td>3246.662198</td>\n",
              "      <td>11.984069</td>\n",
              "      <td>25173.076661</td>\n",
              "      <td>0.538398</td>\n",
              "      <td>0.544538</td>\n",
              "      <td>28.962453</td>\n",
              "      <td>336.597393</td>\n",
              "      <td>39.773434</td>\n",
              "      <td>225.715373</td>\n",
              "      <td>54.628979</td>\n",
              "      <td>41.280498</td>\n",
              "      <td>52.167439</td>\n",
              "      <td>1.932238</td>\n",
              "      <td>2.778714</td>\n",
              "      <td>2.923101</td>\n",
              "      <td>3.250958</td>\n",
              "      <td>2.426645</td>\n",
              "      <td>0.259813</td>\n",
              "      <td>0.262728</td>\n",
              "      <td>0.259813</td>\n",
              "      <td>0.245316</td>\n",
              "      <td>0.114976</td>\n",
              "      <td>0.096391</td>\n",
              "      <td>0.0</td>\n",
              "      <td>0.0</td>\n",
              "      <td>0.356274</td>\n",
              "      <td>0.751803</td>\n",
              "      <td>602.249288</td>\n",
              "      <td>11.984069</td>\n",
              "      <td>6.737417</td>\n",
              "    </tr>\n",
              "    <tr>\n",
              "      <th>min</th>\n",
              "      <td>0.000000</td>\n",
              "      <td>1893.000000</td>\n",
              "      <td>1730.000000</td>\n",
              "      <td>0.000000</td>\n",
              "      <td>0.000000</td>\n",
              "      <td>0.000000</td>\n",
              "      <td>0.000000</td>\n",
              "      <td>0.000000</td>\n",
              "      <td>0.000000</td>\n",
              "      <td>0.000000</td>\n",
              "      <td>0.000000</td>\n",
              "      <td>0.000000</td>\n",
              "      <td>0.000000</td>\n",
              "      <td>0.000000</td>\n",
              "      <td>0.000000</td>\n",
              "      <td>0.000000</td>\n",
              "      <td>0.000000</td>\n",
              "      <td>0.000000</td>\n",
              "      <td>0.000000</td>\n",
              "      <td>0.000000</td>\n",
              "      <td>0.000000</td>\n",
              "      <td>0.000000</td>\n",
              "      <td>0.000000</td>\n",
              "      <td>3.0</td>\n",
              "      <td>11.0</td>\n",
              "      <td>0.000000</td>\n",
              "      <td>0.000000</td>\n",
              "      <td>5.000000</td>\n",
              "      <td>18.000000</td>\n",
              "      <td>3.233333</td>\n",
              "    </tr>\n",
              "    <tr>\n",
              "      <th>25%</th>\n",
              "      <td>2828.250000</td>\n",
              "      <td>1959.000000</td>\n",
              "      <td>35303.000000</td>\n",
              "      <td>0.000000</td>\n",
              "      <td>0.000000</td>\n",
              "      <td>24.000000</td>\n",
              "      <td>23.750000</td>\n",
              "      <td>1.000000</td>\n",
              "      <td>16.000000</td>\n",
              "      <td>3.000000</td>\n",
              "      <td>1.000000</td>\n",
              "      <td>9.000000</td>\n",
              "      <td>1.000000</td>\n",
              "      <td>2.000000</td>\n",
              "      <td>0.000000</td>\n",
              "      <td>3.000000</td>\n",
              "      <td>3.000000</td>\n",
              "      <td>0.000000</td>\n",
              "      <td>0.000000</td>\n",
              "      <td>0.000000</td>\n",
              "      <td>0.000000</td>\n",
              "      <td>0.000000</td>\n",
              "      <td>0.000000</td>\n",
              "      <td>3.0</td>\n",
              "      <td>11.0</td>\n",
              "      <td>0.000000</td>\n",
              "      <td>0.000000</td>\n",
              "      <td>68.750000</td>\n",
              "      <td>37.000000</td>\n",
              "      <td>9.258333</td>\n",
              "    </tr>\n",
              "    <tr>\n",
              "      <th>50%</th>\n",
              "      <td>5458.500000</td>\n",
              "      <td>1970.000000</td>\n",
              "      <td>51381.500000</td>\n",
              "      <td>0.000000</td>\n",
              "      <td>0.000000</td>\n",
              "      <td>49.000000</td>\n",
              "      <td>173.500000</td>\n",
              "      <td>8.000000</td>\n",
              "      <td>67.000000</td>\n",
              "      <td>12.000000</td>\n",
              "      <td>8.000000</td>\n",
              "      <td>24.000000</td>\n",
              "      <td>2.000000</td>\n",
              "      <td>4.000000</td>\n",
              "      <td>2.000000</td>\n",
              "      <td>5.000000</td>\n",
              "      <td>6.000000</td>\n",
              "      <td>0.000000</td>\n",
              "      <td>0.000000</td>\n",
              "      <td>0.000000</td>\n",
              "      <td>0.000000</td>\n",
              "      <td>0.000000</td>\n",
              "      <td>0.000000</td>\n",
              "      <td>3.0</td>\n",
              "      <td>11.0</td>\n",
              "      <td>0.000000</td>\n",
              "      <td>1.000000</td>\n",
              "      <td>396.000000</td>\n",
              "      <td>44.000000</td>\n",
              "      <td>15.083333</td>\n",
              "    </tr>\n",
              "    <tr>\n",
              "      <th>75%</th>\n",
              "      <td>8427.750000</td>\n",
              "      <td>1977.000000</td>\n",
              "      <td>68522.000000</td>\n",
              "      <td>1.000000</td>\n",
              "      <td>1.000000</td>\n",
              "      <td>74.000000</td>\n",
              "      <td>504.250000</td>\n",
              "      <td>33.000000</td>\n",
              "      <td>232.000000</td>\n",
              "      <td>50.000000</td>\n",
              "      <td>33.000000</td>\n",
              "      <td>56.000000</td>\n",
              "      <td>3.000000</td>\n",
              "      <td>6.000000</td>\n",
              "      <td>4.000000</td>\n",
              "      <td>8.000000</td>\n",
              "      <td>7.000000</td>\n",
              "      <td>0.000000</td>\n",
              "      <td>0.000000</td>\n",
              "      <td>0.000000</td>\n",
              "      <td>0.000000</td>\n",
              "      <td>0.000000</td>\n",
              "      <td>0.000000</td>\n",
              "      <td>3.0</td>\n",
              "      <td>11.0</td>\n",
              "      <td>0.000000</td>\n",
              "      <td>1.000000</td>\n",
              "      <td>1045.500000</td>\n",
              "      <td>55.000000</td>\n",
              "      <td>20.866667</td>\n",
              "    </tr>\n",
              "    <tr>\n",
              "      <th>max</th>\n",
              "      <td>11191.000000</td>\n",
              "      <td>1996.000000</td>\n",
              "      <td>666666.000000</td>\n",
              "      <td>2.000000</td>\n",
              "      <td>2.000000</td>\n",
              "      <td>99.000000</td>\n",
              "      <td>1493.000000</td>\n",
              "      <td>199.000000</td>\n",
              "      <td>1725.000000</td>\n",
              "      <td>259.000000</td>\n",
              "      <td>263.000000</td>\n",
              "      <td>362.000000</td>\n",
              "      <td>15.000000</td>\n",
              "      <td>27.000000</td>\n",
              "      <td>28.000000</td>\n",
              "      <td>13.000000</td>\n",
              "      <td>20.000000</td>\n",
              "      <td>1.000000</td>\n",
              "      <td>1.000000</td>\n",
              "      <td>1.000000</td>\n",
              "      <td>1.000000</td>\n",
              "      <td>1.000000</td>\n",
              "      <td>1.000000</td>\n",
              "      <td>3.0</td>\n",
              "      <td>11.0</td>\n",
              "      <td>1.000000</td>\n",
              "      <td>3.000000</td>\n",
              "      <td>2525.000000</td>\n",
              "      <td>121.000000</td>\n",
              "      <td>26.533333</td>\n",
              "    </tr>\n",
              "  </tbody>\n",
              "</table>\n",
              "</div>"
            ],
            "text/plain": [
              "                 ID   Year_Birth  ...          Age    Seniority\n",
              "count   2240.000000  2240.000000  ...  2240.000000  2240.000000\n",
              "mean    5592.159821  1968.805804  ...    45.194196    15.019405\n",
              "std     3246.662198    11.984069  ...    11.984069     6.737417\n",
              "min        0.000000  1893.000000  ...    18.000000     3.233333\n",
              "25%     2828.250000  1959.000000  ...    37.000000     9.258333\n",
              "50%     5458.500000  1970.000000  ...    44.000000    15.083333\n",
              "75%     8427.750000  1977.000000  ...    55.000000    20.866667\n",
              "max    11191.000000  1996.000000  ...   121.000000    26.533333\n",
              "\n",
              "[8 rows x 30 columns]"
            ]
          },
          "metadata": {},
          "execution_count": 55
        }
      ]
    },
    {
      "cell_type": "code",
      "metadata": {
        "id": "aUi-uYoFMKpr"
      },
      "source": [
        "data1.drop(['Kidhome','Teenhome','Complain','Z_CostContact','Z_Revenue'],axis=1,inplace=True)"
      ],
      "execution_count": null,
      "outputs": []
    },
    {
      "cell_type": "code",
      "metadata": {
        "colab": {
          "base_uri": "https://localhost:8080/"
        },
        "id": "YiJMQ9hOSVr8",
        "outputId": "34b7f2b7-053f-46e2-d879-80da4d3b1531"
      },
      "source": [
        "data1['Income'].value_counts()"
      ],
      "execution_count": null,
      "outputs": [
        {
          "output_type": "execute_result",
          "data": {
            "text/plain": [
              "7500.0     12\n",
              "35860.0     4\n",
              "18929.0     3\n",
              "34176.0     3\n",
              "48432.0     3\n",
              "           ..\n",
              "71022.0     1\n",
              "30675.0     1\n",
              "30168.0     1\n",
              "19656.0     1\n",
              "41728.0     1\n",
              "Name: Income, Length: 1974, dtype: int64"
            ]
          },
          "metadata": {},
          "execution_count": 57
        }
      ]
    },
    {
      "cell_type": "markdown",
      "metadata": {
        "id": "CL2d1GXrDi_Y"
      },
      "source": [
        "**Outliners**\n",
        "\n",
        "Finally I will detect and Remove the Outliers in the data set\n",
        "\n",
        "I will use Box plot to find the outliners as if there is an outlier it will be plotted as point in boxplot but other population will be grouped together and display as boxes."
      ]
    },
    {
      "cell_type": "code",
      "metadata": {
        "colab": {
          "base_uri": "https://localhost:8080/",
          "height": 1000
        },
        "id": "N3-1O9I6CSU3",
        "outputId": "50021e61-2c59-49e2-8686-a8bead873e3b"
      },
      "source": [
        "# Creating Box Plot for Age\n",
        "import matplotlib.pyplot as plt\n",
        "plt.figure(figsize=(10,6))\n",
        "sns.boxplot(data['Age'],orient='v')\n",
        "plt.title('Age Distribution')\n",
        "\n",
        "# Creating Box Plot for Income\n",
        "plt.figure(figsize=(10,6))\n",
        "sns.boxplot(data['Income'],orient='v')\n",
        "plt.title('Income Distribution')\n",
        "\n",
        "# Creating Box Plot for Spending\n",
        "plt.figure(figsize=(10,6))\n",
        "sns.boxplot(data['Spending'],orient='v')\n",
        "plt.title('Spending Distribution')\n",
        "\n",
        "# Creating Box Plot for Seniority\n",
        "plt.figure(figsize=(10,6))\n",
        "sns.boxplot(data['Seniority'],orient='v')\n",
        "plt.title('Seniority Distribution')\n"
      ],
      "execution_count": null,
      "outputs": [
        {
          "output_type": "execute_result",
          "data": {
            "text/plain": [
              "Text(0.5, 1.0, 'Seniority Distribution')"
            ]
          },
          "metadata": {},
          "execution_count": 58
        },
        {
          "output_type": "display_data",
          "data": {
            "image/png": "[encoded data removed]",
            "text/plain": [
              "<Figure size 720x432 with 1 Axes>"
            ]
          },
          "metadata": {
            "needs_background": "light"
          }
        },
        {
          "output_type": "display_data",
          "data": {
            "image/png": "[encoded data removed]",
            "text/plain": [
              "<Figure size 720x432 with 1 Axes>"
            ]
          },
          "metadata": {
            "needs_background": "light"
          }
        },
        {
          "output_type": "display_data",
          "data": {
            "image/png": "[encoded data removed]",
            "text/plain": [
              "<Figure size 720x432 with 1 Axes>"
            ]
          },
          "metadata": {
            "needs_background": "light"
          }
        },
        {
          "output_type": "display_data",
          "data": {
            "image/png": "[encoded data removed]",
            "text/plain": [
              "<Figure size 720x432 with 1 Axes>"
            ]
          },
          "metadata": {
            "needs_background": "light"
          }
        }
      ]
    },
    {
      "cell_type": "markdown",
      "metadata": {
        "id": "eS7TJFDhDQLl"
      },
      "source": [
        "The plots shows :\n",
        "\n",
        "Age: Above 100 are outliers\n",
        "\n",
        "Income: 100k-200k and > 600k. I will remove only the >600k because some of the customers earn 100k-200k\n",
        "\n",
        "Spending: > 2500. I will not remove this as there were actual spending more than 2500"
      ]
    },
    {
      "cell_type": "code",
      "metadata": {
        "colab": {
          "base_uri": "https://localhost:8080/"
        },
        "id": "x1iTbaTnDHCx",
        "outputId": "01bb7094-49de-49b1-b060-4799e0c7404e"
      },
      "source": [
        "#find any null values\n",
        "\n",
        "data1.isnull().sum()"
      ],
      "execution_count": null,
      "outputs": [
        {
          "output_type": "execute_result",
          "data": {
            "text/plain": [
              "ID                    0\n",
              "Year_Birth            0\n",
              "Education             0\n",
              "Marital_Status        0\n",
              "Income               24\n",
              "Dt_Customer           0\n",
              "Recency               0\n",
              "Wines                 0\n",
              "Fruits                0\n",
              "Meat                  0\n",
              "Fish                  0\n",
              "Sweets                0\n",
              "Gold                  0\n",
              "DealPurchases         0\n",
              "WebPurchases          0\n",
              "CatalogPurchases      0\n",
              "StorePurchases        0\n",
              "NumWebVisitsMonth     0\n",
              "AcceptedCmp3          0\n",
              "AcceptedCmp4          0\n",
              "AcceptedCmp5          0\n",
              "AcceptedCmp1          0\n",
              "AcceptedCmp2          0\n",
              "Response              0\n",
              "Children              0\n",
              "Spending              0\n",
              "Age                   0\n",
              "Seniority             0\n",
              "dtype: int64"
            ]
          },
          "metadata": {},
          "execution_count": 59
        }
      ]
    },
    {
      "cell_type": "code",
      "metadata": {
        "id": "k2KZN2iTCydx"
      },
      "source": [
        "# delete outliners\n",
        "data1=data1[data1['Income']<600000]"
      ],
      "execution_count": null,
      "outputs": []
    },
    {
      "cell_type": "code",
      "metadata": {
        "id": "0-I-5-uzSVu_"
      },
      "source": [
        "#fill the null values\n",
        "\n",
        "data1['Income'] = data1['Income'].fillna(data1['Income'].mean())"
      ],
      "execution_count": null,
      "outputs": []
    },
    {
      "cell_type": "code",
      "metadata": {
        "colab": {
          "base_uri": "https://localhost:8080/"
        },
        "id": "nAwDs4FvSVwz",
        "outputId": "2b5efefa-a247-476f-e78e-6cf3e474bcbc"
      },
      "source": [
        "data1.isnull().sum()"
      ],
      "execution_count": null,
      "outputs": [
        {
          "output_type": "execute_result",
          "data": {
            "text/plain": [
              "ID                   0\n",
              "Year_Birth           0\n",
              "Education            0\n",
              "Marital_Status       0\n",
              "Income               0\n",
              "Dt_Customer          0\n",
              "Recency              0\n",
              "Wines                0\n",
              "Fruits               0\n",
              "Meat                 0\n",
              "Fish                 0\n",
              "Sweets               0\n",
              "Gold                 0\n",
              "DealPurchases        0\n",
              "WebPurchases         0\n",
              "CatalogPurchases     0\n",
              "StorePurchases       0\n",
              "NumWebVisitsMonth    0\n",
              "AcceptedCmp3         0\n",
              "AcceptedCmp4         0\n",
              "AcceptedCmp5         0\n",
              "AcceptedCmp1         0\n",
              "AcceptedCmp2         0\n",
              "Response             0\n",
              "Children             0\n",
              "Spending             0\n",
              "Age                  0\n",
              "Seniority            0\n",
              "dtype: int64"
            ]
          },
          "metadata": {},
          "execution_count": 62
        }
      ]
    },
    {
      "cell_type": "code",
      "metadata": {
        "id": "SebA6a0LvECs",
        "colab": {
          "base_uri": "https://localhost:8080/",
          "height": 489
        },
        "outputId": "4d4dcb4b-fbbe-4b41-af91-be1c83e23613"
      },
      "source": [
        "# plot a pie-chart for finding education of customers\n",
        "\n",
        "plt.figure(figsize=(8, 6), dpi=100)\n",
        "\n",
        "plt.pie(data1['Education'].value_counts(),labels= data1['Education'].value_counts().index,colors = sns.color_palette('pastel')[0:5],autopct='%.0f%%') \n",
        "plt.show()"
      ],
      "execution_count": null,
      "outputs": [
        {
          "output_type": "display_data",
          "data": {
            "image/png": "[encoded data removed]",
            "text/plain": [
              "<Figure size 800x600 with 1 Axes>"
            ]
          },
          "metadata": {}
        }
      ]
    },
    {
      "cell_type": "markdown",
      "metadata": {
        "id": "JtEgxoC8kwnE"
      },
      "source": [
        "**Insights:**\n",
        "\n",
        "From the above pie chart,\n",
        "\n",
        "We can conclude that 50% of the customers are graduated.\n",
        "\n",
        "22% customers have done PhD\n",
        "\n",
        "17% customers with Master degrees.\n"
      ]
    },
    {
      "cell_type": "code",
      "metadata": {
        "id": "0IMqBvkEsHpy",
        "colab": {
          "base_uri": "https://localhost:8080/",
          "height": 436
        },
        "outputId": "0d3689ba-9c10-468d-9768-3f655a50b3c1"
      },
      "source": [
        "#Plot a graph to find the marital status of the customers\n",
        "\n",
        "plt.figure(figsize=(8, 6), dpi=80)\n",
        "\n",
        "sns.set_theme(style = 'darkgrid')\n",
        "sns.countplot(x = data1['Marital_Status'])\n",
        "\n",
        "plt.show()"
      ],
      "execution_count": null,
      "outputs": [
        {
          "output_type": "display_data",
          "data": {
            "image/png": "[encoded data removed]",
            "text/plain": [
              "<Figure size 640x480 with 1 Axes>"
            ]
          },
          "metadata": {
            "needs_background": "light"
          }
        }
      ]
    },
    {
      "cell_type": "markdown",
      "metadata": {
        "id": "3gQVx3NqlhIx"
      },
      "source": [
        "\n",
        "**Insights:**\n",
        "\n",
        "In the above graph,\n",
        "\n",
        "The customers who visit the market most are married ,above 800.\n",
        "\n",
        "Customers who are living together are approx 600.\n",
        "\n",
        "single customers are between 400-500\n",
        "\n",
        "Divorced are between 200-250 "
      ]
    },
    {
      "cell_type": "markdown",
      "metadata": {
        "id": "wDsF0KiXCIeA"
      },
      "source": [
        "**Does the income increase as the age is more?**"
      ]
    },
    {
      "cell_type": "code",
      "metadata": {
        "id": "Curkv9ddsHtV",
        "colab": {
          "base_uri": "https://localhost:8080/",
          "height": 436
        },
        "outputId": "03a7725c-3bf8-4f3c-f8a0-07c23d4a1a6c"
      },
      "source": [
        "# Plot a graph for Age and Income of the customers.\n",
        "\n",
        "plt.figure(figsize=(8, 6), dpi=80)\n",
        "\n",
        "sns.lineplot(data=data1, x=\"Age\", y=\"Income\")\n",
        "plt.show()"
      ],
      "execution_count": null,
      "outputs": [
        {
          "output_type": "display_data",
          "data": {
            "image/png": "[encoded data removed]",
            "text/plain": [
              "<Figure size 640x480 with 1 Axes>"
            ]
          },
          "metadata": {}
        }
      ]
    },
    {
      "cell_type": "markdown",
      "metadata": {
        "id": "p2P2akHAw-a2"
      },
      "source": [
        "**Insights:**\n",
        "\n",
        "In the above graph,\n",
        "\n",
        "Customers with Age group of 60-80 years have the highest income compared to all other age groups\n",
        "\n"
      ]
    },
    {
      "cell_type": "markdown",
      "metadata": {
        "id": "pSbzNWjgzwcs"
      },
      "source": [
        "**Check if the income depends on the education.**\n",
        "\n",
        "**Does the customers with higher education has more income?**"
      ]
    },
    {
      "cell_type": "code",
      "metadata": {
        "colab": {
          "base_uri": "https://localhost:8080/",
          "height": 238
        },
        "id": "O268UcbaMWxM",
        "outputId": "ba36bf42-3b62-49a3-88bd-e6dd14ae94ab"
      },
      "source": [
        "\n",
        "Edu_Inc=data1.groupby(['Education'])[('Income')].mean()\n",
        "Edu_Inc_data=pd.DataFrame(data=Edu_Inc)\n",
        "Edu_Inc=Edu_Inc_data.sort_values(by=('Income'),ascending=False,axis=0)\n",
        "Edu_Inc"
      ],
      "execution_count": null,
      "outputs": [
        {
          "output_type": "execute_result",
          "data": {
            "text/html": [
              "<div>\n",
              "<style scoped>\n",
              "    .dataframe tbody tr th:only-of-type {\n",
              "        vertical-align: middle;\n",
              "    }\n",
              "\n",
              "    .dataframe tbody tr th {\n",
              "        vertical-align: top;\n",
              "    }\n",
              "\n",
              "    .dataframe thead th {\n",
              "        text-align: right;\n",
              "    }\n",
              "</style>\n",
              "<table border=\"1\" class=\"dataframe\">\n",
              "  <thead>\n",
              "    <tr style=\"text-align: right;\">\n",
              "      <th></th>\n",
              "      <th>Income</th>\n",
              "    </tr>\n",
              "    <tr>\n",
              "      <th>Education</th>\n",
              "      <th></th>\n",
              "    </tr>\n",
              "  </thead>\n",
              "  <tbody>\n",
              "    <tr>\n",
              "      <th>PhD</th>\n",
              "      <td>56145.313929</td>\n",
              "    </tr>\n",
              "    <tr>\n",
              "      <th>Master</th>\n",
              "      <td>52917.534247</td>\n",
              "    </tr>\n",
              "    <tr>\n",
              "      <th>Graduation</th>\n",
              "      <td>52169.749776</td>\n",
              "    </tr>\n",
              "    <tr>\n",
              "      <th>2n Cycle</th>\n",
              "      <td>47633.190000</td>\n",
              "    </tr>\n",
              "    <tr>\n",
              "      <th>Basic</th>\n",
              "      <td>20306.259259</td>\n",
              "    </tr>\n",
              "  </tbody>\n",
              "</table>\n",
              "</div>"
            ],
            "text/plain": [
              "                  Income\n",
              "Education               \n",
              "PhD         56145.313929\n",
              "Master      52917.534247\n",
              "Graduation  52169.749776\n",
              "2n Cycle    47633.190000\n",
              "Basic       20306.259259"
            ]
          },
          "metadata": {},
          "execution_count": 66
        }
      ]
    },
    {
      "cell_type": "code",
      "metadata": {
        "colab": {
          "base_uri": "https://localhost:8080/",
          "height": 464
        },
        "id": "rRaRYe0Q57XC",
        "outputId": "62a104b2-0fc3-4e88-e0d9-3308f1fe04e0"
      },
      "source": [
        "plt.figure(figsize=(10,7))\n",
        "plt.title('Education vs Income')\n",
        "sns.barplot(x=('Income'),y=Edu_Inc.index,data=Edu_Inc,palette='viridis')\n",
        "plt.show()"
      ],
      "execution_count": null,
      "outputs": [
        {
          "output_type": "display_data",
          "data": {
            "image/png": "[encoded data removed]",
            "text/plain": [
              "<Figure size 720x504 with 1 Axes>"
            ]
          },
          "metadata": {}
        }
      ]
    },
    {
      "cell_type": "markdown",
      "metadata": {
        "id": "WCvrRV9_0M-7"
      },
      "source": [
        "**Insights:**\n",
        "\n",
        "As per the graph,\n",
        "\n",
        "Yes,The customers with higher education i.e PhD has higher income.\n",
        "Masters and Graduates have better income compared to under graduates."
      ]
    },
    {
      "cell_type": "markdown",
      "metadata": {
        "id": "Nk_1Fqf01Sxi"
      },
      "source": [
        "\n",
        "\n",
        "**Who has more income.Couple or single?**"
      ]
    },
    {
      "cell_type": "code",
      "metadata": {
        "colab": {
          "base_uri": "https://localhost:8080/",
          "height": 332
        },
        "id": "SaX8UgC6Zpe8",
        "outputId": "0db6b9bb-5d3e-492a-f01a-0d87e53c716f"
      },
      "source": [
        "Mar_Inc=data1.groupby(['Marital_Status'])[('Income')].mean()\n",
        "Mar_Inc_data=pd.DataFrame(data=Mar_Inc)\n",
        "Mar_Inc=Mar_Inc_data.sort_values(by=('Income'),ascending=False,axis=0)\n",
        "Mar_Inc"
      ],
      "execution_count": null,
      "outputs": [
        {
          "output_type": "execute_result",
          "data": {
            "text/html": [
              "<div>\n",
              "<style scoped>\n",
              "    .dataframe tbody tr th:only-of-type {\n",
              "        vertical-align: middle;\n",
              "    }\n",
              "\n",
              "    .dataframe tbody tr th {\n",
              "        vertical-align: top;\n",
              "    }\n",
              "\n",
              "    .dataframe thead th {\n",
              "        text-align: right;\n",
              "    }\n",
              "</style>\n",
              "<table border=\"1\" class=\"dataframe\">\n",
              "  <thead>\n",
              "    <tr style=\"text-align: right;\">\n",
              "      <th></th>\n",
              "      <th>Income</th>\n",
              "    </tr>\n",
              "    <tr>\n",
              "      <th>Marital_Status</th>\n",
              "      <th></th>\n",
              "    </tr>\n",
              "  </thead>\n",
              "  <tbody>\n",
              "    <tr>\n",
              "      <th>Absurd</th>\n",
              "      <td>72365.500000</td>\n",
              "    </tr>\n",
              "    <tr>\n",
              "      <th>Widow</th>\n",
              "      <td>56481.552632</td>\n",
              "    </tr>\n",
              "    <tr>\n",
              "      <th>Divorced</th>\n",
              "      <td>52834.228448</td>\n",
              "    </tr>\n",
              "    <tr>\n",
              "      <th>Together</th>\n",
              "      <td>52173.120629</td>\n",
              "    </tr>\n",
              "    <tr>\n",
              "      <th>Married</th>\n",
              "      <td>51724.978996</td>\n",
              "    </tr>\n",
              "    <tr>\n",
              "      <th>Single</th>\n",
              "      <td>50995.350318</td>\n",
              "    </tr>\n",
              "    <tr>\n",
              "      <th>YOLO</th>\n",
              "      <td>48432.000000</td>\n",
              "    </tr>\n",
              "    <tr>\n",
              "      <th>Alone</th>\n",
              "      <td>43789.000000</td>\n",
              "    </tr>\n",
              "  </tbody>\n",
              "</table>\n",
              "</div>"
            ],
            "text/plain": [
              "                      Income\n",
              "Marital_Status              \n",
              "Absurd          72365.500000\n",
              "Widow           56481.552632\n",
              "Divorced        52834.228448\n",
              "Together        52173.120629\n",
              "Married         51724.978996\n",
              "Single          50995.350318\n",
              "YOLO            48432.000000\n",
              "Alone           43789.000000"
            ]
          },
          "metadata": {},
          "execution_count": 68
        }
      ]
    },
    {
      "cell_type": "code",
      "metadata": {
        "colab": {
          "base_uri": "https://localhost:8080/",
          "height": 464
        },
        "id": "xm-JRlcG57fk",
        "outputId": "af937add-cb01-4d7c-a2a3-4cf34aa4eddd"
      },
      "source": [
        "plt.figure(figsize=(10,7))\n",
        "plt.title('Marital_Status vs Income')\n",
        "sns.barplot(x=('Income'),y=Mar_Inc.index,data=Mar_Inc,palette='rocket_r')\n",
        "plt.show()"
      ],
      "execution_count": null,
      "outputs": [
        {
          "output_type": "display_data",
          "data": {
            "image/png": "[encoded data removed]",
            "text/plain": [
              "<Figure size 720x504 with 1 Axes>"
            ]
          },
          "metadata": {}
        }
      ]
    },
    {
      "cell_type": "markdown",
      "metadata": {
        "id": "HwfzDDeS15tQ"
      },
      "source": [
        "\n",
        "**Insight:**\n",
        "\n",
        "According to the graph plotted,Absurds are having higher income compared to all other marital status.\n",
        "\n"
      ]
    },
    {
      "cell_type": "code",
      "metadata": {
        "id": "YgXNsBZcsHwT",
        "colab": {
          "base_uri": "https://localhost:8080/",
          "height": 542
        },
        "outputId": "17a2210a-4a79-457f-cde7-98f5a2f5b016"
      },
      "source": [
        "# plot a graph to find which category of customers has more children\n",
        "\n",
        "import plotly.express as px\n",
        "\n",
        "fig = px.bar(data1, x='Marital_Status', y='Children')\n",
        "fig.show()"
      ],
      "execution_count": null,
      "outputs": [
        {
          "output_type": "display_data",
          "data": {
            "text/html": [
              "<html>\n",
              "<head><meta charset=\"utf-8\" /></head>\n",
              "<body>\n",
              "    <div>\n",
              "            <script src=\"https://cdnjs.cloudflare.com/ajax/libs/mathjax/2.7.5/MathJax.js?config=TeX-AMS-MML_SVG\"></script><script type=\"text/javascript\">if (window.MathJax) {MathJax.Hub.Config({SVG: {font: \"STIX-Web\"}});}</script>\n",
              "                <script type=\"text/javascript\">window.PlotlyConfig = {MathJaxConfig: 'local'};</script>\n",
              "        <script src=\"https://cdn.plot.ly/plotly-latest.min.js\"></script>    \n",
              "            <div id=\"0b164335-4e9e-479e-82ee-cd7304af47af\" class=\"plotly-graph-div\" style=\"height:525px; width:100%;\"></div>\n",
              "            <script type=\"text/javascript\">\n",
              "                \n",
              "                    window.PLOTLYENV=window.PLOTLYENV || {};\n",
              "                    \n",
              "                if (document.getElementById(\"0b164335-4e9e-479e-82ee-cd7304af47af\")) {\n",
              "                    Plotly.newPlot(\n",
              "                        '0b164335-4e9e-479e-82ee-cd7304af47af',\n",
              "                        [{\"alignmentgroup\": \"True\", \"hoverlabel\": {\"namelength\": 0}, \"hovertemplate\": \"Marital_Status=%{x}<br>Children=%{y}\", \"legendgroup\": \"\", \"marker\": {\"color\": \"#636efa\"}, \"name\": \"\", \"offsetgroup\": \"\", \"orientation\": \"v\", \"showlegend\": false, \"textposition\": \"auto\", \"type\": \"bar\", \"x\": [\"Single\", \"Single\", \"Together\", \"Together\", \"Married\", \"Together\", \"Divorced\", \"Married\", \"Together\", \"Together\", \"Married\", \"Divorced\", \"Divorced\", \"Married\", \"Single\", \"Married\", \"Together\", \"Married\", \"Single\", \"Married\", \"Married\", \"Married\", \"Married\", \"Together\", \"Single\", \"Married\", \"Married\", \"Married\", \"Divorced\", \"Together\", \"Together\", \"Divorced\", \"Married\", \"Single\", \"Married\", \"Married\", \"Widow\", \"Divorced\", \"Married\", \"Married\", \"Together\", \"Married\", \"Single\", \"Married\", \"Together\", \"Married\", \"Widow\", \"Married\", \"Single\", \"Divorced\", \"Married\", \"Together\", \"Divorced\", \"Single\", \"Married\", \"Single\", \"Together\", \"Single\", \"Widow\", \"Together\", \"Married\", \"Together\", \"Single\", \"Together\", \"Together\", \"Married\", \"Married\", \"Married\", \"Married\", \"Divorced\", \"Married\", \"Single\", \"Together\", \"Together\", \"Single\", \"Married\", \"Married\", \"Together\", \"Divorced\", \"Married\", \"Married\", \"Single\", \"Married\", \"Together\", \"Single\", \"Married\", \"Married\", \"Widow\", \"Divorced\", \"Married\", \"Married\", \"Single\", \"Single\", \"Together\", \"Married\", \"Married\", \"Together\", \"Married\", \"Married\", \"Single\", \"Married\", \"Together\", \"Single\", \"Together\", \"Single\", \"Married\", \"Single\", \"Married\", \"Married\", \"Together\", \"Together\", \"Together\", \"Single\", \"Married\", \"Divorced\", \"Single\", \"Together\", \"Single\", \"Married\", \"Together\", \"Married\", \"Alone\", \"Married\", \"Married\", \"Together\", \"Divorced\", \"Married\", \"Alone\", \"Divorced\", \"Single\", \"Together\", \"Married\", \"Single\", \"Together\", \"Married\", \"Married\", \"Together\", \"Married\", \"Married\", \"Married\", \"Married\", \"Together\", \"Alone\", \"Together\", \"Together\", \"Single\", \"Single\", \"Together\", \"Single\", \"Single\", \"Married\", \"Married\", \"Divorced\", \"Married\", \"Together\", \"Divorced\", \"Divorced\", \"Single\", \"Together\", \"Together\", \"Married\", \"Married\", \"Together\", \"Single\", \"Married\", \"Married\", \"Married\", \"Together\", \"Married\", \"Married\", \"Married\", \"Married\", \"Married\", \"Married\", \"Married\", \"Single\", \"Married\", \"Married\", \"Married\", \"Together\", \"Together\", \"Divorced\", \"Married\", \"Married\", \"Married\", \"Married\", \"Married\", \"Married\", \"Single\", \"Divorced\", \"Single\", \"Divorced\", \"Together\", \"Single\", \"Single\", \"Together\", \"Divorced\", \"Married\", \"Divorced\", \"Together\", \"Together\", \"Married\", \"Together\", \"Married\", \"Married\", \"Single\", \"Married\", \"Widow\", \"Together\", \"Together\", \"Married\", \"Together\", \"Married\", \"Divorced\", \"Together\", \"Together\", \"Divorced\", \"Married\", \"Together\", \"Single\", \"Divorced\", \"Together\", \"Single\", \"Married\", \"Married\", \"Together\", \"Single\", \"Single\", \"Single\", \"Widow\", \"Together\", \"Single\", \"Married\", \"Married\", \"Married\", \"Married\", \"Married\", \"Married\", \"Together\", \"Single\", \"Single\", \"Divorced\", \"Together\", \"Together\", \"Single\", \"Together\", \"Single\", \"Single\", \"Single\", \"Divorced\", \"Divorced\", \"Married\", \"Married\", \"Together\", \"Married\", \"Married\", \"Married\", \"Married\", \"Together\", \"Single\", \"Single\", \"Together\", \"Married\", \"Divorced\", \"Together\", \"Single\", \"Together\", \"Single\", \"Divorced\", \"Married\", \"Together\", \"Together\", \"Together\", \"Married\", \"Married\", \"Together\", \"Together\", \"Widow\", \"Divorced\", \"Together\", \"Together\", \"Married\", \"Together\", \"Together\", \"Together\", \"Divorced\", \"Together\", \"Single\", \"Divorced\", \"Divorced\", \"Together\", \"Married\", \"Single\", \"Together\", \"Married\", \"Widow\", \"Single\", \"Married\", \"Together\", \"Divorced\", \"Married\", \"Single\", \"Married\", \"Together\", \"Married\", \"Single\", \"Married\", \"Married\", \"Married\", \"Divorced\", \"Divorced\", \"Single\", \"Married\", \"Divorced\", \"Married\", \"Married\", \"Single\", \"Single\", \"Single\", \"Married\", \"Married\", \"Together\", \"Divorced\", \"Divorced\", \"Married\", \"Together\", \"Together\", \"Single\", \"Divorced\", \"Married\", \"Together\", \"Together\", \"Divorced\", \"Married\", \"Divorced\", \"Widow\", \"Married\", \"Married\", \"Married\", \"Single\", \"Married\", \"Single\", \"Single\", \"Married\", \"Married\", \"Married\", \"Together\", \"Married\", \"Widow\", \"Married\", \"Married\", \"Married\", \"Single\", \"Married\", \"Divorced\", \"Together\", \"Single\", \"Married\", \"Married\", \"Single\", \"Single\", \"Single\", \"Single\", \"Single\", \"Single\", \"Together\", \"Single\", \"Married\", \"Married\", \"Widow\", \"Married\", \"Single\", \"Single\", \"Together\", \"Together\", \"Together\", \"Divorced\", \"Together\", \"Together\", \"Single\", \"Married\", \"Married\", \"Together\", \"Married\", \"Together\", \"Single\", \"Together\", \"Divorced\", \"Together\", \"Single\", \"Together\", \"Single\", \"Married\", \"Single\", \"Divorced\", \"Together\", \"Married\", \"Single\", \"Married\", \"Married\", \"Single\", \"Together\", \"Married\", \"Together\", \"Together\", \"Single\", \"Married\", \"Married\", \"Married\", \"Together\", \"Married\", \"Married\", \"Married\", \"Married\", \"Married\", \"Together\", \"Married\", \"Single\", \"Married\", \"Together\", \"Married\", \"Single\", \"Together\", \"Divorced\", \"Widow\", \"Married\", \"Married\", \"Married\", \"Married\", \"Married\", \"Single\", \"Married\", \"Divorced\", \"Divorced\", \"Single\", \"Married\", \"Married\", \"Single\", \"Married\", \"Single\", \"Married\", \"Married\", \"Married\", \"Single\", \"Married\", \"Married\", \"Together\", \"Married\", \"Widow\", \"Widow\", \"Married\", \"Married\", \"Single\", \"Together\", \"Widow\", \"Married\", \"Together\", \"Married\", \"Married\", \"Together\", \"Married\", \"Single\", \"Married\", \"Single\", \"Married\", \"Married\", \"Married\", \"Married\", \"Divorced\", \"Single\", \"Married\", \"Together\", \"Divorced\", \"Together\", \"Married\", \"Married\", \"Widow\", \"Together\", \"Divorced\", \"Together\", \"Single\", \"Divorced\", \"Divorced\", \"Divorced\", \"Together\", \"Together\", \"Married\", \"Together\", \"Together\", \"Married\", \"Married\", \"Together\", \"Widow\", \"Married\", \"Single\", \"Married\", \"Divorced\", \"Together\", \"Single\", \"Married\", \"Together\", \"Together\", \"Single\", \"Married\", \"Single\", \"Together\", \"Married\", \"Divorced\", \"Single\", \"Married\", \"Married\", \"Married\", \"Married\", \"Together\", \"Married\", \"Single\", \"Married\", \"Widow\", \"Single\", \"Together\", \"Married\", \"Single\", \"Together\", \"Together\", \"Divorced\", \"Together\", \"Single\", \"Together\", \"Widow\", \"Single\", \"Married\", \"Together\", \"Married\", \"Widow\", \"Married\", \"Married\", \"Married\", \"Single\", \"Single\", \"Single\", \"Married\", \"Married\", \"Together\", \"Single\", \"Married\", \"Married\", \"Together\", \"Married\", \"Single\", \"Together\", \"Married\", \"Divorced\", \"Together\", \"Single\", \"Together\", \"Single\", \"Together\", \"Married\", \"Married\", \"Single\", \"Together\", \"Married\", \"Married\", \"Married\", \"Married\", \"Together\", \"Together\", \"Married\", \"Together\", \"Together\", \"Married\", \"Together\", \"Together\", \"Widow\", \"Married\", \"Together\", \"Together\", \"Single\", \"Married\", \"Single\", \"Together\", \"Married\", \"Together\", \"Divorced\", \"Married\", \"Married\", \"Together\", \"Single\", \"Together\", \"Single\", \"Married\", \"Together\", \"Single\", \"Widow\", \"Divorced\", \"Married\", \"Married\", \"Single\", \"Widow\", \"Married\", \"Married\", \"Single\", \"Married\", \"Single\", \"Together\", \"Widow\", \"Married\", \"Married\", \"Single\", \"Widow\", \"Single\", \"Married\", \"Married\", \"Single\", \"Together\", \"Divorced\", \"Single\", \"Married\", \"Together\", \"Married\", \"Single\", \"Single\", \"Divorced\", \"Single\", \"Married\", \"Divorced\", \"Married\", \"Together\", \"Together\", \"Divorced\", \"Single\", \"Together\", \"Married\", \"Together\", \"Divorced\", \"Married\", \"Together\", \"Single\", \"Together\", \"Married\", \"Together\", \"Divorced\", \"Divorced\", \"Together\", \"Together\", \"Together\", \"Single\", \"Together\", \"Married\", \"Widow\", \"Married\", \"Together\", \"Married\", \"Together\", \"Single\", \"Married\", \"Married\", \"Married\", \"Single\", \"Widow\", \"Married\", \"Single\", \"Married\", \"Married\", \"Single\", \"Married\", \"Single\", \"Divorced\", \"Divorced\", \"Together\", \"Together\", \"Together\", \"Divorced\", \"Single\", \"Married\", \"Together\", \"Together\", \"Divorced\", \"Single\", \"Together\", \"Together\", \"Widow\", \"Married\", \"Single\", \"Single\", \"Single\", \"Together\", \"Divorced\", \"Married\", \"Divorced\", \"Single\", \"Divorced\", \"Married\", \"Divorced\", \"Divorced\", \"Together\", \"Married\", \"Married\", \"Single\", \"Single\", \"Together\", \"Together\", \"Married\", \"Divorced\", \"Together\", \"Divorced\", \"Single\", \"Married\", \"Married\", \"Married\", \"Married\", \"Married\", \"Married\", \"Married\", \"Divorced\", \"Married\", \"Together\", \"Divorced\", \"Together\", \"Married\", \"Divorced\", \"Divorced\", \"Married\", \"Married\", \"Together\", \"Married\", \"Together\", \"Single\", \"Together\", \"Single\", \"Together\", \"Married\", \"Together\", \"Married\", \"Single\", \"Single\", \"Married\", \"Together\", \"Together\", \"Widow\", \"Married\", \"Together\", \"Together\", \"Together\", \"Married\", \"Married\", \"Married\", \"Married\", \"Single\", \"Married\", \"Single\", \"Single\", \"Married\", \"Married\", \"Together\", \"Married\", \"Married\", \"Married\", \"Married\", \"Single\", \"Married\", \"Together\", \"Together\", \"Single\", \"Together\", \"Single\", \"Single\", \"Single\", \"Together\", \"Single\", \"Married\", \"Together\", \"Married\", \"Together\", \"Divorced\", \"Married\", \"Divorced\", \"Together\", \"Married\", \"Single\", \"Married\", \"Single\", \"Single\", \"Married\", \"Divorced\", \"Together\", \"Married\", \"Married\", \"Widow\", \"Married\", \"Single\", \"Married\", \"Married\", \"Married\", \"Married\", \"Married\", \"Single\", \"Married\", \"Single\", \"Single\", \"Married\", \"Together\", \"Together\", \"Married\", \"Single\", \"Married\", \"Married\", \"Single\", \"Married\", \"Single\", \"Married\", \"Together\", \"Divorced\", \"Married\", \"Divorced\", \"Widow\", \"Together\", \"Divorced\", \"Single\", \"Together\", \"Together\", \"Married\", \"Married\", \"Single\", \"Divorced\", \"Single\", \"Single\", \"Together\", \"Married\", \"Single\", \"Married\", \"Married\", \"Together\", \"Single\", \"Single\", \"Single\", \"Married\", \"Single\", \"Married\", \"Married\", \"Together\", \"Married\", \"Single\", \"Married\", \"Married\", \"Together\", \"Married\", \"Together\", \"Together\", \"Married\", \"Together\", \"Single\", \"Together\", \"Single\", \"Single\", \"Together\", \"Together\", \"Together\", \"Single\", \"Together\", \"Single\", \"Together\", \"Together\", \"Divorced\", \"Married\", \"Single\", \"Together\", \"Single\", \"Married\", \"Divorced\", \"Married\", \"Single\", \"Together\", \"Single\", \"Married\", \"Together\", \"Single\", \"Married\", \"Widow\", \"Married\", \"Single\", \"Divorced\", \"Single\", \"Together\", \"Divorced\", \"Married\", \"Divorced\", \"Married\", \"Divorced\", \"Together\", \"Together\", \"Together\", \"Single\", \"Single\", \"Widow\", \"Together\", \"Married\", \"Single\", \"Together\", \"Widow\", \"Married\", \"Single\", \"Married\", \"Together\", \"Married\", \"Single\", \"Single\", \"Together\", \"Single\", \"Single\", \"Married\", \"Together\", \"Together\", \"Married\", \"Single\", \"Single\", \"Married\", \"Together\", \"Single\", \"Single\", \"Married\", \"Single\", \"Together\", \"Together\", \"Married\", \"Single\", \"Divorced\", \"Single\", \"Together\", \"Divorced\", \"Together\", \"Single\", \"Married\", \"Married\", \"Divorced\", \"Together\", \"Divorced\", \"Together\", \"Together\", \"Divorced\", \"Single\", \"Together\", \"Married\", \"Married\", \"Single\", \"Married\", \"Divorced\", \"Divorced\", \"Single\", \"Together\", \"Married\", \"Married\", \"Together\", \"Married\", \"Married\", \"Married\", \"Together\", \"Married\", \"Together\", \"Married\", \"Divorced\", \"Together\", \"Married\", \"Together\", \"Married\", \"Married\", \"Together\", \"Widow\", \"Divorced\", \"Divorced\", \"Divorced\", \"Married\", \"Married\", \"Married\", \"Married\", \"Single\", \"Widow\", \"Divorced\", \"Married\", \"Together\", \"Single\", \"Divorced\", \"Single\", \"Together\", \"Together\", \"Married\", \"Divorced\", \"Widow\", \"Single\", \"Married\", \"Together\", \"Married\", \"Single\", \"Married\", \"Together\", \"Married\", \"Single\", \"Together\", \"Together\", \"Single\", \"Together\", \"Married\", \"Married\", \"Married\", \"Together\", \"Married\", \"Single\", \"Married\", \"Together\", \"Together\", \"Together\", \"Married\", \"Married\", \"Single\", \"Single\", \"Divorced\", \"Together\", \"Together\", \"Single\", \"Together\", \"Married\", \"Married\", \"Single\", \"Together\", \"Single\", \"Married\", \"Married\", \"Married\", \"Married\", \"Single\", \"Together\", \"Together\", \"Single\", \"Married\", \"Married\", \"Together\", \"Married\", \"Married\", \"Together\", \"Married\", \"Divorced\", \"Married\", \"Single\", \"Married\", \"Married\", \"Single\", \"Together\", \"Married\", \"Together\", \"Single\", \"Divorced\", \"Married\", \"Married\", \"Single\", \"Divorced\", \"Divorced\", \"Married\", \"Together\", \"Together\", \"Together\", \"Married\", \"Together\", \"Together\", \"Married\", \"Together\", \"Single\", \"Married\", \"Single\", \"Married\", \"Married\", \"Together\", \"Single\", \"Married\", \"Single\", \"Together\", \"Together\", \"Single\", \"Married\", \"Single\", \"Together\", \"Single\", \"Married\", \"Single\", \"Divorced\", \"Single\", \"Together\", \"Married\", \"Divorced\", \"Married\", \"Married\", \"Together\", \"Married\", \"Single\", \"Married\", \"Married\", \"Married\", \"Married\", \"Divorced\", \"Single\", \"Single\", \"Single\", \"Single\", \"Together\", \"Married\", \"Married\", \"Together\", \"Married\", \"Single\", \"Married\", \"Divorced\", \"Single\", \"Married\", \"Divorced\", \"Single\", \"Together\", \"Single\", \"Divorced\", \"Married\", \"Single\", \"Married\", \"Together\", \"Single\", \"Together\", \"Married\", \"Divorced\", \"Divorced\", \"Married\", \"Together\", \"Married\", \"Divorced\", \"Single\", \"Widow\", \"Together\", \"Together\", \"Together\", \"Married\", \"Single\", \"Widow\", \"Together\", \"Married\", \"Together\", \"Married\", \"Single\", \"Married\", \"Together\", \"Married\", \"Married\", \"Married\", \"Together\", \"Married\", \"Together\", \"Married\", \"Married\", \"Married\", \"Together\", \"Married\", \"Single\", \"Married\", \"Married\", \"Married\", \"Married\", \"Together\", \"Married\", \"Married\", \"Married\", \"Divorced\", \"Single\", \"Together\", \"Married\", \"Divorced\", \"Single\", \"Single\", \"Single\", \"Married\", \"Single\", \"Together\", \"Married\", \"Divorced\", \"Widow\", \"Divorced\", \"Single\", \"Married\", \"Divorced\", \"Married\", \"Married\", \"Married\", \"Widow\", \"Married\", \"Married\", \"Married\", \"Divorced\", \"Together\", \"Married\", \"Married\", \"Married\", \"Together\", \"Together\", \"Together\", \"Together\", \"Together\", \"Together\", \"Married\", \"Single\", \"Single\", \"Together\", \"Together\", \"Single\", \"Single\", \"Married\", \"Divorced\", \"Married\", \"Widow\", \"Married\", \"Single\", \"Married\", \"Married\", \"Married\", \"Divorced\", \"Together\", \"Divorced\", \"Together\", \"Together\", \"Married\", \"Together\", \"Together\", \"Married\", \"Single\", \"Single\", \"Married\", \"Single\", \"Together\", \"Together\", \"Divorced\", \"Single\", \"Together\", \"Together\", \"Married\", \"Married\", \"Married\", \"Married\", \"Married\", \"Divorced\", \"Married\", \"Married\", \"Married\", \"Married\", \"Together\", \"Divorced\", \"Divorced\", \"Together\", \"Married\", \"Single\", \"Divorced\", \"Married\", \"Together\", \"Married\", \"Single\", \"Married\", \"Single\", \"Single\", \"Married\", \"Divorced\", \"Married\", \"Married\", \"Married\", \"Divorced\", \"Married\", \"Together\", \"Divorced\", \"Married\", \"Together\", \"Married\", \"Divorced\", \"Married\", \"Married\", \"Married\", \"Married\", \"Married\", \"Single\", \"Married\", \"Single\", \"Single\", \"Together\", \"Together\", \"Together\", \"Married\", \"Single\", \"Together\", \"Together\", \"Married\", \"Divorced\", \"Married\", \"Together\", \"Together\", \"Married\", \"Married\", \"Together\", \"Married\", \"Single\", \"Together\", \"Together\", \"Married\", \"Single\", \"Together\", \"Married\", \"Married\", \"Together\", \"Married\", \"Together\", \"Together\", \"Single\", \"Married\", \"Married\", \"Married\", \"Married\", \"Single\", \"Together\", \"Married\", \"Married\", \"Married\", \"Single\", \"Married\", \"Married\", \"Together\", \"Married\", \"Widow\", \"Single\", \"Together\", \"Married\", \"Married\", \"Married\", \"Single\", \"Single\", \"Married\", \"Married\", \"Together\", \"Divorced\", \"Together\", \"Single\", \"Together\", \"Married\", \"Married\", \"Single\", \"Married\", \"Single\", \"Single\", \"Single\", \"Together\", \"Married\", \"Divorced\", \"Together\", \"Divorced\", \"Single\", \"Single\", \"Married\", \"Divorced\", \"Married\", \"Single\", \"Together\", \"Single\", \"Divorced\", \"Married\", \"Single\", \"Single\", \"Married\", \"Together\", \"Divorced\", \"Together\", \"Married\", \"Married\", \"Together\", \"Together\", \"Together\", \"Married\", \"Together\", \"Together\", \"Single\", \"Married\", \"Married\", \"Divorced\", \"Divorced\", \"Divorced\", \"Married\", \"Married\", \"Married\", \"Married\", \"Single\", \"Married\", \"Married\", \"Together\", \"Married\", \"Married\", \"Divorced\", \"Married\", \"Married\", \"Married\", \"Married\", \"Single\", \"Single\", \"Together\", \"Together\", \"Married\", \"Married\", \"Together\", \"Single\", \"Single\", \"Together\", \"Married\", \"Married\", \"Married\", \"Married\", \"Single\", \"Single\", \"Married\", \"Divorced\", \"Married\", \"Single\", \"Divorced\", \"Married\", \"Married\", \"Together\", \"Married\", \"Married\", \"Together\", \"Married\", \"Together\", \"Widow\", \"Together\", \"Married\", \"Married\", \"Married\", \"Together\", \"Together\", \"Together\", \"Married\", \"Single\", \"Single\", \"Together\", \"Together\", \"Divorced\", \"Together\", \"Single\", \"Married\", \"Widow\", \"Together\", \"Together\", \"Together\", \"Married\", \"Divorced\", \"Married\", \"Together\", \"Married\", \"Together\", \"Married\", \"Married\", \"Single\", \"Married\", \"Married\", \"Together\", \"Single\", \"Married\", \"Single\", \"Married\", \"Single\", \"Together\", \"Together\", \"Married\", \"Together\", \"Single\", \"Together\", \"Together\", \"Married\", \"Together\", \"Married\", \"Divorced\", \"Together\", \"Together\", \"Married\", \"Married\", \"Divorced\", \"Together\", \"Together\", \"Married\", \"Together\", \"Divorced\", \"Married\", \"Married\", \"Single\", \"Married\", \"Married\", \"Together\", \"Married\", \"Together\", \"Married\", \"Single\", \"Married\", \"Married\", \"Together\", \"Single\", \"Married\", \"Married\", \"Married\", \"Single\", \"Single\", \"Together\", \"Single\", \"Married\", \"Single\", \"Married\", \"Widow\", \"Together\", \"Single\", \"Together\", \"Married\", \"Together\", \"Married\", \"Single\", \"Married\", \"Single\", \"Single\", \"Widow\", \"Married\", \"Single\", \"Together\", \"Together\", \"Married\", \"Single\", \"Divorced\", \"Together\", \"Married\", \"Single\", \"Widow\", \"Married\", \"Divorced\", \"Married\", \"Married\", \"Together\", \"Married\", \"Married\", \"Together\", \"Divorced\", \"Divorced\", \"Divorced\", \"Married\", \"Married\", \"Married\", \"Divorced\", \"Married\", \"Single\", \"Single\", \"Together\", \"Married\", \"Married\", \"Single\", \"Married\", \"Single\", \"Married\", \"Married\", \"Together\", \"Together\", \"Together\", \"Married\", \"Single\", \"Together\", \"Together\", \"Divorced\", \"Together\", \"Divorced\", \"Divorced\", \"Together\", \"Married\", \"Married\", \"Married\", \"Together\", \"Married\", \"Together\", \"Together\", \"Single\", \"Single\", \"Together\", \"Single\", \"Married\", \"Married\", \"Married\", \"Married\", \"Divorced\", \"Together\", \"Married\", \"Married\", \"Married\", \"Single\", \"Married\", \"Married\", \"Single\", \"Married\", \"Single\", \"Single\", \"Married\", \"Married\", \"Together\", \"Single\", \"Married\", \"Married\", \"Together\", \"Married\", \"Together\", \"Single\", \"Together\", \"Married\", \"Widow\", \"Divorced\", \"Together\", \"Together\", \"Together\", \"Together\", \"Married\", \"Together\", \"Together\", \"Married\", \"Divorced\", \"Married\", \"Married\", \"Together\", \"Together\", \"Divorced\", \"Together\", \"Together\", \"Together\", \"Divorced\", \"Married\", \"Single\", \"Divorced\", \"Widow\", \"Married\", \"Single\", \"Widow\", \"Together\", \"Widow\", \"Single\", \"Together\", \"Married\", \"Together\", \"Single\", \"Single\", \"Together\", \"Divorced\", \"Single\", \"Single\", \"Single\", \"Married\", \"Married\", \"Married\", \"Married\", \"Single\", \"Together\", \"Married\", \"Married\", \"Married\", \"Together\", \"Married\", \"Single\", \"Married\", \"Married\", \"Together\", \"Together\", \"Married\", \"Married\", \"Married\", \"Married\", \"Divorced\", \"Together\", \"Single\", \"Single\", \"Single\", \"Divorced\", \"Married\", \"Single\", \"Married\", \"Divorced\", \"Together\", \"Married\", \"Divorced\", \"Widow\", \"Married\", \"Married\", \"Single\", \"Together\", \"Together\", \"Married\", \"Together\", \"Together\", \"Married\", \"Married\", \"Married\", \"Married\", \"Together\", \"Married\", \"Single\", \"Together\", \"Single\", \"Married\", \"Together\", \"Married\", \"Married\", \"Married\", \"Single\", \"Widow\", \"Single\", \"Single\", \"Together\", \"Single\", \"Together\", \"Married\", \"Together\", \"Married\", \"Divorced\", \"Together\", \"Single\", \"Divorced\", \"Single\", \"Married\", \"Married\", \"Married\", \"Together\", \"Together\", \"Single\", \"Together\", \"Divorced\", \"Married\", \"Together\", \"Married\", \"Divorced\", \"Married\", \"Together\", \"Married\", \"Single\", \"Widow\", \"Widow\", \"Single\", \"Married\", \"Single\", \"Married\", \"Married\", \"Married\", \"Divorced\", \"Together\", \"Married\", \"Married\", \"Married\", \"Single\", \"Together\", \"Married\", \"Married\", \"Divorced\", \"Married\", \"Single\", \"Together\", \"Married\", \"Together\", \"Single\", \"Married\", \"Together\", \"Married\", \"Single\", \"Single\", \"Married\", \"Together\", \"Together\", \"Single\", \"Married\", \"Together\", \"Together\", \"Together\", \"Together\", \"Single\", \"Together\", \"Single\", \"Together\", \"Married\", \"Single\", \"Single\", \"Together\", \"Together\", \"Together\", \"Together\", \"Together\", \"Single\", \"Married\", \"Together\", \"Single\", \"Single\", \"Married\", \"Single\", \"Together\", \"Single\", \"Married\", \"Together\", \"Divorced\", \"Together\", \"Together\", \"Single\", \"Married\", \"Together\", \"Together\", \"Divorced\", \"Single\", \"Married\", \"Together\", \"Married\", \"Widow\", \"Together\", \"Married\", \"Together\", \"Single\", \"Together\", \"Married\", \"Together\", \"Married\", \"Together\", \"Married\", \"Married\", \"Married\", \"Divorced\", \"Together\", \"Widow\", \"Divorced\", \"Together\", \"Together\", \"Married\", \"Married\", \"Married\", \"Married\", \"Single\", \"Single\", \"Together\", \"Married\", \"Together\", \"Single\", \"Divorced\", \"Single\", \"Together\", \"Married\", \"Together\", \"Married\", \"Divorced\", \"Single\", \"Married\", \"Married\", \"Widow\", \"Together\", \"Single\", \"Together\", \"Together\", \"Divorced\", \"Divorced\", \"Single\", \"Single\", \"Divorced\", \"Single\", \"Widow\", \"Married\", \"Together\", \"Divorced\", \"Married\", \"Married\", \"Divorced\", \"Single\", \"Single\", \"Single\", \"Married\", \"Divorced\", \"Together\", \"Married\", \"Married\", \"Together\", \"Married\", \"Divorced\", \"Single\", \"Divorced\", \"Together\", \"Single\", \"Single\", \"Together\", \"Married\", \"Single\", \"Married\", \"Divorced\", \"Married\", \"Married\", \"Married\", \"Together\", \"Married\", \"Married\", \"Together\", \"Single\", \"Together\", \"Married\", \"Widow\", \"Single\", \"Married\", \"Single\", \"Single\", \"Together\", \"Single\", \"Married\", \"Single\", \"Single\", \"Single\", \"Married\", \"Married\", \"Married\", \"Single\", \"Married\", \"Married\", \"Married\", \"Married\", \"Married\", \"Married\", \"Together\", \"Single\", \"Widow\", \"Married\", \"Married\", \"Married\", \"Together\", \"Single\", \"Married\", \"Married\", \"Widow\", \"Married\", \"Married\", \"Single\", \"Together\", \"Single\", \"Married\", \"Single\", \"Together\", \"Single\", \"Widow\", \"Together\", \"Single\", \"Single\", \"Widow\", \"Married\", \"Widow\", \"Married\", \"Single\", \"Divorced\", \"Together\", \"Together\", \"Together\", \"Widow\", \"Together\", \"Divorced\", \"Single\", \"Together\", \"Married\", \"Married\", \"Married\", \"Married\", \"Single\", \"Married\", \"Single\", \"Married\", \"Divorced\", \"Married\", \"Married\", \"Single\", \"Together\", \"Married\", \"Married\", \"Married\", \"Married\", \"Divorced\", \"Married\", \"Single\", \"Single\", \"Together\", \"Married\", \"Married\", \"Together\", \"Married\", \"Single\", \"Single\", \"Divorced\", \"Married\", \"Single\", \"Single\", \"Married\", \"Married\", \"Divorced\", \"Divorced\", \"Together\", \"Divorced\", \"Single\", \"Together\", \"Married\", \"Single\", \"Married\", \"Married\", \"Together\", \"Divorced\", \"Together\", \"Together\", \"Married\", \"Married\", \"Married\", \"Married\", \"Married\", \"Together\", \"Divorced\", \"Together\", \"Together\", \"Widow\", \"Married\", \"Married\", \"Together\", \"Married\", \"Together\", \"Married\", \"Single\", \"Married\", \"Together\", \"Single\", \"Single\", \"Married\", \"Married\", \"Married\", \"Single\", \"Married\", \"Married\", \"Single\", \"Married\", \"Married\", \"Single\", \"Widow\", \"Single\", \"Together\", \"Single\", \"Divorced\", \"Divorced\", \"Married\", \"Together\", \"Together\", \"Together\", \"Married\", \"Widow\", \"Married\", \"Married\", \"Married\", \"Together\", \"Together\", \"Married\", \"Married\", \"Single\", \"Married\", \"Divorced\", \"Married\", \"Widow\", \"Married\", \"Married\", \"Married\", \"Married\", \"Married\", \"Married\", \"Single\", \"Married\", \"Divorced\", \"Together\", \"Together\", \"Absurd\", \"Together\", \"Married\", \"Together\", \"Single\", \"Married\", \"Married\", \"Married\", \"Together\", \"Married\", \"Married\", \"Married\", \"Married\", \"Married\", \"Divorced\", \"Married\", \"Single\", \"Widow\", \"Together\", \"Together\", \"Together\", \"Married\", \"Together\", \"Married\", \"Together\", \"Single\", \"Divorced\", \"Together\", \"Together\", \"Married\", \"Married\", \"Together\", \"Together\", \"Married\", \"Married\", \"Together\", \"Together\", \"Divorced\", \"Single\", \"Married\", \"Married\", \"Absurd\", \"Married\", \"Widow\", \"Single\", \"Divorced\", \"Divorced\", \"Divorced\", \"Married\", \"Divorced\", \"Married\", \"Single\", \"Single\", \"Together\", \"Together\", \"Together\", \"Married\", \"Married\", \"Married\", \"Married\", \"Widow\", \"Together\", \"Married\", \"Divorced\", \"Together\", \"Married\", \"Single\", \"Married\", \"Together\", \"Together\", \"Widow\", \"Single\", \"Single\", \"Divorced\", \"Single\", \"Married\", \"Single\", \"Single\", \"Divorced\", \"Together\", \"Married\", \"Married\", \"Married\", \"Divorced\", \"YOLO\", \"Married\", \"Together\", \"Married\", \"Married\", \"Married\", \"Single\", \"Married\", \"Married\", \"Married\", \"Married\", \"Together\", \"Married\", \"Single\", \"Divorced\", \"Married\", \"Married\", \"Married\", \"Single\", \"Single\", \"Together\", \"Married\", \"Married\", \"Single\", \"Single\", \"YOLO\", \"Married\", \"Married\", \"Single\", \"Married\", \"Together\", \"Together\", \"Divorced\", \"Divorced\", \"Together\", \"Divorced\", \"Single\", \"Married\", \"Together\", \"Together\", \"Widow\", \"Together\", \"Together\", \"Married\", \"Single\", \"Together\", \"Married\", \"Single\", \"Together\", \"Married\", \"Single\", \"Married\", \"Single\", \"Single\", \"Single\", \"Married\", \"Married\", \"Together\", \"Divorced\", \"Together\", \"Married\"], \"xaxis\": \"x\", \"y\": [0, 2, 0, 1, 1, 1, 1, 1, 1, 2, 0, 0, 2, 0, 0, 2, 0, 1, 1, 0, 1, 1, 1, 1, 0, 2, 1, 0, 0, 0, 1, 2, 0, 2, 1, 1, 1, 0, 1, 1, 1, 1, 0, 0, 1, 2, 1, 0, 1, 0, 2, 0, 0, 1, 1, 0, 2, 1, 1, 0, 1, 2, 1, 1, 3, 0, 1, 2, 0, 1, 0, 0, 0, 0, 1, 1, 1, 0, 0, 2, 2, 1, 0, 1, 1, 1, 1, 1, 2, 0, 0, 1, 1, 1, 0, 0, 1, 2, 2, 1, 0, 1, 0, 1, 0, 1, 2, 0, 1, 2, 1, 1, 1, 2, 1, 0, 0, 0, 2, 2, 1, 2, 0, 2, 0, 1, 3, 2, 2, 0, 1, 0, 1, 1, 2, 1, 1, 3, 0, 2, 1, 1, 1, 1, 0, 1, 3, 1, 0, 3, 0, 1, 0, 1, 3, 0, 0, 0, 2, 2, 1, 2, 2, 1, 1, 0, 2, 3, 0, 1, 1, 0, 1, 0, 1, 1, 1, 0, 2, 1, 0, 1, 1, 2, 2, 0, 0, 0, 2, 1, 0, 1, 0, 2, 0, 1, 2, 1, 1, 1, 0, 2, 2, 0, 1, 3, 0, 1, 1, 1, 0, 2, 1, 1, 1, 1, 1, 0, 1, 2, 1, 1, 0, 1, 1, 1, 1, 1, 1, 0, 1, 1, 0, 1, 2, 1, 1, 0, 1, 1, 1, 0, 0, 2, 1, 1, 1, 2, 3, 1, 2, 1, 1, 2, 2, 0, 2, 0, 1, 0, 1, 1, 2, 2, 1, 0, 0, 0, 1, 1, 1, 0, 1, 2, 1, 0, 2, 0, 0, 0, 1, 0, 2, 2, 1, 1, 1, 0, 1, 2, 1, 1, 1, 1, 0, 0, 0, 1, 0, 1, 3, 0, 2, 2, 2, 1, 2, 1, 1, 2, 1, 1, 0, 1, 1, 3, 1, 1, 0, 1, 1, 1, 2, 0, 1, 0, 0, 0, 0, 1, 1, 1, 0, 2, 0, 2, 1, 1, 1, 0, 0, 1, 2, 1, 0, 0, 2, 0, 1, 2, 1, 2, 1, 0, 1, 0, 1, 1, 2, 1, 1, 2, 2, 0, 1, 1, 1, 2, 1, 0, 3, 1, 1, 1, 1, 1, 2, 0, 1, 0, 0, 1, 0, 2, 1, 1, 1, 2, 0, 2, 0, 3, 2, 1, 2, 1, 2, 1, 1, 1, 1, 1, 0, 1, 0, 0, 2, 1, 1, 1, 0, 0, 3, 0, 1, 1, 1, 0, 1, 2, 1, 1, 1, 1, 1, 1, 1, 1, 1, 0, 1, 0, 0, 1, 0, 1, 1, 1, 1, 1, 2, 1, 3, 0, 1, 1, 0, 1, 0, 1, 0, 1, 0, 0, 1, 2, 1, 1, 1, 1, 2, 1, 1, 2, 1, 1, 1, 1, 1, 1, 1, 0, 0, 1, 1, 1, 0, 1, 1, 0, 1, 0, 1, 1, 1, 1, 0, 2, 1, 0, 1, 1, 0, 1, 0, 0, 1, 1, 1, 2, 0, 1, 0, 2, 1, 0, 0, 2, 0, 0, 0, 1, 1, 0, 0, 0, 2, 1, 1, 2, 2, 1, 1, 1, 0, 1, 1, 1, 1, 1, 0, 1, 1, 0, 1, 2, 2, 2, 1, 1, 0, 0, 2, 1, 0, 0, 1, 1, 0, 1, 1, 1, 1, 1, 2, 1, 2, 1, 2, 1, 1, 1, 1, 2, 2, 2, 2, 2, 1, 2, 0, 1, 2, 0, 1, 1, 0, 1, 0, 0, 1, 0, 1, 1, 2, 1, 1, 1, 1, 0, 2, 2, 1, 1, 3, 1, 0, 0, 0, 1, 3, 0, 2, 3, 2, 2, 1, 1, 0, 0, 1, 0, 1, 1, 1, 2, 1, 1, 0, 1, 0, 0, 3, 0, 1, 1, 1, 1, 0, 1, 1, 0, 2, 0, 1, 1, 1, 0, 1, 1, 1, 1, 0, 1, 0, 1, 3, 1, 1, 1, 0, 0, 0, 1, 1, 1, 2, 1, 2, 1, 1, 1, 2, 1, 0, 1, 0, 1, 0, 0, 1, 0, 1, 0, 0, 0, 0, 1, 0, 1, 0, 2, 2, 0, 2, 0, 0, 1, 2, 1, 0, 1, 1, 1, 1, 1, 1, 1, 1, 1, 0, 1, 0, 0, 1, 1, 2, 1, 0, 1, 0, 1, 1, 0, 0, 3, 0, 2, 2, 2, 3, 2, 0, 1, 1, 1, 1, 1, 2, 3, 1, 0, 0, 1, 0, 1, 0, 0, 1, 1, 0, 0, 0, 1, 1, 1, 1, 1, 2, 0, 1, 0, 1, 0, 0, 1, 1, 1, 0, 2, 2, 1, 2, 1, 0, 2, 1, 0, 2, 1, 1, 1, 1, 2, 1, 1, 1, 0, 0, 0, 2, 1, 0, 1, 1, 0, 1, 1, 2, 2, 0, 0, 2, 1, 1, 2, 1, 0, 1, 0, 1, 0, 1, 2, 0, 1, 1, 0, 1, 0, 0, 1, 1, 3, 3, 1, 1, 2, 0, 2, 1, 2, 1, 1, 0, 1, 1, 2, 1, 1, 1, 0, 0, 0, 1, 1, 2, 1, 1, 0, 2, 1, 1, 1, 2, 2, 0, 1, 2, 0, 1, 1, 1, 1, 2, 1, 1, 0, 1, 1, 2, 1, 0, 2, 1, 0, 1, 1, 1, 2, 2, 0, 0, 3, 2, 2, 0, 1, 2, 0, 1, 0, 1, 1, 1, 1, 1, 0, 1, 0, 0, 3, 0, 0, 1, 1, 0, 0, 0, 1, 1, 0, 0, 0, 0, 1, 0, 2, 0, 1, 2, 1, 0, 0, 0, 0, 1, 0, 1, 1, 1, 0, 1, 0, 1, 1, 1, 2, 1, 0, 0, 0, 0, 1, 2, 1, 1, 1, 2, 2, 2, 2, 2, 1, 1, 2, 1, 1, 1, 1, 1, 2, 1, 0, 1, 1, 1, 0, 3, 1, 1, 0, 0, 0, 3, 2, 1, 2, 0, 1, 1, 0, 1, 0, 0, 0, 2, 0, 1, 1, 1, 2, 0, 0, 2, 1, 1, 1, 0, 2, 1, 1, 1, 1, 0, 2, 2, 1, 1, 1, 1, 2, 0, 0, 0, 1, 0, 1, 1, 3, 1, 1, 1, 1, 1, 1, 1, 0, 0, 0, 1, 0, 0, 2, 2, 1, 1, 1, 2, 0, 0, 1, 1, 1, 1, 1, 1, 0, 2, 0, 2, 1, 0, 1, 0, 0, 0, 2, 2, 0, 2, 1, 2, 0, 1, 0, 0, 1, 1, 1, 1, 0, 0, 0, 2, 1, 1, 0, 1, 0, 1, 0, 1, 2, 0, 1, 0, 0, 1, 0, 2, 2, 1, 1, 0, 1, 1, 0, 1, 1, 1, 1, 0, 1, 0, 1, 2, 0, 0, 2, 0, 1, 1, 1, 0, 0, 1, 1, 1, 2, 1, 1, 2, 2, 3, 0, 0, 1, 2, 1, 1, 0, 1, 2, 0, 0, 1, 1, 1, 1, 1, 0, 1, 1, 2, 1, 1, 0, 1, 1, 0, 1, 2, 2, 0, 0, 1, 1, 2, 1, 0, 1, 1, 1, 3, 0, 0, 0, 0, 0, 2, 1, 1, 2, 1, 2, 0, 1, 1, 1, 2, 1, 1, 2, 1, 1, 2, 0, 1, 1, 1, 2, 1, 1, 1, 0, 1, 2, 1, 1, 1, 0, 1, 0, 0, 2, 1, 1, 1, 1, 0, 2, 2, 1, 2, 0, 1, 1, 1, 0, 2, 2, 1, 0, 1, 1, 2, 2, 1, 1, 1, 1, 1, 1, 0, 1, 2, 1, 3, 1, 0, 1, 0, 1, 2, 1, 1, 0, 2, 1, 1, 1, 2, 1, 1, 2, 0, 2, 0, 0, 2, 2, 0, 2, 1, 1, 0, 0, 1, 1, 2, 1, 1, 1, 3, 0, 1, 0, 0, 2, 0, 0, 1, 1, 2, 0, 0, 0, 1, 1, 2, 2, 1, 1, 1, 0, 2, 1, 0, 0, 2, 0, 1, 2, 0, 0, 1, 1, 0, 1, 1, 1, 2, 1, 2, 2, 1, 0, 1, 1, 2, 1, 1, 0, 1, 0, 0, 1, 2, 1, 0, 1, 1, 0, 0, 1, 1, 1, 1, 2, 0, 1, 1, 1, 0, 1, 0, 0, 0, 1, 1, 0, 1, 1, 0, 0, 2, 2, 1, 2, 0, 1, 1, 1, 1, 1, 1, 1, 2, 3, 1, 1, 1, 3, 1, 1, 1, 2, 1, 0, 2, 2, 0, 2, 1, 1, 2, 1, 2, 2, 1, 1, 2, 2, 1, 1, 1, 1, 2, 1, 1, 1, 2, 1, 1, 2, 0, 1, 1, 0, 0, 3, 2, 3, 0, 1, 1, 0, 1, 1, 1, 2, 0, 1, 1, 0, 2, 2, 2, 2, 0, 0, 1, 2, 2, 1, 0, 0, 0, 0, 1, 0, 1, 1, 0, 0, 1, 0, 0, 1, 2, 0, 0, 1, 1, 2, 1, 1, 1, 1, 0, 2, 1, 2, 1, 1, 2, 1, 1, 0, 1, 0, 1, 1, 1, 1, 1, 1, 1, 0, 3, 1, 1, 2, 2, 0, 1, 1, 0, 1, 1, 1, 0, 2, 1, 1, 2, 0, 0, 2, 1, 0, 1, 0, 2, 1, 0, 0, 1, 1, 1, 1, 1, 0, 0, 1, 1, 1, 2, 0, 2, 0, 1, 1, 2, 1, 2, 1, 1, 1, 0, 1, 1, 1, 2, 0, 3, 1, 1, 0, 0, 1, 2, 1, 0, 1, 0, 1, 2, 2, 1, 3, 1, 1, 2, 1, 1, 1, 1, 1, 1, 2, 3, 0, 2, 0, 1, 1, 1, 2, 0, 0, 1, 3, 0, 0, 1, 0, 2, 2, 0, 1, 0, 1, 0, 1, 1, 1, 1, 2, 1, 1, 1, 1, 0, 0, 2, 2, 2, 1, 1, 1, 1, 0, 0, 0, 1, 2, 1, 1, 1, 1, 1, 1, 1, 0, 2, 2, 1, 1, 0, 1, 1, 1, 1, 2, 1, 2, 1, 1, 0, 2, 1, 2, 2, 2, 1, 1, 0, 1, 0, 0, 2, 1, 0, 2, 0, 1, 1, 1, 1, 1, 0, 2, 2, 1, 2, 0, 1, 2, 2, 1, 1, 0, 0, 0, 0, 1, 0, 1, 1, 1, 1, 0, 2, 2, 1, 1, 2, 0, 1, 1, 0, 1, 0, 1, 1, 0, 1, 2, 0, 2, 2, 1, 2, 1, 1, 1, 1, 1, 1, 1, 1, 0, 1, 1, 0, 1, 1, 1, 2, 2, 1, 1, 0, 0, 0, 1, 1, 2, 1, 2, 1, 2, 0, 2, 0, 1, 1, 2, 0, 1, 1, 1, 1, 0, 0, 1, 0, 0, 0, 1, 0, 1, 1, 1, 1, 2, 2, 2, 1, 2, 1, 1, 1, 1, 1, 1, 1, 1, 0, 0, 1, 1, 0, 0, 0, 1, 2, 1, 0, 1, 0, 1, 2, 0, 1, 2, 2, 1, 1, 2, 1, 2, 2, 0, 1, 2, 2, 1, 1, 2, 1, 1, 1, 2, 2, 2, 1, 2, 2, 0, 0, 2, 1, 0, 0, 1, 1, 1, 0, 2, 2, 1, 2, 2, 1, 0, 1, 1, 0, 0, 1, 1, 1, 1, 1, 2, 2, 0, 1, 1, 1, 1, 0, 1, 0, 2, 0, 2, 0, 1, 1, 0, 1, 0, 0, 0, 1, 3, 0, 0, 1, 1, 0, 1, 1, 0, 2, 2, 1, 1, 0, 1, 1, 2, 1, 1, 0, 0, 0, 1, 1, 0, 1, 1, 1, 0, 1, 2, 0, 2, 1, 0, 0, 1, 1, 0, 1, 1, 0, 0, 1, 2, 0, 0, 1, 1, 0, 1, 1, 0, 1, 0, 1, 0, 1, 1, 1, 0, 1, 0, 2, 1, 1, 0, 0, 2, 1, 1, 0, 0, 2, 2, 1, 1, 2, 1, 2, 1, 1, 1, 1, 0, 1, 1, 0, 1, 0, 0, 1, 2, 1, 0, 1, 0, 0, 0, 0, 1, 1, 0, 2, 1, 0, 2, 2, 1, 0, 1, 1, 0, 0, 1, 1, 2, 1, 2, 1, 0, 2, 1, 1, 1, 1, 0, 1, 2, 1, 2, 0, 1, 1, 0, 1, 0, 1, 2, 0, 0, 1, 1, 1, 1, 1, 1, 0, 2, 1, 1, 1, 1, 1, 0, 1, 0, 0, 0, 2, 0, 2, 2, 3, 1, 1, 2, 1, 1, 1, 2, 0, 1, 1, 1, 1, 1, 1, 1, 1, 2, 1, 1, 0, 0, 3, 1, 1, 1, 1, 1, 0, 1, 0, 2, 2, 1, 2, 2, 0, 1, 1, 1, 1, 0, 2, 1, 1, 0, 1, 1, 1, 1, 1, 1, 0, 0, 1, 1, 0, 1, 1, 0, 1, 0, 1, 1, 1, 2, 0, 1, 0, 1, 2, 0, 2, 1, 1, 2, 1, 1, 1, 0, 1, 1, 1, 1, 0, 2, 0, 2, 1, 1, 1, 1, 1, 0, 1, 1, 2, 1, 1, 2, 0, 1, 0, 0, 3, 1, 0, 0, 1, 0, 1, 2, 1, 1, 2, 1, 2, 2, 0, 1, 0, 1, 3, 2, 1, 2, 0, 1, 2, 1, 1, 2, 1, 1, 1, 1, 1, 1, 0, 1, 1, 1, 0, 0, 2, 1, 0, 1, 1, 1, 0, 0, 1, 1, 1, 1, 1, 0, 1, 1, 1, 1, 0, 0, 1, 0, 2, 0, 0, 1, 2, 0, 1, 2, 2, 1, 1, 1, 1, 0, 2, 1, 2, 1, 2, 1, 0, 2, 0, 1, 2, 1, 0, 1, 1, 1, 0, 1, 3, 1, 2, 2, 1, 2, 1, 0, 0, 1, 1, 3, 0, 1, 2], \"yaxis\": \"y\"}],\n",
              "                        {\"barmode\": \"relative\", \"legend\": {\"tracegroupgap\": 0}, \"margin\": {\"t\": 60}, \"template\": {\"data\": {\"bar\": [{\"error_x\": {\"color\": \"#2a3f5f\"}, \"error_y\": {\"color\": \"#2a3f5f\"}, \"marker\": {\"line\": {\"color\": \"#E5ECF6\", \"width\": 0.5}}, \"type\": \"bar\"}], \"barpolar\": [{\"marker\": {\"line\": {\"color\": \"#E5ECF6\", \"width\": 0.5}}, \"type\": \"barpolar\"}], \"carpet\": [{\"aaxis\": {\"endlinecolor\": \"#2a3f5f\", \"gridcolor\": \"white\", \"linecolor\": \"white\", \"minorgridcolor\": \"white\", \"startlinecolor\": \"#2a3f5f\"}, \"baxis\": {\"endlinecolor\": \"#2a3f5f\", \"gridcolor\": \"white\", \"linecolor\": \"white\", \"minorgridcolor\": \"white\", \"startlinecolor\": \"#2a3f5f\"}, \"type\": \"carpet\"}], \"choropleth\": [{\"colorbar\": {\"outlinewidth\": 0, \"ticks\": \"\"}, \"type\": \"choropleth\"}], \"contour\": [{\"colorbar\": {\"outlinewidth\": 0, \"ticks\": \"\"}, \"colorscale\": [[0.0, \"#0d0887\"], [0.1111111111111111, \"#46039f\"], [0.2222222222222222, \"#7201a8\"], [0.3333333333333333, \"#9c179e\"], [0.4444444444444444, \"#bd3786\"], [0.5555555555555556, \"#d8576b\"], [0.6666666666666666, \"#ed7953\"], [0.7777777777777778, \"#fb9f3a\"], [0.8888888888888888, \"#fdca26\"], [1.0, \"#f0f921\"]], \"type\": \"contour\"}], \"contourcarpet\": [{\"colorbar\": {\"outlinewidth\": 0, \"ticks\": \"\"}, \"type\": \"contourcarpet\"}], \"heatmap\": [{\"colorbar\": {\"outlinewidth\": 0, \"ticks\": \"\"}, \"colorscale\": [[0.0, \"#0d0887\"], [0.1111111111111111, \"#46039f\"], [0.2222222222222222, \"#7201a8\"], [0.3333333333333333, \"#9c179e\"], [0.4444444444444444, \"#bd3786\"], [0.5555555555555556, \"#d8576b\"], [0.6666666666666666, \"#ed7953\"], [0.7777777777777778, \"#fb9f3a\"], [0.8888888888888888, \"#fdca26\"], [1.0, \"#f0f921\"]], \"type\": \"heatmap\"}], \"heatmapgl\": [{\"colorbar\": {\"outlinewidth\": 0, \"ticks\": \"\"}, \"colorscale\": [[0.0, \"#0d0887\"], [0.1111111111111111, \"#46039f\"], [0.2222222222222222, \"#7201a8\"], [0.3333333333333333, \"#9c179e\"], [0.4444444444444444, \"#bd3786\"], [0.5555555555555556, \"#d8576b\"], [0.6666666666666666, \"#ed7953\"], [0.7777777777777778, \"#fb9f3a\"], [0.8888888888888888, \"#fdca26\"], [1.0, \"#f0f921\"]], \"type\": \"heatmapgl\"}], \"histogram\": [{\"marker\": {\"colorbar\": {\"outlinewidth\": 0, \"ticks\": \"\"}}, \"type\": \"histogram\"}], \"histogram2d\": [{\"colorbar\": {\"outlinewidth\": 0, \"ticks\": \"\"}, \"colorscale\": [[0.0, \"#0d0887\"], [0.1111111111111111, \"#46039f\"], [0.2222222222222222, \"#7201a8\"], [0.3333333333333333, \"#9c179e\"], [0.4444444444444444, \"#bd3786\"], [0.5555555555555556, \"#d8576b\"], [0.6666666666666666, \"#ed7953\"], [0.7777777777777778, \"#fb9f3a\"], [0.8888888888888888, \"#fdca26\"], [1.0, \"#f0f921\"]], \"type\": \"histogram2d\"}], \"histogram2dcontour\": [{\"colorbar\": {\"outlinewidth\": 0, \"ticks\": \"\"}, \"colorscale\": [[0.0, \"#0d0887\"], [0.1111111111111111, \"#46039f\"], [0.2222222222222222, \"#7201a8\"], [0.3333333333333333, \"#9c179e\"], [0.4444444444444444, \"#bd3786\"], [0.5555555555555556, \"#d8576b\"], [0.6666666666666666, \"#ed7953\"], [0.7777777777777778, \"#fb9f3a\"], [0.8888888888888888, \"#fdca26\"], [1.0, \"#f0f921\"]], \"type\": \"histogram2dcontour\"}], \"mesh3d\": [{\"colorbar\": {\"outlinewidth\": 0, \"ticks\": \"\"}, \"type\": \"mesh3d\"}], \"parcoords\": [{\"line\": {\"colorbar\": {\"outlinewidth\": 0, \"ticks\": \"\"}}, \"type\": \"parcoords\"}], \"pie\": [{\"automargin\": true, \"type\": \"pie\"}], \"scatter\": [{\"marker\": {\"colorbar\": {\"outlinewidth\": 0, \"ticks\": \"\"}}, \"type\": \"scatter\"}], \"scatter3d\": [{\"line\": {\"colorbar\": {\"outlinewidth\": 0, \"ticks\": \"\"}}, \"marker\": {\"colorbar\": {\"outlinewidth\": 0, \"ticks\": \"\"}}, \"type\": \"scatter3d\"}], \"scattercarpet\": [{\"marker\": {\"colorbar\": {\"outlinewidth\": 0, \"ticks\": \"\"}}, \"type\": \"scattercarpet\"}], \"scattergeo\": [{\"marker\": {\"colorbar\": {\"outlinewidth\": 0, \"ticks\": \"\"}}, \"type\": \"scattergeo\"}], \"scattergl\": [{\"marker\": {\"colorbar\": {\"outlinewidth\": 0, \"ticks\": \"\"}}, \"type\": \"scattergl\"}], \"scattermapbox\": [{\"marker\": {\"colorbar\": {\"outlinewidth\": 0, \"ticks\": \"\"}}, \"type\": \"scattermapbox\"}], \"scatterpolar\": [{\"marker\": {\"colorbar\": {\"outlinewidth\": 0, \"ticks\": \"\"}}, \"type\": \"scatterpolar\"}], \"scatterpolargl\": [{\"marker\": {\"colorbar\": {\"outlinewidth\": 0, \"ticks\": \"\"}}, \"type\": \"scatterpolargl\"}], \"scatterternary\": [{\"marker\": {\"colorbar\": {\"outlinewidth\": 0, \"ticks\": \"\"}}, \"type\": \"scatterternary\"}], \"surface\": [{\"colorbar\": {\"outlinewidth\": 0, \"ticks\": \"\"}, \"colorscale\": [[0.0, \"#0d0887\"], [0.1111111111111111, \"#46039f\"], [0.2222222222222222, \"#7201a8\"], [0.3333333333333333, \"#9c179e\"], [0.4444444444444444, \"#bd3786\"], [0.5555555555555556, \"#d8576b\"], [0.6666666666666666, \"#ed7953\"], [0.7777777777777778, \"#fb9f3a\"], [0.8888888888888888, \"#fdca26\"], [1.0, \"#f0f921\"]], \"type\": \"surface\"}], \"table\": [{\"cells\": {\"fill\": {\"color\": \"#EBF0F8\"}, \"line\": {\"color\": \"white\"}}, \"header\": {\"fill\": {\"color\": \"#C8D4E3\"}, \"line\": {\"color\": \"white\"}}, \"type\": \"table\"}]}, \"layout\": {\"annotationdefaults\": {\"arrowcolor\": \"#2a3f5f\", \"arrowhead\": 0, \"arrowwidth\": 1}, \"coloraxis\": {\"colorbar\": {\"outlinewidth\": 0, \"ticks\": \"\"}}, \"colorscale\": {\"diverging\": [[0, \"#8e0152\"], [0.1, \"#c51b7d\"], [0.2, \"#de77ae\"], [0.3, \"#f1b6da\"], [0.4, \"#fde0ef\"], [0.5, \"#f7f7f7\"], [0.6, \"#e6f5d0\"], [0.7, \"#b8e186\"], [0.8, \"#7fbc41\"], [0.9, \"#4d9221\"], [1, \"#276419\"]], \"sequential\": [[0.0, \"#0d0887\"], [0.1111111111111111, \"#46039f\"], [0.2222222222222222, \"#7201a8\"], [0.3333333333333333, \"#9c179e\"], [0.4444444444444444, \"#bd3786\"], [0.5555555555555556, \"#d8576b\"], [0.6666666666666666, \"#ed7953\"], [0.7777777777777778, \"#fb9f3a\"], [0.8888888888888888, \"#fdca26\"], [1.0, \"#f0f921\"]], \"sequentialminus\": [[0.0, \"#0d0887\"], [0.1111111111111111, \"#46039f\"], [0.2222222222222222, \"#7201a8\"], [0.3333333333333333, \"#9c179e\"], [0.4444444444444444, \"#bd3786\"], [0.5555555555555556, \"#d8576b\"], [0.6666666666666666, \"#ed7953\"], [0.7777777777777778, \"#fb9f3a\"], [0.8888888888888888, \"#fdca26\"], [1.0, \"#f0f921\"]]}, \"colorway\": [\"#636efa\", \"#EF553B\", \"#00cc96\", \"#ab63fa\", \"#FFA15A\", \"#19d3f3\", \"#FF6692\", \"#B6E880\", \"#FF97FF\", \"#FECB52\"], \"font\": {\"color\": \"#2a3f5f\"}, \"geo\": {\"bgcolor\": \"white\", \"lakecolor\": \"white\", \"landcolor\": \"#E5ECF6\", \"showlakes\": true, \"showland\": true, \"subunitcolor\": \"white\"}, \"hoverlabel\": {\"align\": \"left\"}, \"hovermode\": \"closest\", \"mapbox\": {\"style\": \"light\"}, \"paper_bgcolor\": \"white\", \"plot_bgcolor\": \"#E5ECF6\", \"polar\": {\"angularaxis\": {\"gridcolor\": \"white\", \"linecolor\": \"white\", \"ticks\": \"\"}, \"bgcolor\": \"#E5ECF6\", \"radialaxis\": {\"gridcolor\": \"white\", \"linecolor\": \"white\", \"ticks\": \"\"}}, \"scene\": {\"xaxis\": {\"backgroundcolor\": \"#E5ECF6\", \"gridcolor\": \"white\", \"gridwidth\": 2, \"linecolor\": \"white\", \"showbackground\": true, \"ticks\": \"\", \"zerolinecolor\": \"white\"}, \"yaxis\": {\"backgroundcolor\": \"#E5ECF6\", \"gridcolor\": \"white\", \"gridwidth\": 2, \"linecolor\": \"white\", \"showbackground\": true, \"ticks\": \"\", \"zerolinecolor\": \"white\"}, \"zaxis\": {\"backgroundcolor\": \"#E5ECF6\", \"gridcolor\": \"white\", \"gridwidth\": 2, \"linecolor\": \"white\", \"showbackground\": true, \"ticks\": \"\", \"zerolinecolor\": \"white\"}}, \"shapedefaults\": {\"line\": {\"color\": \"#2a3f5f\"}}, \"ternary\": {\"aaxis\": {\"gridcolor\": \"white\", \"linecolor\": \"white\", \"ticks\": \"\"}, \"baxis\": {\"gridcolor\": \"white\", \"linecolor\": \"white\", \"ticks\": \"\"}, \"bgcolor\": \"#E5ECF6\", \"caxis\": {\"gridcolor\": \"white\", \"linecolor\": \"white\", \"ticks\": \"\"}}, \"title\": {\"x\": 0.05}, \"xaxis\": {\"automargin\": true, \"gridcolor\": \"white\", \"linecolor\": \"white\", \"ticks\": \"\", \"title\": {\"standoff\": 15}, \"zerolinecolor\": \"white\", \"zerolinewidth\": 2}, \"yaxis\": {\"automargin\": true, \"gridcolor\": \"white\", \"linecolor\": \"white\", \"ticks\": \"\", \"title\": {\"standoff\": 15}, \"zerolinecolor\": \"white\", \"zerolinewidth\": 2}}}, \"xaxis\": {\"anchor\": \"y\", \"domain\": [0.0, 1.0], \"title\": {\"text\": \"Marital_Status\"}}, \"yaxis\": {\"anchor\": \"x\", \"domain\": [0.0, 1.0], \"title\": {\"text\": \"Children\"}}},\n",
              "                        {\"responsive\": true}\n",
              "                    ).then(function(){\n",
              "                            \n",
              "var gd = document.getElementById('0b164335-4e9e-479e-82ee-cd7304af47af');\n",
              "var x = new MutationObserver(function (mutations, observer) {{\n",
              "        var display = window.getComputedStyle(gd).display;\n",
              "        if (!display || display === 'none') {{\n",
              "            console.log([gd, 'removed!']);\n",
              "            Plotly.purge(gd);\n",
              "            observer.disconnect();\n",
              "        }}\n",
              "}});\n",
              "\n",
              "// Listen for the removal of the full notebook cells\n",
              "var notebookContainer = gd.closest('#notebook-container');\n",
              "if (notebookContainer) {{\n",
              "    x.observe(notebookContainer, {childList: true});\n",
              "}}\n",
              "\n",
              "// Listen for the clearing of the current output cell\n",
              "var outputEl = gd.closest('.output');\n",
              "if (outputEl) {{\n",
              "    x.observe(outputEl, {childList: true});\n",
              "}}\n",
              "\n",
              "                        })\n",
              "                };\n",
              "                \n",
              "            </script>\n",
              "        </div>\n",
              "</body>\n",
              "</html>"
            ]
          },
          "metadata": {}
        }
      ]
    },
    {
      "cell_type": "markdown",
      "metadata": {
        "id": "fzVKdm3u7OY1"
      },
      "source": [
        "**Insights:**\n",
        "\n",
        "From the above graph,We can clearly see that married couple have more children.\n",
        "\n",
        "About 50% of the customers have only one child."
      ]
    },
    {
      "cell_type": "markdown",
      "metadata": {
        "id": "bvIduEMi9w7I"
      },
      "source": [
        "**Which customers spend more in the market?**"
      ]
    },
    {
      "cell_type": "code",
      "metadata": {
        "id": "CGq2kb5msH2F",
        "colab": {
          "base_uri": "https://localhost:8080/",
          "height": 436
        },
        "outputId": "9a99dc85-c0c2-4226-f64f-9908573cab20"
      },
      "source": [
        "plt.figure(figsize=(8, 6),dpi=80)\n",
        "\n",
        "sns.barplot(data=data1, x=\"Marital_Status\", y=\"Spending\")\n",
        "plt.show()"
      ],
      "execution_count": null,
      "outputs": [
        {
          "output_type": "display_data",
          "data": {
            "image/png": "[encoded data removed]",
            "text/plain": [
              "<Figure size 640x480 with 1 Axes>"
            ]
          },
          "metadata": {}
        }
      ]
    },
    {
      "cell_type": "markdown",
      "metadata": {
        "id": "Y8KbzDcQ99pj"
      },
      "source": [
        "**Insight:**\n",
        "\n",
        "From our graph,we can see that absurd customers spend more in the market."
      ]
    },
    {
      "cell_type": "markdown",
      "metadata": {
        "id": "BD0G21NzIfik"
      },
      "source": [
        "## **Average spendings by children**"
      ]
    },
    {
      "cell_type": "code",
      "metadata": {
        "id": "FTks_OuW-7y2",
        "colab": {
          "base_uri": "https://localhost:8080/",
          "height": 405
        },
        "outputId": "18c21c60-d0e0-4fdf-d513-b7d5ca7b5aca"
      },
      "source": [
        "children_spending = data1.groupby('Children')['Spending'].mean().sort_values(ascending=False)\n",
        "children_spending_data = pd.DataFrame(list(children_spending.items()), columns=['No. of Children', 'Average Spending'])\n",
        "\n",
        "plt.figure(figsize=(10,6))\n",
        "\n",
        "sns.barplot(data=children_spending_data,  x=\"No. of Children\", y=\"Average Spending\")\n",
        "plt.xticks( fontsize=16)\n",
        "plt.yticks( fontsize=16)\n",
        "plt.xlabel('No. of Children', fontsize=20)\n",
        "plt.ylabel('Average Spending', fontsize=20)\n",
        "plt.show()"
      ],
      "execution_count": null,
      "outputs": [
        {
          "output_type": "display_data",
          "data": {
            "image/png": "[encoded data removed]",
            "text/plain": [
              "<Figure size 720x432 with 1 Axes>"
            ]
          },
          "metadata": {}
        }
      ]
    },
    {
      "cell_type": "markdown",
      "metadata": {
        "id": "nwappWzZNExZ"
      },
      "source": [
        "**Insights:**\n",
        "\n",
        "Customers who don't have any children at home spent higher than the customers having 1 children.\n",
        "\n",
        "The customers having 1 children are spending higher than the customers having 2 and 3 children."
      ]
    },
    {
      "cell_type": "markdown",
      "metadata": {
        "id": "nToEkmz4fuPX"
      },
      "source": [
        "**What is average Income based on their age?**"
      ]
    },
    {
      "cell_type": "code",
      "metadata": {
        "id": "uyKZbLtT-7vH",
        "colab": {
          "base_uri": "https://localhost:8080/",
          "height": 206
        },
        "outputId": "c7ec253a-2506-43e9-bd10-582eb3ecc7a6"
      },
      "source": [
        "age_df = data1.groupby(by = ['Age']).agg({'Income':'mean'}).reset_index()\n",
        "age_df.head()"
      ],
      "execution_count": null,
      "outputs": [
        {
          "output_type": "execute_result",
          "data": {
            "text/html": [
              "<div>\n",
              "<style scoped>\n",
              "    .dataframe tbody tr th:only-of-type {\n",
              "        vertical-align: middle;\n",
              "    }\n",
              "\n",
              "    .dataframe tbody tr th {\n",
              "        vertical-align: top;\n",
              "    }\n",
              "\n",
              "    .dataframe thead th {\n",
              "        text-align: right;\n",
              "    }\n",
              "</style>\n",
              "<table border=\"1\" class=\"dataframe\">\n",
              "  <thead>\n",
              "    <tr style=\"text-align: right;\">\n",
              "      <th></th>\n",
              "      <th>Age</th>\n",
              "      <th>Income</th>\n",
              "    </tr>\n",
              "  </thead>\n",
              "  <tbody>\n",
              "    <tr>\n",
              "      <th>0</th>\n",
              "      <td>18</td>\n",
              "      <td>10960.500000</td>\n",
              "    </tr>\n",
              "    <tr>\n",
              "      <th>1</th>\n",
              "      <td>19</td>\n",
              "      <td>60937.000000</td>\n",
              "    </tr>\n",
              "    <tr>\n",
              "      <th>2</th>\n",
              "      <td>20</td>\n",
              "      <td>85449.333333</td>\n",
              "    </tr>\n",
              "    <tr>\n",
              "      <th>3</th>\n",
              "      <td>21</td>\n",
              "      <td>74139.800000</td>\n",
              "    </tr>\n",
              "    <tr>\n",
              "      <th>4</th>\n",
              "      <td>22</td>\n",
              "      <td>47830.153846</td>\n",
              "    </tr>\n",
              "  </tbody>\n",
              "</table>\n",
              "</div>"
            ],
            "text/plain": [
              "   Age        Income\n",
              "0   18  10960.500000\n",
              "1   19  60937.000000\n",
              "2   20  85449.333333\n",
              "3   21  74139.800000\n",
              "4   22  47830.153846"
            ]
          },
          "metadata": {},
          "execution_count": 73
        }
      ]
    },
    {
      "cell_type": "code",
      "metadata": {
        "colab": {
          "base_uri": "https://localhost:8080/",
          "height": 417
        },
        "id": "59LtkmG3NgYM",
        "outputId": "a23ce8e8-3fd8-4c87-a8e2-6289bf514c06"
      },
      "source": [
        "plt= px.bar(age_df, x = 'Age', y = 'Income')\n",
        "plt.update_layout(height=400, width=700, title_text=\"Age Vs Average Income\")\n",
        "plt.show()"
      ],
      "execution_count": null,
      "outputs": [
        {
          "output_type": "display_data",
          "data": {
            "text/html": [
              "<html>\n",
              "<head><meta charset=\"utf-8\" /></head>\n",
              "<body>\n",
              "    <div>\n",
              "            <script src=\"https://cdnjs.cloudflare.com/ajax/libs/mathjax/2.7.5/MathJax.js?config=TeX-AMS-MML_SVG\"></script><script type=\"text/javascript\">if (window.MathJax) {MathJax.Hub.Config({SVG: {font: \"STIX-Web\"}});}</script>\n",
              "                <script type=\"text/javascript\">window.PlotlyConfig = {MathJaxConfig: 'local'};</script>\n",
              "        <script src=\"https://cdn.plot.ly/plotly-latest.min.js\"></script>    \n",
              "            <div id=\"d332d089-0b1c-416d-9f71-ba0c1b0a936f\" class=\"plotly-graph-div\" style=\"height:400px; width:700px;\"></div>\n",
              "            <script type=\"text/javascript\">\n",
              "                \n",
              "                    window.PLOTLYENV=window.PLOTLYENV || {};\n",
              "                    \n",
              "                if (document.getElementById(\"d332d089-0b1c-416d-9f71-ba0c1b0a936f\")) {\n",
              "                    Plotly.newPlot(\n",
              "                        'd332d089-0b1c-416d-9f71-ba0c1b0a936f',\n",
              "                        [{\"alignmentgroup\": \"True\", \"hoverlabel\": {\"namelength\": 0}, \"hovertemplate\": \"Age=%{x}<br>Income=%{y}\", \"legendgroup\": \"\", \"marker\": {\"color\": \"#636efa\"}, \"name\": \"\", \"offsetgroup\": \"\", \"orientation\": \"v\", \"showlegend\": false, \"textposition\": \"auto\", \"type\": \"bar\", \"x\": [18, 19, 20, 21, 22, 23, 24, 25, 26, 27, 28, 29, 30, 31, 32, 33, 34, 35, 36, 37, 38, 39, 40, 41, 42, 43, 44, 45, 46, 47, 48, 49, 50, 51, 52, 53, 54, 55, 56, 57, 58, 59, 60, 61, 62, 63, 64, 65, 66, 67, 68, 69, 70, 71, 73, 74, 114, 115, 121], \"xaxis\": \"x\", \"y\": [10960.5, 60937.0, 85449.33333333333, 74139.8, 47830.153846153844, 60900.333333333336, 40919.27777777778, 42250.1724137931, 47947.75862068965, 46888.666666666664, 43346.41463414634, 39192.9375, 39132.78947368421, 47996.39024390244, 52683.795454545456, 46894.92105263158, 49927.02564102564, 44956.52830188679, 46012.43421052631, 50809.64705882353, 47539.213483146064, 52417.132530120485, 48338.89855072464, 47219.72222222222, 51123.333333333336, 49354.90697674418, 52395.973333333335, 51205.62857142857, 48597.450980392154, 53782.431818181816, 50960.46, 55668.66216216216, 56473.90243902439, 48815.86363636364, 60988.954545454544, 57161.05714285714, 54817.63265306123, 56324.08, 58603.71153846154, 54020.26829268293, 56706.6, 57611.375, 58628.38775510204, 57810.0, 56903.67307692308, 55999.857142857145, 50197.1724137931, 61547.2, 65405.04761904762, 66327.5625, 59944.25, 70375.375, 66477.14285714286, 62324.166666666664, 93027.0, 51141.0, 36640.0, 83532.0, 60182.0], \"yaxis\": \"y\"}],\n",
              "                        {\"barmode\": \"relative\", \"height\": 400, \"legend\": {\"tracegroupgap\": 0}, \"margin\": {\"t\": 60}, \"template\": {\"data\": {\"bar\": [{\"error_x\": {\"color\": \"#2a3f5f\"}, \"error_y\": {\"color\": \"#2a3f5f\"}, \"marker\": {\"line\": {\"color\": \"#E5ECF6\", \"width\": 0.5}}, \"type\": \"bar\"}], \"barpolar\": [{\"marker\": {\"line\": {\"color\": \"#E5ECF6\", \"width\": 0.5}}, \"type\": \"barpolar\"}], \"carpet\": [{\"aaxis\": {\"endlinecolor\": \"#2a3f5f\", \"gridcolor\": \"white\", \"linecolor\": \"white\", \"minorgridcolor\": \"white\", \"startlinecolor\": \"#2a3f5f\"}, \"baxis\": {\"endlinecolor\": \"#2a3f5f\", \"gridcolor\": \"white\", \"linecolor\": \"white\", \"minorgridcolor\": \"white\", \"startlinecolor\": \"#2a3f5f\"}, \"type\": \"carpet\"}], \"choropleth\": [{\"colorbar\": {\"outlinewidth\": 0, \"ticks\": \"\"}, \"type\": \"choropleth\"}], \"contour\": [{\"colorbar\": {\"outlinewidth\": 0, \"ticks\": \"\"}, \"colorscale\": [[0.0, \"#0d0887\"], [0.1111111111111111, \"#46039f\"], [0.2222222222222222, \"#7201a8\"], [0.3333333333333333, \"#9c179e\"], [0.4444444444444444, \"#bd3786\"], [0.5555555555555556, \"#d8576b\"], [0.6666666666666666, \"#ed7953\"], [0.7777777777777778, \"#fb9f3a\"], [0.8888888888888888, \"#fdca26\"], [1.0, \"#f0f921\"]], \"type\": \"contour\"}], \"contourcarpet\": [{\"colorbar\": {\"outlinewidth\": 0, \"ticks\": \"\"}, \"type\": \"contourcarpet\"}], \"heatmap\": [{\"colorbar\": {\"outlinewidth\": 0, \"ticks\": \"\"}, \"colorscale\": [[0.0, \"#0d0887\"], [0.1111111111111111, \"#46039f\"], [0.2222222222222222, \"#7201a8\"], [0.3333333333333333, \"#9c179e\"], [0.4444444444444444, \"#bd3786\"], [0.5555555555555556, \"#d8576b\"], [0.6666666666666666, \"#ed7953\"], [0.7777777777777778, \"#fb9f3a\"], [0.8888888888888888, \"#fdca26\"], [1.0, \"#f0f921\"]], \"type\": \"heatmap\"}], \"heatmapgl\": [{\"colorbar\": {\"outlinewidth\": 0, \"ticks\": \"\"}, \"colorscale\": [[0.0, \"#0d0887\"], [0.1111111111111111, \"#46039f\"], [0.2222222222222222, \"#7201a8\"], [0.3333333333333333, \"#9c179e\"], [0.4444444444444444, \"#bd3786\"], [0.5555555555555556, \"#d8576b\"], [0.6666666666666666, \"#ed7953\"], [0.7777777777777778, \"#fb9f3a\"], [0.8888888888888888, \"#fdca26\"], [1.0, \"#f0f921\"]], \"type\": \"heatmapgl\"}], \"histogram\": [{\"marker\": {\"colorbar\": {\"outlinewidth\": 0, \"ticks\": \"\"}}, \"type\": \"histogram\"}], \"histogram2d\": [{\"colorbar\": {\"outlinewidth\": 0, \"ticks\": \"\"}, \"colorscale\": [[0.0, \"#0d0887\"], [0.1111111111111111, \"#46039f\"], [0.2222222222222222, \"#7201a8\"], [0.3333333333333333, \"#9c179e\"], [0.4444444444444444, \"#bd3786\"], [0.5555555555555556, \"#d8576b\"], [0.6666666666666666, \"#ed7953\"], [0.7777777777777778, \"#fb9f3a\"], [0.8888888888888888, \"#fdca26\"], [1.0, \"#f0f921\"]], \"type\": \"histogram2d\"}], \"histogram2dcontour\": [{\"colorbar\": {\"outlinewidth\": 0, \"ticks\": \"\"}, \"colorscale\": [[0.0, \"#0d0887\"], [0.1111111111111111, \"#46039f\"], [0.2222222222222222, \"#7201a8\"], [0.3333333333333333, \"#9c179e\"], [0.4444444444444444, \"#bd3786\"], [0.5555555555555556, \"#d8576b\"], [0.6666666666666666, \"#ed7953\"], [0.7777777777777778, \"#fb9f3a\"], [0.8888888888888888, \"#fdca26\"], [1.0, \"#f0f921\"]], \"type\": \"histogram2dcontour\"}], \"mesh3d\": [{\"colorbar\": {\"outlinewidth\": 0, \"ticks\": \"\"}, \"type\": \"mesh3d\"}], \"parcoords\": [{\"line\": {\"colorbar\": {\"outlinewidth\": 0, \"ticks\": \"\"}}, \"type\": \"parcoords\"}], \"pie\": [{\"automargin\": true, \"type\": \"pie\"}], \"scatter\": [{\"marker\": {\"colorbar\": {\"outlinewidth\": 0, \"ticks\": \"\"}}, \"type\": \"scatter\"}], \"scatter3d\": [{\"line\": {\"colorbar\": {\"outlinewidth\": 0, \"ticks\": \"\"}}, \"marker\": {\"colorbar\": {\"outlinewidth\": 0, \"ticks\": \"\"}}, \"type\": \"scatter3d\"}], \"scattercarpet\": [{\"marker\": {\"colorbar\": {\"outlinewidth\": 0, \"ticks\": \"\"}}, \"type\": \"scattercarpet\"}], \"scattergeo\": [{\"marker\": {\"colorbar\": {\"outlinewidth\": 0, \"ticks\": \"\"}}, \"type\": \"scattergeo\"}], \"scattergl\": [{\"marker\": {\"colorbar\": {\"outlinewidth\": 0, \"ticks\": \"\"}}, \"type\": \"scattergl\"}], \"scattermapbox\": [{\"marker\": {\"colorbar\": {\"outlinewidth\": 0, \"ticks\": \"\"}}, \"type\": \"scattermapbox\"}], \"scatterpolar\": [{\"marker\": {\"colorbar\": {\"outlinewidth\": 0, \"ticks\": \"\"}}, \"type\": \"scatterpolar\"}], \"scatterpolargl\": [{\"marker\": {\"colorbar\": {\"outlinewidth\": 0, \"ticks\": \"\"}}, \"type\": \"scatterpolargl\"}], \"scatterternary\": [{\"marker\": {\"colorbar\": {\"outlinewidth\": 0, \"ticks\": \"\"}}, \"type\": \"scatterternary\"}], \"surface\": [{\"colorbar\": {\"outlinewidth\": 0, \"ticks\": \"\"}, \"colorscale\": [[0.0, \"#0d0887\"], [0.1111111111111111, \"#46039f\"], [0.2222222222222222, \"#7201a8\"], [0.3333333333333333, \"#9c179e\"], [0.4444444444444444, \"#bd3786\"], [0.5555555555555556, \"#d8576b\"], [0.6666666666666666, \"#ed7953\"], [0.7777777777777778, \"#fb9f3a\"], [0.8888888888888888, \"#fdca26\"], [1.0, \"#f0f921\"]], \"type\": \"surface\"}], \"table\": [{\"cells\": {\"fill\": {\"color\": \"#EBF0F8\"}, \"line\": {\"color\": \"white\"}}, \"header\": {\"fill\": {\"color\": \"#C8D4E3\"}, \"line\": {\"color\": \"white\"}}, \"type\": \"table\"}]}, \"layout\": {\"annotationdefaults\": {\"arrowcolor\": \"#2a3f5f\", \"arrowhead\": 0, \"arrowwidth\": 1}, \"coloraxis\": {\"colorbar\": {\"outlinewidth\": 0, \"ticks\": \"\"}}, \"colorscale\": {\"diverging\": [[0, \"#8e0152\"], [0.1, \"#c51b7d\"], [0.2, \"#de77ae\"], [0.3, \"#f1b6da\"], [0.4, \"#fde0ef\"], [0.5, \"#f7f7f7\"], [0.6, \"#e6f5d0\"], [0.7, \"#b8e186\"], [0.8, \"#7fbc41\"], [0.9, \"#4d9221\"], [1, \"#276419\"]], \"sequential\": [[0.0, \"#0d0887\"], [0.1111111111111111, \"#46039f\"], [0.2222222222222222, \"#7201a8\"], [0.3333333333333333, \"#9c179e\"], [0.4444444444444444, \"#bd3786\"], [0.5555555555555556, \"#d8576b\"], [0.6666666666666666, \"#ed7953\"], [0.7777777777777778, \"#fb9f3a\"], [0.8888888888888888, \"#fdca26\"], [1.0, \"#f0f921\"]], \"sequentialminus\": [[0.0, \"#0d0887\"], [0.1111111111111111, \"#46039f\"], [0.2222222222222222, \"#7201a8\"], [0.3333333333333333, \"#9c179e\"], [0.4444444444444444, \"#bd3786\"], [0.5555555555555556, \"#d8576b\"], [0.6666666666666666, \"#ed7953\"], [0.7777777777777778, \"#fb9f3a\"], [0.8888888888888888, \"#fdca26\"], [1.0, \"#f0f921\"]]}, \"colorway\": [\"#636efa\", \"#EF553B\", \"#00cc96\", \"#ab63fa\", \"#FFA15A\", \"#19d3f3\", \"#FF6692\", \"#B6E880\", \"#FF97FF\", \"#FECB52\"], \"font\": {\"color\": \"#2a3f5f\"}, \"geo\": {\"bgcolor\": \"white\", \"lakecolor\": \"white\", \"landcolor\": \"#E5ECF6\", \"showlakes\": true, \"showland\": true, \"subunitcolor\": \"white\"}, \"hoverlabel\": {\"align\": \"left\"}, \"hovermode\": \"closest\", \"mapbox\": {\"style\": \"light\"}, \"paper_bgcolor\": \"white\", \"plot_bgcolor\": \"#E5ECF6\", \"polar\": {\"angularaxis\": {\"gridcolor\": \"white\", \"linecolor\": \"white\", \"ticks\": \"\"}, \"bgcolor\": \"#E5ECF6\", \"radialaxis\": {\"gridcolor\": \"white\", \"linecolor\": \"white\", \"ticks\": \"\"}}, \"scene\": {\"xaxis\": {\"backgroundcolor\": \"#E5ECF6\", \"gridcolor\": \"white\", \"gridwidth\": 2, \"linecolor\": \"white\", \"showbackground\": true, \"ticks\": \"\", \"zerolinecolor\": \"white\"}, \"yaxis\": {\"backgroundcolor\": \"#E5ECF6\", \"gridcolor\": \"white\", \"gridwidth\": 2, \"linecolor\": \"white\", \"showbackground\": true, \"ticks\": \"\", \"zerolinecolor\": \"white\"}, \"zaxis\": {\"backgroundcolor\": \"#E5ECF6\", \"gridcolor\": \"white\", \"gridwidth\": 2, \"linecolor\": \"white\", \"showbackground\": true, \"ticks\": \"\", \"zerolinecolor\": \"white\"}}, \"shapedefaults\": {\"line\": {\"color\": \"#2a3f5f\"}}, \"ternary\": {\"aaxis\": {\"gridcolor\": \"white\", \"linecolor\": \"white\", \"ticks\": \"\"}, \"baxis\": {\"gridcolor\": \"white\", \"linecolor\": \"white\", \"ticks\": \"\"}, \"bgcolor\": \"#E5ECF6\", \"caxis\": {\"gridcolor\": \"white\", \"linecolor\": \"white\", \"ticks\": \"\"}}, \"title\": {\"x\": 0.05}, \"xaxis\": {\"automargin\": true, \"gridcolor\": \"white\", \"linecolor\": \"white\", \"ticks\": \"\", \"title\": {\"standoff\": 15}, \"zerolinecolor\": \"white\", \"zerolinewidth\": 2}, \"yaxis\": {\"automargin\": true, \"gridcolor\": \"white\", \"linecolor\": \"white\", \"ticks\": \"\", \"title\": {\"standoff\": 15}, \"zerolinecolor\": \"white\", \"zerolinewidth\": 2}}}, \"title\": {\"text\": \"Age Vs Average Income\"}, \"width\": 700, \"xaxis\": {\"anchor\": \"y\", \"domain\": [0.0, 1.0], \"title\": {\"text\": \"Age\"}}, \"yaxis\": {\"anchor\": \"x\", \"domain\": [0.0, 1.0], \"title\": {\"text\": \"Income\"}}},\n",
              "                        {\"responsive\": true}\n",
              "                    ).then(function(){\n",
              "                            \n",
              "var gd = document.getElementById('d332d089-0b1c-416d-9f71-ba0c1b0a936f');\n",
              "var x = new MutationObserver(function (mutations, observer) {{\n",
              "        var display = window.getComputedStyle(gd).display;\n",
              "        if (!display || display === 'none') {{\n",
              "            console.log([gd, 'removed!']);\n",
              "            Plotly.purge(gd);\n",
              "            observer.disconnect();\n",
              "        }}\n",
              "}});\n",
              "\n",
              "// Listen for the removal of the full notebook cells\n",
              "var notebookContainer = gd.closest('#notebook-container');\n",
              "if (notebookContainer) {{\n",
              "    x.observe(notebookContainer, {childList: true});\n",
              "}}\n",
              "\n",
              "// Listen for the clearing of the current output cell\n",
              "var outputEl = gd.closest('.output');\n",
              "if (outputEl) {{\n",
              "    x.observe(outputEl, {childList: true});\n",
              "}}\n",
              "\n",
              "                        })\n",
              "                };\n",
              "                \n",
              "            </script>\n",
              "        </div>\n",
              "</body>\n",
              "</html>"
            ]
          },
          "metadata": {}
        }
      ]
    },
    {
      "cell_type": "markdown",
      "metadata": {
        "id": "ONLKCh70jIrf"
      },
      "source": [
        "**Insights:**\n",
        "\n",
        "73 year old customer has an average income of 93.02k\n",
        "\n",
        "At the age of 20 ,another customer earns an average income of 85.45k\n",
        "\n",
        "Age group 30-70 has an average income of 67k"
      ]
    },
    {
      "cell_type": "markdown",
      "metadata": {
        "id": "MPdNU5dWlEEx"
      },
      "source": [
        "**Let's find which are the most bought products.**"
      ]
    },
    {
      "cell_type": "code",
      "metadata": {
        "id": "FuiG-W3JNga9",
        "colab": {
          "base_uri": "https://localhost:8080/",
          "height": 477
        },
        "outputId": "d4030810-b848-44dd-9d00-07fe88e318f2"
      },
      "source": [
        "import matplotlib.pyplot as plt\n",
        "products = data1[['Wines', 'Fruits', 'Meat', 'Fish', 'Sweets', 'Gold']]\n",
        "product_means = products.mean(axis=0).sort_values(ascending=False)\n",
        "product_means_df = pd.DataFrame(list(product_means.items()), columns=['Product', 'Average Spending'])\n",
        "\n",
        "plt.figure(figsize=(10,6),dpi=80)\n",
        "plt.title('Average Spending on Products')\n",
        "sns.barplot(data=product_means_df, x='Product', y='Average Spending');\n",
        "plt.xlabel('Product', fontsize=20, labelpad=20)\n",
        "plt.ylabel('Average Spending', fontsize=20, labelpad=20)\n",
        "plt.show()"
      ],
      "execution_count": null,
      "outputs": [
        {
          "output_type": "display_data",
          "data": {
            "image/png": "[encoded data removed]",
            "text/plain": [
              "<Figure size 800x480 with 1 Axes>"
            ]
          },
          "metadata": {}
        }
      ]
    },
    {
      "cell_type": "markdown",
      "metadata": {
        "id": "R8ttdmUrlRYY"
      },
      "source": [
        "**Insights:**\n",
        "\n",
        "From the graph,we can find that customers spent more on wine compared to other products.\n",
        "\n",
        "Next the meat product is purchased the most."
      ]
    },
    {
      "cell_type": "markdown",
      "metadata": {
        "id": "E6pFLXp2mENg"
      },
      "source": [
        "**Which Age group spend more on wine?**"
      ]
    },
    {
      "cell_type": "code",
      "metadata": {
        "id": "dvEx4L-nsH5U",
        "colab": {
          "base_uri": "https://localhost:8080/",
          "height": 542
        },
        "outputId": "19ef1e08-0620-445b-eb18-b809674302ea"
      },
      "source": [
        "plt = px.scatter(data1, x=\"Age\", y=\"Wines\",labels={\n",
        "                     \"Age\": \"Age\",\n",
        "                     \"Wines\": \"Amount Spent on Wine\"                 \n",
        "                 }, color = 'Wines',title='Amount spent on wine in last 2 years by Age')\n",
        "plt.show()"
      ],
      "execution_count": null,
      "outputs": [
        {
          "output_type": "display_data",
          "data": {
            "text/html": [
              "<html>\n",
              "<head><meta charset=\"utf-8\" /></head>\n",
              "<body>\n",
              "    <div>\n",
              "            <script src=\"https://cdnjs.cloudflare.com/ajax/libs/mathjax/2.7.5/MathJax.js?config=TeX-AMS-MML_SVG\"></script><script type=\"text/javascript\">if (window.MathJax) {MathJax.Hub.Config({SVG: {font: \"STIX-Web\"}});}</script>\n",
              "                <script type=\"text/javascript\">window.PlotlyConfig = {MathJaxConfig: 'local'};</script>\n",
              "        <script src=\"https://cdn.plot.ly/plotly-latest.min.js\"></script>    \n",
              "            <div id=\"cd64763a-3754-45d4-806d-15254918e0ad\" class=\"plotly-graph-div\" style=\"height:525px; width:100%;\"></div>\n",
              "            <script type=\"text/javascript\">\n",
              "                \n",
              "                    window.PLOTLYENV=window.PLOTLYENV || {};\n",
              "                    \n",
              "                if (document.getElementById(\"cd64763a-3754-45d4-806d-15254918e0ad\")) {\n",
              "                    Plotly.newPlot(\n",
              "                        'cd64763a-3754-45d4-806d-15254918e0ad',\n",
              "                        [{\"hoverlabel\": {\"namelength\": 0}, \"hovertemplate\": \"Age=%{x}<br>Amount Spent on Wine=%{marker.color}\", \"legendgroup\": \"\", \"marker\": {\"color\": [635, 11, 426, 11, 173, 520, 235, 76, 14, 28, 6, 194, 233, 3, 1006, 53, 84, 1012, 4, 86, 1, 867, 384, 270, 6, 173, 36, 684, 8, 112, 110, 96, 482, 40, 702, 6, 55, 437, 421, 13, 9, 3, 123, 3, 13, 826, 245, 650, 12, 510, 328, 984, 295, 13, 447, 712, 452, 523, 546, 398, 1, 10, 688, 247, 856, 496, 258, 565, 14, 2, 721, 1032, 1, 577, 64, 4, 25, 112, 163, 17, 130, 292, 350, 135, 15, 27, 5, 505, 51, 207, 135, 53, 41, 386, 562, 217, 1, 144, 295, 76, 454, 425, 1332, 527, 490, 378, 64, 547, 47, 12, 1, 320, 34, 9, 17, 722, 162, 450, 70, 492, 120, 534, 236, 220, 796, 0, 53, 15, 17, 962, 738, 399, 614, 32, 598, 2, 6, 73, 42, 295, 346, 233, 5, 888, 997, 212, 8, 42, 536, 5, 1349, 53, 1001, 20, 18, 125, 212, 277, 15, 7, 12, 85, 81, 59, 1149, 847, 29, 2, 207, 152, 12, 620, 47, 1, 10, 35, 356, 783, 42, 1, 466, 15, 23, 235, 10, 656, 519, 344, 96, 448, 265, 587, 763, 22, 6, 7, 81, 54, 1170, 72, 613, 224, 410, 239, 171, 12, 1076, 182, 824, 30, 377, 520, 155, 897, 131, 297, 787, 792, 4, 231, 983, 3, 0, 562, 5, 18, 415, 5, 8, 901, 382, 14, 559, 789, 11, 1218, 925, 864, 960, 16, 3, 168, 45, 650, 24, 918, 138, 12, 11, 1, 554, 167, 9, 177, 38, 483, 77, 182, 10, 778, 16, 167, 13, 33, 625, 216, 68, 196, 635, 4, 297, 84, 204, 26, 15, 304, 285, 395, 248, 20, 39, 777, 8, 9, 1241, 6, 65, 395, 801, 36, 513, 37, 80, 14, 525, 1, 675, 509, 154, 3, 25, 768, 185, 24, 44, 91, 11, 412, 3, 16, 731, 424, 792, 21, 22, 33, 68, 9, 40, 909, 23, 11, 317, 797, 10, 856, 755, 456, 37, 1103, 378, 1, 204, 30, 189, 15, 9, 495, 656, 452, 546, 1048, 22, 78, 561, 629, 269, 736, 512, 19, 9, 247, 404, 333, 2, 833, 789, 10, 159, 7, 977, 38, 57, 3, 10, 1043, 3, 11, 3, 43, 73, 12, 4, 314, 571, 70, 866, 594, 140, 375, 102, 554, 919, 96, 5, 2, 6, 23, 610, 67, 65, 416, 23, 19, 155, 14, 370, 4, 407, 1200, 85, 583, 483, 2, 966, 822, 604, 19, 5, 2, 1076, 1285, 10, 551, 800, 2, 378, 1248, 235, 515, 438, 25, 31, 357, 400, 99, 1, 5, 77, 3, 10, 0, 0, 76, 398, 14, 208, 430, 656, 14, 141, 507, 164, 606, 116, 143, 398, 522, 161, 112, 483, 7, 789, 1239, 4, 335, 639, 563, 2, 746, 22, 4, 478, 20, 451, 371, 281, 19, 26, 138, 213, 407, 483, 738, 502, 11, 24, 1170, 185, 983, 691, 504, 317, 29, 1396, 529, 388, 13, 28, 16, 1047, 31, 815, 225, 493, 34, 382, 127, 325, 238, 1168, 284, 1288, 65, 11, 227, 1035, 27, 982, 179, 1379, 32, 8, 881, 141, 1000, 206, 162, 619, 456, 112, 11, 172, 78, 464, 99, 19, 1, 63, 252, 1478, 198, 8, 416, 42, 14, 17, 15, 6, 458, 30, 179, 90, 308, 557, 7, 1492, 30, 249, 465, 129, 174, 189, 747, 6, 14, 12, 98, 32, 51, 200, 25, 1050, 117, 9, 56, 145, 203, 270, 9, 37, 46, 31, 1060, 264, 399, 8, 19, 817, 292, 12, 130, 6, 16, 19, 4, 31, 36, 526, 400, 410, 80, 88, 55, 5, 8, 410, 101, 162, 2, 25, 389, 215, 27, 85, 5, 179, 352, 17, 625, 10, 390, 10, 215, 1001, 19, 41, 1181, 603, 129, 10, 514, 14, 387, 121, 965, 707, 571, 586, 1063, 305, 1200, 163, 1009, 125, 721, 315, 1000, 16, 757, 30, 219, 1, 111, 45, 410, 100, 509, 3, 445, 2, 4, 6, 14, 1, 26, 111, 418, 327, 371, 275, 789, 1, 1004, 187, 56, 365, 595, 1132, 34, 116, 565, 372, 899, 55, 760, 260, 459, 466, 67, 2, 67, 92, 4, 20, 273, 434, 321, 212, 909, 1184, 112, 656, 23, 537, 712, 23, 1, 664, 6, 299, 99, 749, 345, 9, 440, 8, 670, 524, 6, 597, 7, 54, 445, 294, 292, 412, 8, 349, 328, 144, 1126, 967, 432, 138, 0, 509, 948, 39, 28, 13, 307, 901, 2, 283, 4, 769, 518, 350, 445, 778, 709, 359, 799, 895, 40, 76, 11, 245, 647, 39, 203, 138, 587, 595, 43, 301, 180, 794, 392, 39, 107, 13, 70, 680, 26, 522, 412, 6, 2, 1, 6, 4, 18, 324, 327, 229, 521, 184, 4, 183, 31, 219, 479, 584, 627, 24, 330, 19, 28, 606, 1039, 411, 34, 161, 623, 604, 3, 12, 184, 393, 410, 376, 7, 68, 642, 8, 840, 7, 464, 30, 1492, 752, 1279, 22, 860, 3, 10, 351, 421, 2, 25, 336, 191, 563, 31, 479, 18, 91, 5, 2, 362, 724, 605, 547, 104, 8, 224, 384, 556, 24, 408, 265, 34, 374, 27, 600, 13, 167, 0, 46, 88, 243, 275, 6, 121, 4, 1308, 515, 4, 48, 562, 769, 379, 29, 387, 12, 6, 27, 9, 22, 899, 889, 189, 48, 230, 852, 35, 205, 255, 0, 437, 825, 316, 756, 194, 7, 183, 171, 243, 181, 151, 494, 464, 5, 29, 102, 604, 571, 953, 63, 770, 398, 741, 1478, 156, 960, 38, 315, 15, 19, 812, 73, 372, 871, 375, 760, 471, 31, 819, 1, 203, 26, 354, 1253, 371, 588, 480, 517, 267, 1111, 7, 1166, 261, 135, 6, 711, 11, 42, 79, 20, 30, 20, 115, 263, 69, 267, 561, 492, 14, 80, 97, 197, 693, 43, 14, 186, 434, 59, 16, 230, 829, 318, 1206, 292, 30, 729, 12, 2, 22, 587, 674, 284, 1023, 1394, 311, 27, 1296, 3, 393, 218, 66, 4, 795, 15, 384, 244, 158, 1285, 349, 4, 223, 157, 397, 901, 14, 10, 1230, 81, 154, 63, 30, 90, 635, 127, 13, 18, 45, 38, 986, 61, 4, 201, 19, 4, 18, 806, 380, 576, 458, 5, 350, 39, 26, 68, 45, 359, 403, 34, 73, 292, 14, 80, 30, 463, 75, 538, 635, 8, 1315, 4, 12, 347, 192, 241, 631, 336, 1099, 743, 124, 15, 397, 10, 530, 1215, 3, 444, 26, 736, 473, 32, 288, 1050, 1001, 9, 234, 7, 251, 172, 565, 5, 918, 652, 4, 152, 8, 336, 938, 68, 227, 38, 105, 162, 574, 160, 6, 614, 897, 70, 120, 211, 11, 760, 53, 7, 391, 199, 516, 709, 12, 1000, 19, 1224, 16, 88, 2, 508, 381, 74, 146, 23, 110, 165, 957, 41, 1, 176, 815, 6, 8, 717, 1067, 166, 29, 714, 8, 229, 320, 23, 1, 56, 508, 29, 46, 454, 350, 10, 735, 897, 5, 777, 162, 35, 342, 258, 658, 356, 213, 454, 457, 241, 210, 441, 19, 28, 476, 364, 0, 0, 863, 349, 5, 184, 8, 277, 44, 1156, 373, 134, 1148, 6, 4, 5, 24, 899, 108, 27, 816, 1298, 10, 87, 57, 635, 43, 964, 572, 341, 63, 221, 140, 1, 291, 544, 684, 1, 35, 87, 309, 172, 625, 972, 157, 48, 279, 132, 919, 62, 1, 2, 408, 51, 62, 952, 618, 11, 318, 56, 110, 23, 27, 18, 18, 303, 97, 997, 5, 95, 1, 46, 411, 244, 152, 1, 10, 12, 5, 790, 882, 615, 1004, 133, 595, 293, 313, 151, 15, 736, 15, 982, 1142, 28, 46, 897, 489, 25, 145, 630, 760, 420, 125, 464, 6, 1090, 3, 24, 737, 254, 817, 620, 13, 113, 7, 16, 462, 22, 968, 283, 1, 14, 30, 4, 52, 62, 20, 545, 558, 6, 39, 1111, 4, 183, 546, 606, 266, 1142, 1074, 771, 371, 556, 202, 209, 35, 37, 171, 12, 44, 20, 779, 170, 491, 173, 7, 1205, 10, 97, 67, 345, 6, 73, 711, 774, 163, 82, 358, 66, 13, 139, 274, 262, 1099, 32, 2, 6, 6, 135, 641, 714, 794, 420, 1, 86, 823, 231, 8, 182, 557, 79, 368, 6, 160, 488, 691, 543, 254, 5, 112, 134, 143, 51, 27, 459, 689, 283, 347, 5, 280, 95, 84, 18, 992, 9, 19, 709, 158, 10, 25, 8, 14, 622, 11, 25, 635, 100, 201, 642, 97, 204, 513, 88, 172, 329, 296, 100, 422, 1218, 5, 507, 52, 191, 2, 68, 20, 20, 7, 279, 977, 30, 6, 3, 14, 10, 7, 33, 12, 2, 693, 9, 129, 16, 201, 5, 14, 29, 26, 9, 14, 972, 966, 99, 482, 714, 587, 399, 56, 227, 703, 37, 167, 458, 91, 15, 1302, 153, 508, 290, 38, 2, 30, 386, 443, 901, 9, 846, 8, 72, 29, 169, 460, 69, 556, 73, 112, 944, 265, 526, 2, 2, 378, 553, 751, 406, 1449, 123, 267, 209, 1259, 344, 22, 247, 38, 896, 931, 758, 216, 2, 244, 539, 1181, 750, 306, 350, 331, 620, 434, 57, 811, 423, 2, 60, 675, 30, 40, 3, 910, 252, 34, 19, 2, 490, 332, 53, 784, 7, 1171, 215, 674, 57, 5, 104, 9, 431, 1000, 448, 33, 505, 267, 14, 631, 65, 10, 51, 293, 11, 50, 173, 423, 292, 757, 12, 167, 3, 30, 532, 29, 411, 5, 71, 46, 268, 928, 459, 483, 733, 1006, 34, 1156, 7, 244, 233, 35, 1252, 34, 255, 8, 368, 255, 33, 163, 15, 45, 48, 158, 754, 108, 199, 2, 202, 85, 322, 18, 141, 739, 18, 378, 1083, 1016, 23, 12, 35, 548, 342, 365, 397, 456, 5, 836, 100, 10, 238, 6, 158, 86, 856, 98, 4, 398, 313, 109, 216, 595, 123, 16, 11, 410, 159, 105, 5, 269, 629, 443, 217, 24, 9, 8, 1459, 230, 1, 340, 7, 298, 479, 267, 67, 3, 980, 50, 1, 19, 30, 213, 539, 284, 1003, 239, 51, 527, 19, 40, 21, 593, 21, 1181, 1004, 202, 446, 1184, 390, 726, 8, 50, 1, 308, 22, 690, 43, 27, 6, 205, 24, 667, 691, 493, 493, 494, 621, 9, 1, 12, 243, 11, 532, 29, 612, 387, 56, 6, 582, 6, 70, 962, 112, 293, 199, 1060, 940, 44, 342, 2, 75, 520, 5, 87, 462, 2, 979, 704, 861, 172, 5, 194, 9, 505, 533, 48, 6, 18, 482, 204, 1073, 245, 560, 173, 22, 136, 275, 56, 303, 708, 324, 1, 620, 312, 1493, 918, 98, 3, 380, 15, 3, 24, 80, 31, 138, 166, 12, 178, 707, 5, 465, 16, 358, 1, 123, 40, 102, 347, 376, 21, 194, 64, 206, 71, 71, 0, 93, 920, 653, 199, 153, 376, 46, 600, 425, 18, 52, 734, 34, 135, 11, 163, 29, 734, 340, 453, 1073, 135, 231, 18, 620, 81, 12, 292, 965, 27, 777, 572, 438, 531, 17, 402, 503, 369, 5, 362, 56, 79, 387, 367, 15, 267, 298, 674, 16, 37, 159, 686, 97, 63, 56, 209, 198, 313, 941, 86, 167, 8, 389, 239, 179, 5, 2, 383, 2, 536, 2, 322, 539, 712, 1121, 68, 36, 707, 174, 666, 0, 162, 407, 823, 488, 28, 3, 284, 938, 13, 412, 31, 502, 18, 1, 100, 407, 664, 1045, 1218, 15, 128, 581, 6, 185, 22, 584, 355, 175, 864, 957, 25, 641, 273, 122, 1, 1020, 6, 378, 42, 15, 272, 9, 279, 398, 637, 45, 21, 15, 493, 957, 829, 1017, 953, 159, 32, 23, 18, 15, 23, 200, 1324, 1193, 505, 2, 1103, 353, 652, 379, 46, 162, 8, 17, 340, 8, 154, 710, 8, 2, 1050, 19, 22, 274, 68, 344, 145, 217, 18, 69, 144, 256, 483, 1285, 338, 605, 8, 172, 448, 67, 512, 1462, 20, 50, 102, 499, 381, 631, 526, 913, 673, 23, 199, 261, 111, 16, 63, 58, 29, 3, 28, 40, 879, 62, 280, 9, 182, 83, 38, 228, 1092, 85, 1276, 1017, 6, 448, 504, 226, 239, 90, 7, 4, 16, 10, 68, 35, 575, 315, 182, 561, 587, 94, 908, 228, 995, 11, 3, 12, 17, 8, 22, 14, 106, 820, 753, 13, 9, 19, 520, 5, 618, 315, 15, 384, 110, 208, 555, 240, 11, 848, 202, 433, 6, 37, 167, 45, 129, 713, 676, 450, 22, 367, 526, 51, 25, 28, 958, 532, 724, 39, 587, 29, 757, 544, 40, 1245, 19, 16, 376, 184, 15, 124, 627, 180, 14, 3, 8, 293, 758, 656, 196, 835, 16, 9, 229, 0, 121, 471, 520, 26, 240, 178, 1486, 1115, 29, 529, 13, 934, 2, 4, 62, 158, 173, 830, 189, 728, 7, 35, 188, 742, 0, 750, 816, 5, 37, 4, 99, 176, 54, 997, 356, 1311, 890, 4, 17, 960, 2, 1, 240, 301, 154, 2, 104, 70, 2, 23, 43, 4, 654, 912, 25, 24, 141, 71, 35, 496, 9, 154, 9, 26, 77, 11, 576, 89, 1013, 224, 200, 570, 1, 62, 531, 162, 675, 23, 492, 918, 224, 572, 626, 1074, 741, 322, 254, 116, 22, 516, 14, 2, 28, 530, 519, 611, 240, 4, 671, 23, 9, 556, 833, 12, 56, 293, 297, 39, 5, 266, 322, 366, 32, 158, 269, 41, 3, 33, 302, 519, 23, 594, 12, 4, 18, 332, 5, 171, 270, 712, 2, 21, 580, 368, 457, 229, 3, 24, 853, 5, 3, 709, 406, 908, 428, 84], \"coloraxis\": \"coloraxis\", \"symbol\": \"circle\"}, \"mode\": \"markers\", \"name\": \"\", \"showlegend\": false, \"type\": \"scattergl\", \"x\": [57, 60, 49, 30, 33, 47, 43, 29, 40, 64, 38, 55, 62, 27, 68, 34, 68, 65, 29, 32, 35, 65, 60, 63, 45, 38, 25, 49, 25, 51, 44, 62, 68, 63, 44, 38, 41, 71, 34, 29, 57, 39, 38, 18, 46, 60, 57, 50, 37, 37, 36, 59, 48, 26, 46, 32, 39, 62, 63, 66, 43, 47, 35, 56, 44, 60, 55, 39, 62, 37, 42, 38, 38, 49, 29, 45, 41, 51, 27, 54, 44, 57, 41, 47, 42, 44, 31, 54, 42, 63, 31, 54, 55, 35, 69, 55, 35, 50, 45, 36, 54, 35, 23, 51, 23, 34, 52, 44, 36, 47, 45, 61, 47, 29, 38, 31, 49, 30, 61, 58, 62, 56, 45, 50, 47, 38, 55, 41, 49, 22, 38, 52, 40, 26, 38, 39, 33, 41, 48, 61, 45, 42, 26, 62, 65, 56, 36, 37, 59, 56, 69, 30, 39, 41, 48, 61, 55, 26, 57, 49, 32, 44, 55, 47, 39, 66, 44, 55, 63, 38, 26, 68, 30, 53, 31, 44, 48, 38, 50, 36, 25, 114, 26, 41, 37, 34, 60, 60, 41, 62, 46, 36, 37, 49, 30, 26, 51, 48, 60, 58, 60, 46, 40, 29, 37, 36, 66, 60, 34, 26, 45, 44, 34, 52, 36, 38, 62, 42, 28, 48, 52, 43, 63, 49, 39, 32, 56, 41, 121, 46, 56, 43, 24, 56, 50, 42, 61, 26, 45, 39, 29, 40, 56, 47, 40, 53, 50, 50, 57, 35, 46, 44, 36, 62, 48, 51, 44, 44, 44, 61, 31, 39, 54, 51, 51, 58, 33, 28, 46, 33, 38, 68, 40, 39, 40, 62, 58, 48, 65, 30, 45, 34, 43, 49, 62, 26, 28, 32, 49, 56, 58, 36, 26, 30, 53, 48, 67, 50, 22, 38, 47, 38, 48, 58, 42, 29, 63, 43, 40, 49, 53, 61, 57, 38, 30, 64, 28, 31, 25, 58, 43, 31, 54, 46, 42, 49, 115, 26, 28, 45, 64, 41, 62, 49, 44, 43, 38, 57, 28, 48, 40, 38, 36, 59, 45, 71, 66, 57, 45, 36, 36, 47, 45, 54, 38, 52, 39, 30, 39, 44, 48, 42, 39, 44, 25, 53, 45, 45, 29, 60, 41, 33, 43, 46, 54, 65, 46, 35, 35, 21, 68, 46, 23, 43, 30, 27, 34, 58, 49, 40, 54, 59, 49, 42, 43, 40, 51, 32, 38, 59, 27, 52, 71, 39, 20, 33, 43, 41, 31, 32, 40, 73, 61, 28, 25, 25, 46, 53, 25, 47, 50, 44, 58, 48, 65, 43, 28, 25, 66, 68, 25, 40, 55, 42, 50, 38, 61, 59, 45, 43, 34, 38, 42, 48, 30, 62, 32, 50, 65, 56, 51, 39, 45, 59, 44, 63, 43, 39, 34, 33, 36, 26, 58, 42, 37, 42, 37, 41, 42, 40, 39, 54, 50, 38, 40, 45, 62, 56, 38, 59, 50, 70, 52, 36, 43, 65, 70, 64, 53, 24, 29, 58, 61, 38, 25, 22, 55, 33, 35, 50, 55, 68, 39, 53, 24, 55, 70, 49, 27, 23, 61, 27, 28, 56, 37, 50, 54, 39, 45, 37, 52, 32, 63, 47, 47, 62, 33, 37, 45, 30, 32, 38, 24, 50, 34, 46, 41, 51, 25, 43, 51, 65, 62, 36, 32, 44, 55, 36, 34, 43, 44, 51, 64, 52, 63, 35, 44, 40, 46, 36, 44, 33, 37, 46, 44, 48, 58, 40, 63, 47, 63, 31, 43, 59, 53, 59, 55, 30, 39, 49, 37, 42, 39, 45, 45, 36, 33, 53, 54, 59, 66, 48, 28, 41, 58, 39, 49, 45, 70, 41, 47, 45, 40, 49, 38, 36, 54, 53, 43, 65, 36, 59, 38, 39, 54, 37, 37, 44, 56, 44, 54, 41, 52, 62, 52, 64, 43, 54, 66, 55, 50, 67, 43, 44, 44, 37, 56, 54, 29, 40, 64, 59, 39, 61, 56, 67, 48, 51, 29, 39, 34, 58, 55, 40, 27, 46, 43, 50, 52, 44, 34, 39, 40, 51, 35, 29, 34, 51, 47, 32, 59, 47, 38, 42, 32, 25, 45, 54, 44, 56, 62, 65, 53, 19, 65, 53, 54, 41, 36, 36, 26, 46, 28, 44, 63, 66, 43, 28, 49, 39, 61, 32, 39, 54, 36, 44, 56, 49, 60, 30, 49, 38, 48, 59, 38, 49, 23, 65, 61, 36, 66, 41, 65, 41, 62, 25, 45, 61, 58, 64, 36, 50, 62, 39, 19, 44, 60, 42, 56, 39, 45, 35, 36, 42, 50, 35, 55, 33, 47, 26, 36, 62, 59, 37, 27, 49, 58, 35, 63, 49, 42, 57, 61, 49, 56, 59, 43, 40, 38, 44, 42, 42, 28, 54, 46, 36, 38, 69, 57, 64, 36, 53, 52, 60, 49, 41, 46, 44, 58, 63, 70, 56, 38, 43, 57, 42, 42, 33, 42, 39, 59, 28, 44, 38, 60, 42, 36, 34, 42, 53, 51, 55, 55, 60, 52, 56, 30, 38, 22, 47, 34, 47, 58, 42, 34, 34, 37, 64, 40, 26, 33, 54, 44, 23, 58, 51, 34, 40, 60, 57, 48, 40, 35, 41, 29, 48, 25, 45, 45, 27, 25, 39, 41, 48, 28, 36, 35, 31, 55, 38, 33, 36, 61, 43, 31, 58, 36, 42, 39, 39, 33, 42, 44, 61, 55, 52, 36, 41, 49, 31, 23, 71, 42, 58, 56, 40, 28, 56, 44, 47, 41, 45, 37, 53, 43, 40, 28, 48, 22, 51, 42, 20, 60, 54, 32, 60, 60, 59, 21, 45, 66, 28, 35, 36, 32, 21, 38, 40, 25, 63, 25, 62, 43, 43, 44, 43, 39, 62, 52, 31, 61, 28, 27, 32, 35, 37, 39, 35, 38, 41, 43, 38, 38, 49, 62, 41, 57, 47, 52, 45, 39, 34, 55, 41, 41, 40, 34, 26, 46, 26, 55, 43, 52, 55, 49, 62, 60, 54, 49, 35, 36, 64, 40, 36, 45, 38, 58, 60, 42, 33, 25, 60, 19, 36, 57, 41, 58, 58, 27, 33, 27, 60, 60, 61, 62, 46, 51, 35, 38, 36, 46, 43, 63, 49, 45, 41, 38, 41, 40, 61, 48, 36, 47, 36, 27, 56, 50, 43, 43, 45, 37, 41, 34, 56, 42, 43, 61, 55, 60, 23, 52, 28, 49, 48, 54, 30, 48, 49, 48, 65, 44, 31, 29, 40, 63, 62, 27, 65, 56, 27, 41, 50, 53, 22, 49, 58, 36, 43, 48, 59, 61, 56, 53, 33, 38, 46, 36, 49, 43, 58, 32, 44, 37, 44, 56, 31, 56, 41, 40, 55, 42, 49, 35, 56, 28, 32, 35, 39, 35, 28, 44, 42, 54, 62, 44, 40, 49, 60, 31, 41, 54, 30, 43, 31, 31, 48, 36, 46, 35, 41, 35, 60, 52, 48, 37, 29, 62, 63, 47, 36, 38, 29, 40, 46, 52, 25, 53, 61, 25, 36, 52, 69, 40, 33, 58, 60, 28, 71, 50, 35, 40, 54, 51, 38, 40, 53, 63, 49, 58, 49, 20, 40, 42, 46, 46, 66, 45, 18, 40, 24, 57, 35, 54, 62, 33, 33, 23, 64, 57, 53, 56, 43, 29, 49, 62, 52, 40, 44, 45, 54, 62, 45, 46, 49, 45, 42, 53, 37, 55, 56, 35, 57, 58, 49, 24, 57, 49, 57, 59, 42, 45, 42, 39, 49, 51, 23, 51, 28, 41, 57, 33, 56, 55, 59, 28, 39, 59, 43, 28, 36, 31, 38, 43, 58, 42, 25, 62, 30, 47, 52, 67, 36, 43, 22, 46, 41, 39, 49, 62, 47, 42, 51, 44, 59, 39, 38, 45, 41, 31, 32, 54, 62, 39, 51, 44, 66, 56, 70, 51, 42, 48, 46, 43, 39, 50, 36, 39, 31, 43, 57, 63, 63, 44, 42, 45, 42, 43, 58, 43, 41, 37, 51, 60, 36, 48, 68, 36, 43, 61, 29, 44, 35, 48, 38, 49, 32, 42, 54, 58, 49, 59, 25, 52, 49, 41, 42, 30, 54, 56, 46, 37, 40, 52, 32, 39, 32, 69, 35, 45, 52, 66, 36, 39, 32, 31, 62, 32, 52, 37, 65, 24, 32, 39, 55, 31, 38, 52, 58, 21, 27, 49, 32, 52, 36, 68, 51, 43, 46, 22, 40, 64, 37, 56, 38, 41, 46, 56, 39, 54, 49, 54, 45, 54, 39, 29, 43, 59, 58, 41, 66, 38, 34, 35, 42, 41, 42, 39, 42, 58, 40, 42, 46, 45, 53, 42, 61, 57, 44, 47, 63, 61, 64, 61, 37, 42, 45, 70, 24, 35, 48, 66, 42, 41, 42, 42, 48, 45, 55, 44, 40, 42, 56, 42, 31, 41, 29, 41, 47, 35, 53, 28, 50, 31, 62, 65, 35, 66, 68, 56, 43, 57, 32, 41, 42, 49, 61, 47, 49, 45, 43, 42, 44, 40, 64, 55, 59, 36, 28, 51, 61, 62, 64, 44, 44, 37, 48, 45, 56, 60, 58, 44, 27, 53, 35, 54, 33, 34, 38, 38, 44, 68, 59, 42, 43, 64, 26, 36, 24, 55, 37, 45, 55, 26, 39, 41, 37, 41, 59, 40, 42, 39, 43, 56, 26, 39, 49, 28, 37, 34, 52, 36, 42, 44, 31, 43, 38, 41, 41, 38, 66, 56, 27, 54, 39, 56, 39, 39, 26, 26, 25, 55, 43, 47, 25, 53, 36, 61, 50, 28, 27, 51, 57, 39, 63, 49, 58, 52, 40, 47, 52, 38, 53, 38, 31, 38, 26, 60, 29, 62, 50, 60, 64, 57, 68, 60, 23, 28, 37, 54, 32, 67, 22, 38, 58, 67, 64, 48, 27, 41, 62, 49, 34, 27, 52, 59, 26, 49, 47, 41, 54, 30, 43, 39, 49, 58, 59, 54, 53, 51, 37, 24, 41, 50, 26, 36, 24, 39, 37, 30, 31, 27, 49, 58, 49, 43, 32, 55, 51, 62, 43, 51, 32, 38, 67, 45, 55, 36, 66, 59, 60, 69, 45, 38, 45, 50, 33, 35, 33, 54, 40, 33, 47, 64, 32, 53, 51, 37, 67, 36, 60, 60, 42, 33, 56, 46, 38, 48, 25, 29, 47, 55, 44, 47, 29, 63, 28, 59, 44, 23, 39, 35, 38, 34, 36, 43, 59, 31, 62, 45, 34, 46, 43, 25, 63, 27, 29, 33, 24, 62, 43, 31, 57, 63, 38, 59, 25, 41, 41, 30, 58, 49, 36, 41, 28, 55, 36, 48, 22, 30, 58, 37, 40, 38, 35, 31, 23, 52, 32, 35, 59, 49, 53, 63, 50, 55, 59, 48, 56, 60, 47, 51, 55, 43, 50, 31, 69, 67, 45, 62, 67, 68, 45, 65, 53, 40, 34, 65, 43, 35, 46, 43, 59, 42, 50, 35, 39, 37, 28, 58, 34, 32, 53, 39, 40, 68, 29, 62, 47, 59, 29, 37, 41, 30, 35, 38, 46, 55, 43, 47, 41, 31, 35, 35, 64, 51, 52, 38, 62, 54, 59, 37, 50, 33, 38, 40, 63, 48, 63, 56, 48, 50, 58, 40, 48, 51, 45, 22, 60, 31, 32, 63, 58, 53, 52, 43, 43, 46, 36, 45, 49, 28, 56, 39, 27, 55, 52, 40, 37, 36, 44, 57, 59, 60, 32, 61, 46, 57, 49, 39, 51, 24, 48, 26, 19, 39, 36, 53, 30, 43, 63, 38, 42, 29, 48, 39, 35, 43, 32, 41, 46, 30, 43, 37, 47, 50, 42, 66, 62, 27, 55, 56, 63, 39, 30, 45, 46, 45, 29, 30, 57, 43, 39, 32, 26, 25, 29, 46, 40, 65, 36, 60, 69, 64, 50, 31, 27, 43, 46, 60, 43, 28, 55, 34, 54, 44, 43, 47, 51, 46, 24, 33, 38, 49, 37, 42, 58, 71, 55, 37, 45, 44, 57, 49, 40, 67, 32, 46, 63, 39, 58, 65, 55, 41, 30, 64, 37, 30, 38, 63, 32, 40, 46, 60, 74, 38, 63, 38, 50, 64, 38, 58, 24, 64, 49, 52, 36, 62, 48, 67, 42, 51, 65, 36, 48, 31, 43, 39, 43, 45, 51, 46, 35, 30, 30, 40, 63, 52, 39, 57, 36, 23, 28, 58, 51, 43, 67, 56, 54, 34, 39, 39, 41, 34, 44, 47, 44, 48, 42, 37, 44, 50, 55, 48, 56, 28, 37, 33, 56, 39, 31, 47, 63, 42, 36, 32, 58, 62, 49, 35, 49, 61, 65, 29, 67, 59, 38, 39, 30, 64, 37, 63, 30, 32, 23, 44, 33, 35, 43, 44, 55, 41, 44, 67, 63, 39, 55, 59, 61, 49, 41, 38, 64, 45, 32, 36, 40, 63, 66, 62, 30, 35, 65, 58, 45, 27, 31, 44, 37, 54, 41, 54, 26, 45, 22, 55, 34, 43, 40, 45, 38, 21, 65, 64, 39, 58, 38, 39, 38, 65, 30, 40, 42, 28, 52, 44, 65, 53, 59, 33, 61, 40, 60, 45, 33, 62, 52, 43, 38, 38, 34, 58, 57, 42, 48, 28, 49, 40, 38, 38, 65, 34, 57, 49, 45, 44, 60, 48, 40, 43, 46, 57, 41, 57, 43, 54, 41, 52, 56, 42, 38, 45, 38, 31, 50, 39, 59, 49, 50, 34, 57, 65, 22, 40, 60, 24, 30, 33, 49, 44, 39, 63, 59, 39, 47, 41, 43, 59, 40, 42, 50, 36, 57, 54, 42, 58, 57, 42, 31, 43, 67, 57, 57, 62, 40, 41, 60, 39, 24, 45, 41, 36, 24, 46, 34, 60, 51, 51, 59, 33, 64, 19, 38, 60, 31, 66, 36, 29, 35, 32, 35, 51, 44, 46, 35, 52, 42, 30, 44, 28, 40, 47, 68, 33, 58, 60], \"xaxis\": \"x\", \"y\": [635, 11, 426, 11, 173, 520, 235, 76, 14, 28, 6, 194, 233, 3, 1006, 53, 84, 1012, 4, 86, 1, 867, 384, 270, 6, 173, 36, 684, 8, 112, 110, 96, 482, 40, 702, 6, 55, 437, 421, 13, 9, 3, 123, 3, 13, 826, 245, 650, 12, 510, 328, 984, 295, 13, 447, 712, 452, 523, 546, 398, 1, 10, 688, 247, 856, 496, 258, 565, 14, 2, 721, 1032, 1, 577, 64, 4, 25, 112, 163, 17, 130, 292, 350, 135, 15, 27, 5, 505, 51, 207, 135, 53, 41, 386, 562, 217, 1, 144, 295, 76, 454, 425, 1332, 527, 490, 378, 64, 547, 47, 12, 1, 320, 34, 9, 17, 722, 162, 450, 70, 492, 120, 534, 236, 220, 796, 0, 53, 15, 17, 962, 738, 399, 614, 32, 598, 2, 6, 73, 42, 295, 346, 233, 5, 888, 997, 212, 8, 42, 536, 5, 1349, 53, 1001, 20, 18, 125, 212, 277, 15, 7, 12, 85, 81, 59, 1149, 847, 29, 2, 207, 152, 12, 620, 47, 1, 10, 35, 356, 783, 42, 1, 466, 15, 23, 235, 10, 656, 519, 344, 96, 448, 265, 587, 763, 22, 6, 7, 81, 54, 1170, 72, 613, 224, 410, 239, 171, 12, 1076, 182, 824, 30, 377, 520, 155, 897, 131, 297, 787, 792, 4, 231, 983, 3, 0, 562, 5, 18, 415, 5, 8, 901, 382, 14, 559, 789, 11, 1218, 925, 864, 960, 16, 3, 168, 45, 650, 24, 918, 138, 12, 11, 1, 554, 167, 9, 177, 38, 483, 77, 182, 10, 778, 16, 167, 13, 33, 625, 216, 68, 196, 635, 4, 297, 84, 204, 26, 15, 304, 285, 395, 248, 20, 39, 777, 8, 9, 1241, 6, 65, 395, 801, 36, 513, 37, 80, 14, 525, 1, 675, 509, 154, 3, 25, 768, 185, 24, 44, 91, 11, 412, 3, 16, 731, 424, 792, 21, 22, 33, 68, 9, 40, 909, 23, 11, 317, 797, 10, 856, 755, 456, 37, 1103, 378, 1, 204, 30, 189, 15, 9, 495, 656, 452, 546, 1048, 22, 78, 561, 629, 269, 736, 512, 19, 9, 247, 404, 333, 2, 833, 789, 10, 159, 7, 977, 38, 57, 3, 10, 1043, 3, 11, 3, 43, 73, 12, 4, 314, 571, 70, 866, 594, 140, 375, 102, 554, 919, 96, 5, 2, 6, 23, 610, 67, 65, 416, 23, 19, 155, 14, 370, 4, 407, 1200, 85, 583, 483, 2, 966, 822, 604, 19, 5, 2, 1076, 1285, 10, 551, 800, 2, 378, 1248, 235, 515, 438, 25, 31, 357, 400, 99, 1, 5, 77, 3, 10, 0, 0, 76, 398, 14, 208, 430, 656, 14, 141, 507, 164, 606, 116, 143, 398, 522, 161, 112, 483, 7, 789, 1239, 4, 335, 639, 563, 2, 746, 22, 4, 478, 20, 451, 371, 281, 19, 26, 138, 213, 407, 483, 738, 502, 11, 24, 1170, 185, 983, 691, 504, 317, 29, 1396, 529, 388, 13, 28, 16, 1047, 31, 815, 225, 493, 34, 382, 127, 325, 238, 1168, 284, 1288, 65, 11, 227, 1035, 27, 982, 179, 1379, 32, 8, 881, 141, 1000, 206, 162, 619, 456, 112, 11, 172, 78, 464, 99, 19, 1, 63, 252, 1478, 198, 8, 416, 42, 14, 17, 15, 6, 458, 30, 179, 90, 308, 557, 7, 1492, 30, 249, 465, 129, 174, 189, 747, 6, 14, 12, 98, 32, 51, 200, 25, 1050, 117, 9, 56, 145, 203, 270, 9, 37, 46, 31, 1060, 264, 399, 8, 19, 817, 292, 12, 130, 6, 16, 19, 4, 31, 36, 526, 400, 410, 80, 88, 55, 5, 8, 410, 101, 162, 2, 25, 389, 215, 27, 85, 5, 179, 352, 17, 625, 10, 390, 10, 215, 1001, 19, 41, 1181, 603, 129, 10, 514, 14, 387, 121, 965, 707, 571, 586, 1063, 305, 1200, 163, 1009, 125, 721, 315, 1000, 16, 757, 30, 219, 1, 111, 45, 410, 100, 509, 3, 445, 2, 4, 6, 14, 1, 26, 111, 418, 327, 371, 275, 789, 1, 1004, 187, 56, 365, 595, 1132, 34, 116, 565, 372, 899, 55, 760, 260, 459, 466, 67, 2, 67, 92, 4, 20, 273, 434, 321, 212, 909, 1184, 112, 656, 23, 537, 712, 23, 1, 664, 6, 299, 99, 749, 345, 9, 440, 8, 670, 524, 6, 597, 7, 54, 445, 294, 292, 412, 8, 349, 328, 144, 1126, 967, 432, 138, 0, 509, 948, 39, 28, 13, 307, 901, 2, 283, 4, 769, 518, 350, 445, 778, 709, 359, 799, 895, 40, 76, 11, 245, 647, 39, 203, 138, 587, 595, 43, 301, 180, 794, 392, 39, 107, 13, 70, 680, 26, 522, 412, 6, 2, 1, 6, 4, 18, 324, 327, 229, 521, 184, 4, 183, 31, 219, 479, 584, 627, 24, 330, 19, 28, 606, 1039, 411, 34, 161, 623, 604, 3, 12, 184, 393, 410, 376, 7, 68, 642, 8, 840, 7, 464, 30, 1492, 752, 1279, 22, 860, 3, 10, 351, 421, 2, 25, 336, 191, 563, 31, 479, 18, 91, 5, 2, 362, 724, 605, 547, 104, 8, 224, 384, 556, 24, 408, 265, 34, 374, 27, 600, 13, 167, 0, 46, 88, 243, 275, 6, 121, 4, 1308, 515, 4, 48, 562, 769, 379, 29, 387, 12, 6, 27, 9, 22, 899, 889, 189, 48, 230, 852, 35, 205, 255, 0, 437, 825, 316, 756, 194, 7, 183, 171, 243, 181, 151, 494, 464, 5, 29, 102, 604, 571, 953, 63, 770, 398, 741, 1478, 156, 960, 38, 315, 15, 19, 812, 73, 372, 871, 375, 760, 471, 31, 819, 1, 203, 26, 354, 1253, 371, 588, 480, 517, 267, 1111, 7, 1166, 261, 135, 6, 711, 11, 42, 79, 20, 30, 20, 115, 263, 69, 267, 561, 492, 14, 80, 97, 197, 693, 43, 14, 186, 434, 59, 16, 230, 829, 318, 1206, 292, 30, 729, 12, 2, 22, 587, 674, 284, 1023, 1394, 311, 27, 1296, 3, 393, 218, 66, 4, 795, 15, 384, 244, 158, 1285, 349, 4, 223, 157, 397, 901, 14, 10, 1230, 81, 154, 63, 30, 90, 635, 127, 13, 18, 45, 38, 986, 61, 4, 201, 19, 4, 18, 806, 380, 576, 458, 5, 350, 39, 26, 68, 45, 359, 403, 34, 73, 292, 14, 80, 30, 463, 75, 538, 635, 8, 1315, 4, 12, 347, 192, 241, 631, 336, 1099, 743, 124, 15, 397, 10, 530, 1215, 3, 444, 26, 736, 473, 32, 288, 1050, 1001, 9, 234, 7, 251, 172, 565, 5, 918, 652, 4, 152, 8, 336, 938, 68, 227, 38, 105, 162, 574, 160, 6, 614, 897, 70, 120, 211, 11, 760, 53, 7, 391, 199, 516, 709, 12, 1000, 19, 1224, 16, 88, 2, 508, 381, 74, 146, 23, 110, 165, 957, 41, 1, 176, 815, 6, 8, 717, 1067, 166, 29, 714, 8, 229, 320, 23, 1, 56, 508, 29, 46, 454, 350, 10, 735, 897, 5, 777, 162, 35, 342, 258, 658, 356, 213, 454, 457, 241, 210, 441, 19, 28, 476, 364, 0, 0, 863, 349, 5, 184, 8, 277, 44, 1156, 373, 134, 1148, 6, 4, 5, 24, 899, 108, 27, 816, 1298, 10, 87, 57, 635, 43, 964, 572, 341, 63, 221, 140, 1, 291, 544, 684, 1, 35, 87, 309, 172, 625, 972, 157, 48, 279, 132, 919, 62, 1, 2, 408, 51, 62, 952, 618, 11, 318, 56, 110, 23, 27, 18, 18, 303, 97, 997, 5, 95, 1, 46, 411, 244, 152, 1, 10, 12, 5, 790, 882, 615, 1004, 133, 595, 293, 313, 151, 15, 736, 15, 982, 1142, 28, 46, 897, 489, 25, 145, 630, 760, 420, 125, 464, 6, 1090, 3, 24, 737, 254, 817, 620, 13, 113, 7, 16, 462, 22, 968, 283, 1, 14, 30, 4, 52, 62, 20, 545, 558, 6, 39, 1111, 4, 183, 546, 606, 266, 1142, 1074, 771, 371, 556, 202, 209, 35, 37, 171, 12, 44, 20, 779, 170, 491, 173, 7, 1205, 10, 97, 67, 345, 6, 73, 711, 774, 163, 82, 358, 66, 13, 139, 274, 262, 1099, 32, 2, 6, 6, 135, 641, 714, 794, 420, 1, 86, 823, 231, 8, 182, 557, 79, 368, 6, 160, 488, 691, 543, 254, 5, 112, 134, 143, 51, 27, 459, 689, 283, 347, 5, 280, 95, 84, 18, 992, 9, 19, 709, 158, 10, 25, 8, 14, 622, 11, 25, 635, 100, 201, 642, 97, 204, 513, 88, 172, 329, 296, 100, 422, 1218, 5, 507, 52, 191, 2, 68, 20, 20, 7, 279, 977, 30, 6, 3, 14, 10, 7, 33, 12, 2, 693, 9, 129, 16, 201, 5, 14, 29, 26, 9, 14, 972, 966, 99, 482, 714, 587, 399, 56, 227, 703, 37, 167, 458, 91, 15, 1302, 153, 508, 290, 38, 2, 30, 386, 443, 901, 9, 846, 8, 72, 29, 169, 460, 69, 556, 73, 112, 944, 265, 526, 2, 2, 378, 553, 751, 406, 1449, 123, 267, 209, 1259, 344, 22, 247, 38, 896, 931, 758, 216, 2, 244, 539, 1181, 750, 306, 350, 331, 620, 434, 57, 811, 423, 2, 60, 675, 30, 40, 3, 910, 252, 34, 19, 2, 490, 332, 53, 784, 7, 1171, 215, 674, 57, 5, 104, 9, 431, 1000, 448, 33, 505, 267, 14, 631, 65, 10, 51, 293, 11, 50, 173, 423, 292, 757, 12, 167, 3, 30, 532, 29, 411, 5, 71, 46, 268, 928, 459, 483, 733, 1006, 34, 1156, 7, 244, 233, 35, 1252, 34, 255, 8, 368, 255, 33, 163, 15, 45, 48, 158, 754, 108, 199, 2, 202, 85, 322, 18, 141, 739, 18, 378, 1083, 1016, 23, 12, 35, 548, 342, 365, 397, 456, 5, 836, 100, 10, 238, 6, 158, 86, 856, 98, 4, 398, 313, 109, 216, 595, 123, 16, 11, 410, 159, 105, 5, 269, 629, 443, 217, 24, 9, 8, 1459, 230, 1, 340, 7, 298, 479, 267, 67, 3, 980, 50, 1, 19, 30, 213, 539, 284, 1003, 239, 51, 527, 19, 40, 21, 593, 21, 1181, 1004, 202, 446, 1184, 390, 726, 8, 50, 1, 308, 22, 690, 43, 27, 6, 205, 24, 667, 691, 493, 493, 494, 621, 9, 1, 12, 243, 11, 532, 29, 612, 387, 56, 6, 582, 6, 70, 962, 112, 293, 199, 1060, 940, 44, 342, 2, 75, 520, 5, 87, 462, 2, 979, 704, 861, 172, 5, 194, 9, 505, 533, 48, 6, 18, 482, 204, 1073, 245, 560, 173, 22, 136, 275, 56, 303, 708, 324, 1, 620, 312, 1493, 918, 98, 3, 380, 15, 3, 24, 80, 31, 138, 166, 12, 178, 707, 5, 465, 16, 358, 1, 123, 40, 102, 347, 376, 21, 194, 64, 206, 71, 71, 0, 93, 920, 653, 199, 153, 376, 46, 600, 425, 18, 52, 734, 34, 135, 11, 163, 29, 734, 340, 453, 1073, 135, 231, 18, 620, 81, 12, 292, 965, 27, 777, 572, 438, 531, 17, 402, 503, 369, 5, 362, 56, 79, 387, 367, 15, 267, 298, 674, 16, 37, 159, 686, 97, 63, 56, 209, 198, 313, 941, 86, 167, 8, 389, 239, 179, 5, 2, 383, 2, 536, 2, 322, 539, 712, 1121, 68, 36, 707, 174, 666, 0, 162, 407, 823, 488, 28, 3, 284, 938, 13, 412, 31, 502, 18, 1, 100, 407, 664, 1045, 1218, 15, 128, 581, 6, 185, 22, 584, 355, 175, 864, 957, 25, 641, 273, 122, 1, 1020, 6, 378, 42, 15, 272, 9, 279, 398, 637, 45, 21, 15, 493, 957, 829, 1017, 953, 159, 32, 23, 18, 15, 23, 200, 1324, 1193, 505, 2, 1103, 353, 652, 379, 46, 162, 8, 17, 340, 8, 154, 710, 8, 2, 1050, 19, 22, 274, 68, 344, 145, 217, 18, 69, 144, 256, 483, 1285, 338, 605, 8, 172, 448, 67, 512, 1462, 20, 50, 102, 499, 381, 631, 526, 913, 673, 23, 199, 261, 111, 16, 63, 58, 29, 3, 28, 40, 879, 62, 280, 9, 182, 83, 38, 228, 1092, 85, 1276, 1017, 6, 448, 504, 226, 239, 90, 7, 4, 16, 10, 68, 35, 575, 315, 182, 561, 587, 94, 908, 228, 995, 11, 3, 12, 17, 8, 22, 14, 106, 820, 753, 13, 9, 19, 520, 5, 618, 315, 15, 384, 110, 208, 555, 240, 11, 848, 202, 433, 6, 37, 167, 45, 129, 713, 676, 450, 22, 367, 526, 51, 25, 28, 958, 532, 724, 39, 587, 29, 757, 544, 40, 1245, 19, 16, 376, 184, 15, 124, 627, 180, 14, 3, 8, 293, 758, 656, 196, 835, 16, 9, 229, 0, 121, 471, 520, 26, 240, 178, 1486, 1115, 29, 529, 13, 934, 2, 4, 62, 158, 173, 830, 189, 728, 7, 35, 188, 742, 0, 750, 816, 5, 37, 4, 99, 176, 54, 997, 356, 1311, 890, 4, 17, 960, 2, 1, 240, 301, 154, 2, 104, 70, 2, 23, 43, 4, 654, 912, 25, 24, 141, 71, 35, 496, 9, 154, 9, 26, 77, 11, 576, 89, 1013, 224, 200, 570, 1, 62, 531, 162, 675, 23, 492, 918, 224, 572, 626, 1074, 741, 322, 254, 116, 22, 516, 14, 2, 28, 530, 519, 611, 240, 4, 671, 23, 9, 556, 833, 12, 56, 293, 297, 39, 5, 266, 322, 366, 32, 158, 269, 41, 3, 33, 302, 519, 23, 594, 12, 4, 18, 332, 5, 171, 270, 712, 2, 21, 580, 368, 457, 229, 3, 24, 853, 5, 3, 709, 406, 908, 428, 84], \"yaxis\": \"y\"}],\n",
              "                        {\"coloraxis\": {\"colorbar\": {\"title\": {\"text\": \"Amount Spent on Wine\"}}, \"colorscale\": [[0.0, \"#0d0887\"], [0.1111111111111111, \"#46039f\"], [0.2222222222222222, \"#7201a8\"], [0.3333333333333333, \"#9c179e\"], [0.4444444444444444, \"#bd3786\"], [0.5555555555555556, \"#d8576b\"], [0.6666666666666666, \"#ed7953\"], [0.7777777777777778, \"#fb9f3a\"], [0.8888888888888888, \"#fdca26\"], [1.0, \"#f0f921\"]]}, \"legend\": {\"tracegroupgap\": 0}, \"template\": {\"data\": {\"bar\": [{\"error_x\": {\"color\": \"#2a3f5f\"}, \"error_y\": {\"color\": \"#2a3f5f\"}, \"marker\": {\"line\": {\"color\": \"#E5ECF6\", \"width\": 0.5}}, \"type\": \"bar\"}], \"barpolar\": [{\"marker\": {\"line\": {\"color\": \"#E5ECF6\", \"width\": 0.5}}, \"type\": \"barpolar\"}], \"carpet\": [{\"aaxis\": {\"endlinecolor\": \"#2a3f5f\", \"gridcolor\": \"white\", \"linecolor\": \"white\", \"minorgridcolor\": \"white\", \"startlinecolor\": \"#2a3f5f\"}, \"baxis\": {\"endlinecolor\": \"#2a3f5f\", \"gridcolor\": \"white\", \"linecolor\": \"white\", \"minorgridcolor\": \"white\", \"startlinecolor\": \"#2a3f5f\"}, \"type\": \"carpet\"}], \"choropleth\": [{\"colorbar\": {\"outlinewidth\": 0, \"ticks\": \"\"}, \"type\": \"choropleth\"}], \"contour\": [{\"colorbar\": {\"outlinewidth\": 0, \"ticks\": \"\"}, \"colorscale\": [[0.0, \"#0d0887\"], [0.1111111111111111, \"#46039f\"], [0.2222222222222222, \"#7201a8\"], [0.3333333333333333, \"#9c179e\"], [0.4444444444444444, \"#bd3786\"], [0.5555555555555556, \"#d8576b\"], [0.6666666666666666, \"#ed7953\"], [0.7777777777777778, \"#fb9f3a\"], [0.8888888888888888, \"#fdca26\"], [1.0, \"#f0f921\"]], \"type\": \"contour\"}], \"contourcarpet\": [{\"colorbar\": {\"outlinewidth\": 0, \"ticks\": \"\"}, \"type\": \"contourcarpet\"}], \"heatmap\": [{\"colorbar\": {\"outlinewidth\": 0, \"ticks\": \"\"}, \"colorscale\": [[0.0, \"#0d0887\"], [0.1111111111111111, \"#46039f\"], [0.2222222222222222, \"#7201a8\"], [0.3333333333333333, \"#9c179e\"], [0.4444444444444444, \"#bd3786\"], [0.5555555555555556, \"#d8576b\"], [0.6666666666666666, \"#ed7953\"], [0.7777777777777778, \"#fb9f3a\"], [0.8888888888888888, \"#fdca26\"], [1.0, \"#f0f921\"]], \"type\": \"heatmap\"}], \"heatmapgl\": [{\"colorbar\": {\"outlinewidth\": 0, \"ticks\": \"\"}, \"colorscale\": [[0.0, \"#0d0887\"], [0.1111111111111111, \"#46039f\"], [0.2222222222222222, \"#7201a8\"], [0.3333333333333333, \"#9c179e\"], [0.4444444444444444, \"#bd3786\"], [0.5555555555555556, \"#d8576b\"], [0.6666666666666666, \"#ed7953\"], [0.7777777777777778, \"#fb9f3a\"], [0.8888888888888888, \"#fdca26\"], [1.0, \"#f0f921\"]], \"type\": \"heatmapgl\"}], \"histogram\": [{\"marker\": {\"colorbar\": {\"outlinewidth\": 0, \"ticks\": \"\"}}, \"type\": \"histogram\"}], \"histogram2d\": [{\"colorbar\": {\"outlinewidth\": 0, \"ticks\": \"\"}, \"colorscale\": [[0.0, \"#0d0887\"], [0.1111111111111111, \"#46039f\"], [0.2222222222222222, \"#7201a8\"], [0.3333333333333333, \"#9c179e\"], [0.4444444444444444, \"#bd3786\"], [0.5555555555555556, \"#d8576b\"], [0.6666666666666666, \"#ed7953\"], [0.7777777777777778, \"#fb9f3a\"], [0.8888888888888888, \"#fdca26\"], [1.0, \"#f0f921\"]], \"type\": \"histogram2d\"}], \"histogram2dcontour\": [{\"colorbar\": {\"outlinewidth\": 0, \"ticks\": \"\"}, \"colorscale\": [[0.0, \"#0d0887\"], [0.1111111111111111, \"#46039f\"], [0.2222222222222222, \"#7201a8\"], [0.3333333333333333, \"#9c179e\"], [0.4444444444444444, \"#bd3786\"], [0.5555555555555556, \"#d8576b\"], [0.6666666666666666, \"#ed7953\"], [0.7777777777777778, \"#fb9f3a\"], [0.8888888888888888, \"#fdca26\"], [1.0, \"#f0f921\"]], \"type\": \"histogram2dcontour\"}], \"mesh3d\": [{\"colorbar\": {\"outlinewidth\": 0, \"ticks\": \"\"}, \"type\": \"mesh3d\"}], \"parcoords\": [{\"line\": {\"colorbar\": {\"outlinewidth\": 0, \"ticks\": \"\"}}, \"type\": \"parcoords\"}], \"pie\": [{\"automargin\": true, \"type\": \"pie\"}], \"scatter\": [{\"marker\": {\"colorbar\": {\"outlinewidth\": 0, \"ticks\": \"\"}}, \"type\": \"scatter\"}], \"scatter3d\": [{\"line\": {\"colorbar\": {\"outlinewidth\": 0, \"ticks\": \"\"}}, \"marker\": {\"colorbar\": {\"outlinewidth\": 0, \"ticks\": \"\"}}, \"type\": \"scatter3d\"}], \"scattercarpet\": [{\"marker\": {\"colorbar\": {\"outlinewidth\": 0, \"ticks\": \"\"}}, \"type\": \"scattercarpet\"}], \"scattergeo\": [{\"marker\": {\"colorbar\": {\"outlinewidth\": 0, \"ticks\": \"\"}}, \"type\": \"scattergeo\"}], \"scattergl\": [{\"marker\": {\"colorbar\": {\"outlinewidth\": 0, \"ticks\": \"\"}}, \"type\": \"scattergl\"}], \"scattermapbox\": [{\"marker\": {\"colorbar\": {\"outlinewidth\": 0, \"ticks\": \"\"}}, \"type\": \"scattermapbox\"}], \"scatterpolar\": [{\"marker\": {\"colorbar\": {\"outlinewidth\": 0, \"ticks\": \"\"}}, \"type\": \"scatterpolar\"}], \"scatterpolargl\": [{\"marker\": {\"colorbar\": {\"outlinewidth\": 0, \"ticks\": \"\"}}, \"type\": \"scatterpolargl\"}], \"scatterternary\": [{\"marker\": {\"colorbar\": {\"outlinewidth\": 0, \"ticks\": \"\"}}, \"type\": \"scatterternary\"}], \"surface\": [{\"colorbar\": {\"outlinewidth\": 0, \"ticks\": \"\"}, \"colorscale\": [[0.0, \"#0d0887\"], [0.1111111111111111, \"#46039f\"], [0.2222222222222222, \"#7201a8\"], [0.3333333333333333, \"#9c179e\"], [0.4444444444444444, \"#bd3786\"], [0.5555555555555556, \"#d8576b\"], [0.6666666666666666, \"#ed7953\"], [0.7777777777777778, \"#fb9f3a\"], [0.8888888888888888, \"#fdca26\"], [1.0, \"#f0f921\"]], \"type\": \"surface\"}], \"table\": [{\"cells\": {\"fill\": {\"color\": \"#EBF0F8\"}, \"line\": {\"color\": \"white\"}}, \"header\": {\"fill\": {\"color\": \"#C8D4E3\"}, \"line\": {\"color\": \"white\"}}, \"type\": \"table\"}]}, \"layout\": {\"annotationdefaults\": {\"arrowcolor\": \"#2a3f5f\", \"arrowhead\": 0, \"arrowwidth\": 1}, \"coloraxis\": {\"colorbar\": {\"outlinewidth\": 0, \"ticks\": \"\"}}, \"colorscale\": {\"diverging\": [[0, \"#8e0152\"], [0.1, \"#c51b7d\"], [0.2, \"#de77ae\"], [0.3, \"#f1b6da\"], [0.4, \"#fde0ef\"], [0.5, \"#f7f7f7\"], [0.6, \"#e6f5d0\"], [0.7, \"#b8e186\"], [0.8, \"#7fbc41\"], [0.9, \"#4d9221\"], [1, \"#276419\"]], \"sequential\": [[0.0, \"#0d0887\"], [0.1111111111111111, \"#46039f\"], [0.2222222222222222, \"#7201a8\"], [0.3333333333333333, \"#9c179e\"], [0.4444444444444444, \"#bd3786\"], [0.5555555555555556, \"#d8576b\"], [0.6666666666666666, \"#ed7953\"], [0.7777777777777778, \"#fb9f3a\"], [0.8888888888888888, \"#fdca26\"], [1.0, \"#f0f921\"]], \"sequentialminus\": [[0.0, \"#0d0887\"], [0.1111111111111111, \"#46039f\"], [0.2222222222222222, \"#7201a8\"], [0.3333333333333333, \"#9c179e\"], [0.4444444444444444, \"#bd3786\"], [0.5555555555555556, \"#d8576b\"], [0.6666666666666666, \"#ed7953\"], [0.7777777777777778, \"#fb9f3a\"], [0.8888888888888888, \"#fdca26\"], [1.0, \"#f0f921\"]]}, \"colorway\": [\"#636efa\", \"#EF553B\", \"#00cc96\", \"#ab63fa\", \"#FFA15A\", \"#19d3f3\", \"#FF6692\", \"#B6E880\", \"#FF97FF\", \"#FECB52\"], \"font\": {\"color\": \"#2a3f5f\"}, \"geo\": {\"bgcolor\": \"white\", \"lakecolor\": \"white\", \"landcolor\": \"#E5ECF6\", \"showlakes\": true, \"showland\": true, \"subunitcolor\": \"white\"}, \"hoverlabel\": {\"align\": \"left\"}, \"hovermode\": \"closest\", \"mapbox\": {\"style\": \"light\"}, \"paper_bgcolor\": \"white\", \"plot_bgcolor\": \"#E5ECF6\", \"polar\": {\"angularaxis\": {\"gridcolor\": \"white\", \"linecolor\": \"white\", \"ticks\": \"\"}, \"bgcolor\": \"#E5ECF6\", \"radialaxis\": {\"gridcolor\": \"white\", \"linecolor\": \"white\", \"ticks\": \"\"}}, \"scene\": {\"xaxis\": {\"backgroundcolor\": \"#E5ECF6\", \"gridcolor\": \"white\", \"gridwidth\": 2, \"linecolor\": \"white\", \"showbackground\": true, \"ticks\": \"\", \"zerolinecolor\": \"white\"}, \"yaxis\": {\"backgroundcolor\": \"#E5ECF6\", \"gridcolor\": \"white\", \"gridwidth\": 2, \"linecolor\": \"white\", \"showbackground\": true, \"ticks\": \"\", \"zerolinecolor\": \"white\"}, \"zaxis\": {\"backgroundcolor\": \"#E5ECF6\", \"gridcolor\": \"white\", \"gridwidth\": 2, \"linecolor\": \"white\", \"showbackground\": true, \"ticks\": \"\", \"zerolinecolor\": \"white\"}}, \"shapedefaults\": {\"line\": {\"color\": \"#2a3f5f\"}}, \"ternary\": {\"aaxis\": {\"gridcolor\": \"white\", \"linecolor\": \"white\", \"ticks\": \"\"}, \"baxis\": {\"gridcolor\": \"white\", \"linecolor\": \"white\", \"ticks\": \"\"}, \"bgcolor\": \"#E5ECF6\", \"caxis\": {\"gridcolor\": \"white\", \"linecolor\": \"white\", \"ticks\": \"\"}}, \"title\": {\"x\": 0.05}, \"xaxis\": {\"automargin\": true, \"gridcolor\": \"white\", \"linecolor\": \"white\", \"ticks\": \"\", \"title\": {\"standoff\": 15}, \"zerolinecolor\": \"white\", \"zerolinewidth\": 2}, \"yaxis\": {\"automargin\": true, \"gridcolor\": \"white\", \"linecolor\": \"white\", \"ticks\": \"\", \"title\": {\"standoff\": 15}, \"zerolinecolor\": \"white\", \"zerolinewidth\": 2}}}, \"title\": {\"text\": \"Amount spent on wine in last 2 years by Age\"}, \"xaxis\": {\"anchor\": \"y\", \"domain\": [0.0, 1.0], \"title\": {\"text\": \"Age\"}}, \"yaxis\": {\"anchor\": \"x\", \"domain\": [0.0, 1.0], \"title\": {\"text\": \"Amount Spent on Wine\"}}},\n",
              "                        {\"responsive\": true}\n",
              "                    ).then(function(){\n",
              "                            \n",
              "var gd = document.getElementById('cd64763a-3754-45d4-806d-15254918e0ad');\n",
              "var x = new MutationObserver(function (mutations, observer) {{\n",
              "        var display = window.getComputedStyle(gd).display;\n",
              "        if (!display || display === 'none') {{\n",
              "            console.log([gd, 'removed!']);\n",
              "            Plotly.purge(gd);\n",
              "            observer.disconnect();\n",
              "        }}\n",
              "}});\n",
              "\n",
              "// Listen for the removal of the full notebook cells\n",
              "var notebookContainer = gd.closest('#notebook-container');\n",
              "if (notebookContainer) {{\n",
              "    x.observe(notebookContainer, {childList: true});\n",
              "}}\n",
              "\n",
              "// Listen for the clearing of the current output cell\n",
              "var outputEl = gd.closest('.output');\n",
              "if (outputEl) {{\n",
              "    x.observe(outputEl, {childList: true});\n",
              "}}\n",
              "\n",
              "                        })\n",
              "                };\n",
              "                \n",
              "            </script>\n",
              "        </div>\n",
              "</body>\n",
              "</html>"
            ]
          },
          "metadata": {}
        }
      ]
    },
    {
      "cell_type": "markdown",
      "metadata": {
        "id": "vAVksXZSmK9B"
      },
      "source": [
        "**Insights:**\n",
        "\n",
        "Age group 40-60 spend more amount on wine.\n",
        "\n",
        "Age group 20-40 spend more on wine compared to customers above 60 years.\n"
      ]
    },
    {
      "cell_type": "markdown",
      "metadata": {
        "id": "p9v0k7RFE9g-"
      },
      "source": [
        "**Let's find how people find purchases suitable according to convenience, Based on age**\n",
        "\n",
        "**('NumDealsPurchases', 'Web', 'Catalog', 'Store', 'NumWebVisitsMonth') **"
      ]
    },
    {
      "cell_type": "code",
      "metadata": {
        "id": "pj8KLir14ACB"
      },
      "source": [
        "from plotly.subplots import make_subplots\n",
        "import plotly.graph_objects as go"
      ],
      "execution_count": null,
      "outputs": []
    },
    {
      "cell_type": "code",
      "metadata": {
        "id": "BQcLlEmoL5xX"
      },
      "source": [
        " # We will create function which will give us list of corresponding interval to Age column in dataframe,\n",
        "    # So that we will analyze data based on the interval of age\n",
        "    \n",
        "def create_interval_column(age_df, interval):\n",
        "    inter = []\n",
        "    interval = interval\n",
        "    j = 0\n",
        "    while (j<100):\n",
        "        j = j + interval\n",
        "        inter.append(j)\n",
        "    interval_column = [] \n",
        "    for i in age_df['Year_Birth']:\n",
        "        for j in range(len(inter)-1):\n",
        "            if inter[j]<i <=inter[j+1]:\n",
        "                interval_column.append(str(inter[j]) + '-' + str(inter[j+1]))\n",
        "                break\n",
        "    return interval_column"
      ],
      "execution_count": null,
      "outputs": []
    },
    {
      "cell_type": "code",
      "metadata": {
        "id": "_99SiuPr6wi1"
      },
      "source": [
        "# aggregation of columns to be analysed are calculated and grouped.\n",
        "\n",
        "interval_to_plot = 10 \n",
        "\n",
        "columns_to_be_analyzed = ['DealPurchases', 'WebPurchases', 'CatalogPurchases', 'StorePurchases', 'NumWebVisitsMonth']\n",
        "\n",
        "age_df = data.groupby(by = ['Year_Birth']).agg({'DealPurchases':'sum','WebPurchases':'sum' ,'CatalogPurchases':'sum',\n",
        "                                              'StorePurchases':'sum', 'NumWebVisitsMonth':'sum' }).reset_index()"
      ],
      "execution_count": null,
      "outputs": []
    },
    {
      "cell_type": "code",
      "metadata": {
        "id": "G_E1s2Fc3yUr"
      },
      "source": [
        "#finding present age of customers from the birth year and the year of marketing analysis done in 2014\n",
        "#drop 3 rows to keep length same\n",
        "\n",
        "age_df['Year_Birth'] = 2014 - age_df['Year_Birth'] \n",
        "age_df.drop([0,1,2], axis = 0, inplace=True)"
      ],
      "execution_count": null,
      "outputs": []
    },
    {
      "cell_type": "code",
      "metadata": {
        "id": "cr4pADXl3yZQ"
      },
      "source": [
        "interval_column = create_interval_column(age_df, interval=interval_to_plot )# Creating interval of 5\n"
      ],
      "execution_count": null,
      "outputs": []
    },
    {
      "cell_type": "code",
      "metadata": {
        "id": "XWS8Z1zF3ybo"
      },
      "source": [
        "age_df['Interval_column'] = interval_column"
      ],
      "execution_count": null,
      "outputs": []
    },
    {
      "cell_type": "code",
      "metadata": {
        "id": "MSoDwKHrQd8L"
      },
      "source": [
        "# plot a graph for columns analysed based on age\n",
        " \n",
        "plt = make_subplots(rows = 2, cols = 3, subplot_titles=columns_to_be_analyzed)\n",
        "count = 0\n",
        "for i in range(2):\n",
        "    for j in range(3):\n",
        "        if count == 5 :\n",
        "          break\n",
        "        plt.add_trace(go.Bar(x = age_df['Interval_column'].to_numpy(), \n",
        "                             y = age_df[columns_to_be_analyzed[count]].to_numpy()), row = i+1, col=j+1 )\n",
        "        count+=1"
      ],
      "execution_count": null,
      "outputs": []
    },
    {
      "cell_type": "code",
      "metadata": {
        "id": "vlfs56_xQd0z",
        "colab": {
          "base_uri": "https://localhost:8080/",
          "height": 817
        },
        "outputId": "4b19a6b6-56ae-4f82-e251-3990ac6fda40"
      },
      "source": [
        "plt.update_layout(  title = 'Age Vs Number of Purchase',font=dict(\n",
        "        family=\"Courier New, monospace\",size=12,color=\"black\"),showlegend=False,autosize=True,width=1000,height=800)\n",
        "plt.show()"
      ],
      "execution_count": null,
      "outputs": [
        {
          "output_type": "display_data",
          "data": {
            "text/html": [
              "<html>\n",
              "<head><meta charset=\"utf-8\" /></head>\n",
              "<body>\n",
              "    <div>\n",
              "            <script src=\"https://cdnjs.cloudflare.com/ajax/libs/mathjax/2.7.5/MathJax.js?config=TeX-AMS-MML_SVG\"></script><script type=\"text/javascript\">if (window.MathJax) {MathJax.Hub.Config({SVG: {font: \"STIX-Web\"}});}</script>\n",
              "                <script type=\"text/javascript\">window.PlotlyConfig = {MathJaxConfig: 'local'};</script>\n",
              "        <script src=\"https://cdn.plot.ly/plotly-latest.min.js\"></script>    \n",
              "            <div id=\"638fc5f1-8407-4af8-9e6e-5cfe7acd4e65\" class=\"plotly-graph-div\" style=\"height:800px; width:1000px;\"></div>\n",
              "            <script type=\"text/javascript\">\n",
              "                \n",
              "                    window.PLOTLYENV=window.PLOTLYENV || {};\n",
              "                    \n",
              "                if (document.getElementById(\"638fc5f1-8407-4af8-9e6e-5cfe7acd4e65\")) {\n",
              "                    Plotly.newPlot(\n",
              "                        '638fc5f1-8407-4af8-9e6e-5cfe7acd4e65',\n",
              "                        [{\"type\": \"bar\", \"x\": [\"70-80\", \"70-80\", \"70-80\", \"60-70\", \"60-70\", \"60-70\", \"60-70\", \"60-70\", \"60-70\", \"60-70\", \"60-70\", \"60-70\", \"60-70\", \"50-60\", \"50-60\", \"50-60\", \"50-60\", \"50-60\", \"50-60\", \"50-60\", \"50-60\", \"50-60\", \"50-60\", \"40-50\", \"40-50\", \"40-50\", \"40-50\", \"40-50\", \"40-50\", \"40-50\", \"40-50\", \"40-50\", \"40-50\", \"30-40\", \"30-40\", \"30-40\", \"30-40\", \"30-40\", \"30-40\", \"30-40\", \"30-40\", \"30-40\", \"30-40\", \"20-30\", \"20-30\", \"20-30\", \"20-30\", \"20-30\", \"20-30\", \"20-30\", \"20-30\", \"20-30\", \"20-30\", \"10-20\", \"10-20\", \"10-20\"], \"xaxis\": \"x\", \"y\": [1, 0, 10, 8, 8, 33, 18, 38, 80, 64, 91, 125, 85, 139, 125, 165, 104, 119, 108, 123, 78, 113, 131, 107, 169, 138, 104, 154, 159, 188, 244, 188, 220, 163, 212, 204, 125, 173, 131, 85, 95, 83, 56, 76, 62, 69, 38, 51, 53, 26, 30, 19, 5, 3, 5, 4], \"yaxis\": \"y\"}, {\"type\": \"bar\", \"x\": [\"70-80\", \"70-80\", \"70-80\", \"60-70\", \"60-70\", \"60-70\", \"60-70\", \"60-70\", \"60-70\", \"60-70\", \"60-70\", \"60-70\", \"60-70\", \"50-60\", \"50-60\", \"50-60\", \"50-60\", \"50-60\", \"50-60\", \"50-60\", \"50-60\", \"50-60\", \"50-60\", \"40-50\", \"40-50\", \"40-50\", \"40-50\", \"40-50\", \"40-50\", \"40-50\", \"40-50\", \"40-50\", \"40-50\", \"30-40\", \"30-40\", \"30-40\", \"30-40\", \"30-40\", \"30-40\", \"30-40\", \"30-40\", \"30-40\", \"30-40\", \"20-30\", \"20-30\", \"20-30\", \"20-30\", \"20-30\", \"20-30\", \"20-30\", \"20-30\", \"20-30\", \"20-30\", \"10-20\", \"10-20\", \"10-20\"], \"xaxis\": \"x2\", \"y\": [3, 7, 43, 40, 66, 84, 76, 91, 150, 104, 199, 208, 158, 244, 242, 273, 182, 225, 221, 180, 168, 197, 185, 187, 344, 215, 194, 236, 311, 310, 331, 314, 260, 271, 331, 339, 207, 270, 196, 154, 157, 178, 135, 116, 91, 157, 90, 99, 85, 62, 61, 41, 22, 15, 14, 4], \"yaxis\": \"y2\"}, {\"type\": \"bar\", \"x\": [\"70-80\", \"70-80\", \"70-80\", \"60-70\", \"60-70\", \"60-70\", \"60-70\", \"60-70\", \"60-70\", \"60-70\", \"60-70\", \"60-70\", \"60-70\", \"50-60\", \"50-60\", \"50-60\", \"50-60\", \"50-60\", \"50-60\", \"50-60\", \"50-60\", \"50-60\", \"50-60\", \"40-50\", \"40-50\", \"40-50\", \"40-50\", \"40-50\", \"40-50\", \"40-50\", \"40-50\", \"40-50\", \"40-50\", \"30-40\", \"30-40\", \"30-40\", \"30-40\", \"30-40\", \"30-40\", \"30-40\", \"30-40\", \"30-40\", \"30-40\", \"20-30\", \"20-30\", \"20-30\", \"20-30\", \"20-30\", \"20-30\", \"20-30\", \"20-30\", \"20-30\", \"20-30\", \"10-20\", \"10-20\", \"10-20\"], \"xaxis\": \"x3\", \"y\": [1, 10, 41, 32, 30, 48, 63, 102, 108, 66, 120, 172, 117, 164, 164, 170, 122, 183, 157, 157, 94, 143, 138, 145, 186, 106, 110, 100, 200, 213, 195, 179, 158, 128, 213, 194, 143, 143, 130, 83, 73, 156, 73, 69, 43, 72, 76, 82, 64, 36, 67, 44, 34, 14, 24, 1], \"yaxis\": \"y3\"}, {\"type\": \"bar\", \"x\": [\"70-80\", \"70-80\", \"70-80\", \"60-70\", \"60-70\", \"60-70\", \"60-70\", \"60-70\", \"60-70\", \"60-70\", \"60-70\", \"60-70\", \"60-70\", \"50-60\", \"50-60\", \"50-60\", \"50-60\", \"50-60\", \"50-60\", \"50-60\", \"50-60\", \"50-60\", \"50-60\", \"40-50\", \"40-50\", \"40-50\", \"40-50\", \"40-50\", \"40-50\", \"40-50\", \"40-50\", \"40-50\", \"40-50\", \"30-40\", \"30-40\", \"30-40\", \"30-40\", \"30-40\", \"30-40\", \"30-40\", \"30-40\", \"30-40\", \"30-40\", \"20-30\", \"20-30\", \"20-30\", \"20-30\", \"20-30\", \"20-30\", \"20-30\", \"20-30\", \"20-30\", \"20-30\", \"10-20\", \"10-20\", \"10-20\"], \"xaxis\": \"x4\", \"y\": [4, 5, 62, 58, 52, 121, 125, 130, 211, 152, 280, 341, 206, 311, 325, 383, 231, 334, 303, 327, 232, 311, 252, 257, 438, 289, 264, 291, 410, 463, 464, 435, 336, 382, 474, 491, 266, 407, 301, 207, 209, 244, 194, 165, 163, 199, 163, 168, 175, 84, 102, 67, 29, 28, 36, 5], \"yaxis\": \"y4\"}, {\"type\": \"bar\", \"x\": [\"70-80\", \"70-80\", \"70-80\", \"60-70\", \"60-70\", \"60-70\", \"60-70\", \"60-70\", \"60-70\", \"60-70\", \"60-70\", \"60-70\", \"60-70\", \"50-60\", \"50-60\", \"50-60\", \"50-60\", \"50-60\", \"50-60\", \"50-60\", \"50-60\", \"50-60\", \"50-60\", \"40-50\", \"40-50\", \"40-50\", \"40-50\", \"40-50\", \"40-50\", \"40-50\", \"40-50\", \"40-50\", \"40-50\", \"30-40\", \"30-40\", \"30-40\", \"30-40\", \"30-40\", \"30-40\", \"30-40\", \"30-40\", \"30-40\", \"30-40\", \"20-30\", \"20-30\", \"20-30\", \"20-30\", \"20-30\", \"20-30\", \"20-30\", \"20-30\", \"20-30\", \"20-30\", \"10-20\", \"10-20\", \"10-20\"], \"xaxis\": \"x5\", \"y\": [5, 2, 25, 22, 29, 79, 53, 78, 154, 155, 213, 243, 176, 240, 253, 276, 231, 235, 240, 223, 182, 217, 249, 216, 391, 269, 248, 316, 383, 395, 534, 443, 438, 402, 444, 520, 291, 437, 281, 218, 227, 228, 234, 232, 196, 238, 139, 149, 151, 108, 70, 68, 8, 10, 21, 14], \"yaxis\": \"y5\"}],\n",
              "                        {\"annotations\": [{\"font\": {\"size\": 16}, \"showarrow\": false, \"text\": \"DealPurchases\", \"x\": 0.14444444444444446, \"xanchor\": \"center\", \"xref\": \"paper\", \"y\": 1.0, \"yanchor\": \"bottom\", \"yref\": \"paper\"}, {\"font\": {\"size\": 16}, \"showarrow\": false, \"text\": \"WebPurchases\", \"x\": 0.5, \"xanchor\": \"center\", \"xref\": \"paper\", \"y\": 1.0, \"yanchor\": \"bottom\", \"yref\": \"paper\"}, {\"font\": {\"size\": 16}, \"showarrow\": false, \"text\": \"CatalogPurchases\", \"x\": 0.8555555555555556, \"xanchor\": \"center\", \"xref\": \"paper\", \"y\": 1.0, \"yanchor\": \"bottom\", \"yref\": \"paper\"}, {\"font\": {\"size\": 16}, \"showarrow\": false, \"text\": \"StorePurchases\", \"x\": 0.14444444444444446, \"xanchor\": \"center\", \"xref\": \"paper\", \"y\": 0.375, \"yanchor\": \"bottom\", \"yref\": \"paper\"}, {\"font\": {\"size\": 16}, \"showarrow\": false, \"text\": \"NumWebVisitsMonth\", \"x\": 0.5, \"xanchor\": \"center\", \"xref\": \"paper\", \"y\": 0.375, \"yanchor\": \"bottom\", \"yref\": \"paper\"}], \"autosize\": true, \"font\": {\"color\": \"black\", \"family\": \"Courier New, monospace\", \"size\": 12}, \"height\": 800, \"showlegend\": false, \"template\": {\"data\": {\"bar\": [{\"error_x\": {\"color\": \"#2a3f5f\"}, \"error_y\": {\"color\": \"#2a3f5f\"}, \"marker\": {\"line\": {\"color\": \"#E5ECF6\", \"width\": 0.5}}, \"type\": \"bar\"}], \"barpolar\": [{\"marker\": {\"line\": {\"color\": \"#E5ECF6\", \"width\": 0.5}}, \"type\": \"barpolar\"}], \"carpet\": [{\"aaxis\": {\"endlinecolor\": \"#2a3f5f\", \"gridcolor\": \"white\", \"linecolor\": \"white\", \"minorgridcolor\": \"white\", \"startlinecolor\": \"#2a3f5f\"}, \"baxis\": {\"endlinecolor\": \"#2a3f5f\", \"gridcolor\": \"white\", \"linecolor\": \"white\", \"minorgridcolor\": \"white\", \"startlinecolor\": \"#2a3f5f\"}, \"type\": \"carpet\"}], \"choropleth\": [{\"colorbar\": {\"outlinewidth\": 0, \"ticks\": \"\"}, \"type\": \"choropleth\"}], \"contour\": [{\"colorbar\": {\"outlinewidth\": 0, \"ticks\": \"\"}, \"colorscale\": [[0.0, \"#0d0887\"], [0.1111111111111111, \"#46039f\"], [0.2222222222222222, \"#7201a8\"], [0.3333333333333333, \"#9c179e\"], [0.4444444444444444, \"#bd3786\"], [0.5555555555555556, \"#d8576b\"], [0.6666666666666666, \"#ed7953\"], [0.7777777777777778, \"#fb9f3a\"], [0.8888888888888888, \"#fdca26\"], [1.0, \"#f0f921\"]], \"type\": \"contour\"}], \"contourcarpet\": [{\"colorbar\": {\"outlinewidth\": 0, \"ticks\": \"\"}, \"type\": \"contourcarpet\"}], \"heatmap\": [{\"colorbar\": {\"outlinewidth\": 0, \"ticks\": \"\"}, \"colorscale\": [[0.0, \"#0d0887\"], [0.1111111111111111, \"#46039f\"], [0.2222222222222222, \"#7201a8\"], [0.3333333333333333, \"#9c179e\"], [0.4444444444444444, \"#bd3786\"], [0.5555555555555556, \"#d8576b\"], [0.6666666666666666, \"#ed7953\"], [0.7777777777777778, \"#fb9f3a\"], [0.8888888888888888, \"#fdca26\"], [1.0, \"#f0f921\"]], \"type\": \"heatmap\"}], \"heatmapgl\": [{\"colorbar\": {\"outlinewidth\": 0, \"ticks\": \"\"}, \"colorscale\": [[0.0, \"#0d0887\"], [0.1111111111111111, \"#46039f\"], [0.2222222222222222, \"#7201a8\"], [0.3333333333333333, \"#9c179e\"], [0.4444444444444444, \"#bd3786\"], [0.5555555555555556, \"#d8576b\"], [0.6666666666666666, \"#ed7953\"], [0.7777777777777778, \"#fb9f3a\"], [0.8888888888888888, \"#fdca26\"], [1.0, \"#f0f921\"]], \"type\": \"heatmapgl\"}], \"histogram\": [{\"marker\": {\"colorbar\": {\"outlinewidth\": 0, \"ticks\": \"\"}}, \"type\": \"histogram\"}], \"histogram2d\": [{\"colorbar\": {\"outlinewidth\": 0, \"ticks\": \"\"}, \"colorscale\": [[0.0, \"#0d0887\"], [0.1111111111111111, \"#46039f\"], [0.2222222222222222, \"#7201a8\"], [0.3333333333333333, \"#9c179e\"], [0.4444444444444444, \"#bd3786\"], [0.5555555555555556, \"#d8576b\"], [0.6666666666666666, \"#ed7953\"], [0.7777777777777778, \"#fb9f3a\"], [0.8888888888888888, \"#fdca26\"], [1.0, \"#f0f921\"]], \"type\": \"histogram2d\"}], \"histogram2dcontour\": [{\"colorbar\": {\"outlinewidth\": 0, \"ticks\": \"\"}, \"colorscale\": [[0.0, \"#0d0887\"], [0.1111111111111111, \"#46039f\"], [0.2222222222222222, \"#7201a8\"], [0.3333333333333333, \"#9c179e\"], [0.4444444444444444, \"#bd3786\"], [0.5555555555555556, \"#d8576b\"], [0.6666666666666666, \"#ed7953\"], [0.7777777777777778, \"#fb9f3a\"], [0.8888888888888888, \"#fdca26\"], [1.0, \"#f0f921\"]], \"type\": \"histogram2dcontour\"}], \"mesh3d\": [{\"colorbar\": {\"outlinewidth\": 0, \"ticks\": \"\"}, \"type\": \"mesh3d\"}], \"parcoords\": [{\"line\": {\"colorbar\": {\"outlinewidth\": 0, \"ticks\": \"\"}}, \"type\": \"parcoords\"}], \"pie\": [{\"automargin\": true, \"type\": \"pie\"}], \"scatter\": [{\"marker\": {\"colorbar\": {\"outlinewidth\": 0, \"ticks\": \"\"}}, \"type\": \"scatter\"}], \"scatter3d\": [{\"line\": {\"colorbar\": {\"outlinewidth\": 0, \"ticks\": \"\"}}, \"marker\": {\"colorbar\": {\"outlinewidth\": 0, \"ticks\": \"\"}}, \"type\": \"scatter3d\"}], \"scattercarpet\": [{\"marker\": {\"colorbar\": {\"outlinewidth\": 0, \"ticks\": \"\"}}, \"type\": \"scattercarpet\"}], \"scattergeo\": [{\"marker\": {\"colorbar\": {\"outlinewidth\": 0, \"ticks\": \"\"}}, \"type\": \"scattergeo\"}], \"scattergl\": [{\"marker\": {\"colorbar\": {\"outlinewidth\": 0, \"ticks\": \"\"}}, \"type\": \"scattergl\"}], \"scattermapbox\": [{\"marker\": {\"colorbar\": {\"outlinewidth\": 0, \"ticks\": \"\"}}, \"type\": \"scattermapbox\"}], \"scatterpolar\": [{\"marker\": {\"colorbar\": {\"outlinewidth\": 0, \"ticks\": \"\"}}, \"type\": \"scatterpolar\"}], \"scatterpolargl\": [{\"marker\": {\"colorbar\": {\"outlinewidth\": 0, \"ticks\": \"\"}}, \"type\": \"scatterpolargl\"}], \"scatterternary\": [{\"marker\": {\"colorbar\": {\"outlinewidth\": 0, \"ticks\": \"\"}}, \"type\": \"scatterternary\"}], \"surface\": [{\"colorbar\": {\"outlinewidth\": 0, \"ticks\": \"\"}, \"colorscale\": [[0.0, \"#0d0887\"], [0.1111111111111111, \"#46039f\"], [0.2222222222222222, \"#7201a8\"], [0.3333333333333333, \"#9c179e\"], [0.4444444444444444, \"#bd3786\"], [0.5555555555555556, \"#d8576b\"], [0.6666666666666666, \"#ed7953\"], [0.7777777777777778, \"#fb9f3a\"], [0.8888888888888888, \"#fdca26\"], [1.0, \"#f0f921\"]], \"type\": \"surface\"}], \"table\": [{\"cells\": {\"fill\": {\"color\": \"#EBF0F8\"}, \"line\": {\"color\": \"white\"}}, \"header\": {\"fill\": {\"color\": \"#C8D4E3\"}, \"line\": {\"color\": \"white\"}}, \"type\": \"table\"}]}, \"layout\": {\"annotationdefaults\": {\"arrowcolor\": \"#2a3f5f\", \"arrowhead\": 0, \"arrowwidth\": 1}, \"coloraxis\": {\"colorbar\": {\"outlinewidth\": 0, \"ticks\": \"\"}}, \"colorscale\": {\"diverging\": [[0, \"#8e0152\"], [0.1, \"#c51b7d\"], [0.2, \"#de77ae\"], [0.3, \"#f1b6da\"], [0.4, \"#fde0ef\"], [0.5, \"#f7f7f7\"], [0.6, \"#e6f5d0\"], [0.7, \"#b8e186\"], [0.8, \"#7fbc41\"], [0.9, \"#4d9221\"], [1, \"#276419\"]], \"sequential\": [[0.0, \"#0d0887\"], [0.1111111111111111, \"#46039f\"], [0.2222222222222222, \"#7201a8\"], [0.3333333333333333, \"#9c179e\"], [0.4444444444444444, \"#bd3786\"], [0.5555555555555556, \"#d8576b\"], [0.6666666666666666, \"#ed7953\"], [0.7777777777777778, \"#fb9f3a\"], [0.8888888888888888, \"#fdca26\"], [1.0, \"#f0f921\"]], \"sequentialminus\": [[0.0, \"#0d0887\"], [0.1111111111111111, \"#46039f\"], [0.2222222222222222, \"#7201a8\"], [0.3333333333333333, \"#9c179e\"], [0.4444444444444444, \"#bd3786\"], [0.5555555555555556, \"#d8576b\"], [0.6666666666666666, \"#ed7953\"], [0.7777777777777778, \"#fb9f3a\"], [0.8888888888888888, \"#fdca26\"], [1.0, \"#f0f921\"]]}, \"colorway\": [\"#636efa\", \"#EF553B\", \"#00cc96\", \"#ab63fa\", \"#FFA15A\", \"#19d3f3\", \"#FF6692\", \"#B6E880\", \"#FF97FF\", \"#FECB52\"], \"font\": {\"color\": \"#2a3f5f\"}, \"geo\": {\"bgcolor\": \"white\", \"lakecolor\": \"white\", \"landcolor\": \"#E5ECF6\", \"showlakes\": true, \"showland\": true, \"subunitcolor\": \"white\"}, \"hoverlabel\": {\"align\": \"left\"}, \"hovermode\": \"closest\", \"mapbox\": {\"style\": \"light\"}, \"paper_bgcolor\": \"white\", \"plot_bgcolor\": \"#E5ECF6\", \"polar\": {\"angularaxis\": {\"gridcolor\": \"white\", \"linecolor\": \"white\", \"ticks\": \"\"}, \"bgcolor\": \"#E5ECF6\", \"radialaxis\": {\"gridcolor\": \"white\", \"linecolor\": \"white\", \"ticks\": \"\"}}, \"scene\": {\"xaxis\": {\"backgroundcolor\": \"#E5ECF6\", \"gridcolor\": \"white\", \"gridwidth\": 2, \"linecolor\": \"white\", \"showbackground\": true, \"ticks\": \"\", \"zerolinecolor\": \"white\"}, \"yaxis\": {\"backgroundcolor\": \"#E5ECF6\", \"gridcolor\": \"white\", \"gridwidth\": 2, \"linecolor\": \"white\", \"showbackground\": true, \"ticks\": \"\", \"zerolinecolor\": \"white\"}, \"zaxis\": {\"backgroundcolor\": \"#E5ECF6\", \"gridcolor\": \"white\", \"gridwidth\": 2, \"linecolor\": \"white\", \"showbackground\": true, \"ticks\": \"\", \"zerolinecolor\": \"white\"}}, \"shapedefaults\": {\"line\": {\"color\": \"#2a3f5f\"}}, \"ternary\": {\"aaxis\": {\"gridcolor\": \"white\", \"linecolor\": \"white\", \"ticks\": \"\"}, \"baxis\": {\"gridcolor\": \"white\", \"linecolor\": \"white\", \"ticks\": \"\"}, \"bgcolor\": \"#E5ECF6\", \"caxis\": {\"gridcolor\": \"white\", \"linecolor\": \"white\", \"ticks\": \"\"}}, \"title\": {\"x\": 0.05}, \"xaxis\": {\"automargin\": true, \"gridcolor\": \"white\", \"linecolor\": \"white\", \"ticks\": \"\", \"title\": {\"standoff\": 15}, \"zerolinecolor\": \"white\", \"zerolinewidth\": 2}, \"yaxis\": {\"automargin\": true, \"gridcolor\": \"white\", \"linecolor\": \"white\", \"ticks\": \"\", \"title\": {\"standoff\": 15}, \"zerolinecolor\": \"white\", \"zerolinewidth\": 2}}}, \"title\": {\"text\": \"Age Vs Number of Purchase\"}, \"width\": 1000, \"xaxis\": {\"anchor\": \"y\", \"domain\": [0.0, 0.2888888888888889]}, \"xaxis2\": {\"anchor\": \"y2\", \"domain\": [0.35555555555555557, 0.6444444444444445]}, \"xaxis3\": {\"anchor\": \"y3\", \"domain\": [0.7111111111111111, 1.0]}, \"xaxis4\": {\"anchor\": \"y4\", \"domain\": [0.0, 0.2888888888888889]}, \"xaxis5\": {\"anchor\": \"y5\", \"domain\": [0.35555555555555557, 0.6444444444444445]}, \"xaxis6\": {\"anchor\": \"y6\", \"domain\": [0.7111111111111111, 1.0]}, \"yaxis\": {\"anchor\": \"x\", \"domain\": [0.625, 1.0]}, \"yaxis2\": {\"anchor\": \"x2\", \"domain\": [0.625, 1.0]}, \"yaxis3\": {\"anchor\": \"x3\", \"domain\": [0.625, 1.0]}, \"yaxis4\": {\"anchor\": \"x4\", \"domain\": [0.0, 0.375]}, \"yaxis5\": {\"anchor\": \"x5\", \"domain\": [0.0, 0.375]}, \"yaxis6\": {\"anchor\": \"x6\", \"domain\": [0.0, 0.375]}},\n",
              "                        {\"responsive\": true}\n",
              "                    ).then(function(){\n",
              "                            \n",
              "var gd = document.getElementById('638fc5f1-8407-4af8-9e6e-5cfe7acd4e65');\n",
              "var x = new MutationObserver(function (mutations, observer) {{\n",
              "        var display = window.getComputedStyle(gd).display;\n",
              "        if (!display || display === 'none') {{\n",
              "            console.log([gd, 'removed!']);\n",
              "            Plotly.purge(gd);\n",
              "            observer.disconnect();\n",
              "        }}\n",
              "}});\n",
              "\n",
              "// Listen for the removal of the full notebook cells\n",
              "var notebookContainer = gd.closest('#notebook-container');\n",
              "if (notebookContainer) {{\n",
              "    x.observe(notebookContainer, {childList: true});\n",
              "}}\n",
              "\n",
              "// Listen for the clearing of the current output cell\n",
              "var outputEl = gd.closest('.output');\n",
              "if (outputEl) {{\n",
              "    x.observe(outputEl, {childList: true});\n",
              "}}\n",
              "\n",
              "                        })\n",
              "                };\n",
              "                \n",
              "            </script>\n",
              "        </div>\n",
              "</body>\n",
              "</html>"
            ]
          },
          "metadata": {}
        }
      ]
    },
    {
      "cell_type": "markdown",
      "metadata": {
        "id": "8uv-1yzOYAGB"
      },
      "source": [
        "**Insights:**\n",
        "\n",
        "\n",
        "\n",
        "1.   Customers of 40-50 age group have purchased more according to all the plots.\n",
        "2.   Age group 30-40 and 50-60 have also purchased more comparatively other customers.\n",
        "\n"
      ]
    },
    {
      "cell_type": "code",
      "metadata": {
        "id": "ME3NNyYI82-2"
      },
      "source": [
        "data2=data1.copy()"
      ],
      "execution_count": null,
      "outputs": []
    },
    {
      "cell_type": "code",
      "metadata": {
        "colab": {
          "base_uri": "https://localhost:8080/",
          "height": 226
        },
        "id": "naOkABOlVHxB",
        "outputId": "40257d27-06a2-4d05-f6df-a9a48396f039"
      },
      "source": [
        "data2.head()"
      ],
      "execution_count": null,
      "outputs": [
        {
          "output_type": "execute_result",
          "data": {
            "text/html": [
              "<div>\n",
              "<style scoped>\n",
              "    .dataframe tbody tr th:only-of-type {\n",
              "        vertical-align: middle;\n",
              "    }\n",
              "\n",
              "    .dataframe tbody tr th {\n",
              "        vertical-align: top;\n",
              "    }\n",
              "\n",
              "    .dataframe thead th {\n",
              "        text-align: right;\n",
              "    }\n",
              "</style>\n",
              "<table border=\"1\" class=\"dataframe\">\n",
              "  <thead>\n",
              "    <tr style=\"text-align: right;\">\n",
              "      <th></th>\n",
              "      <th>ID</th>\n",
              "      <th>Year_Birth</th>\n",
              "      <th>Education</th>\n",
              "      <th>Marital_Status</th>\n",
              "      <th>Income</th>\n",
              "      <th>Dt_Customer</th>\n",
              "      <th>Recency</th>\n",
              "      <th>Wines</th>\n",
              "      <th>Fruits</th>\n",
              "      <th>Meat</th>\n",
              "      <th>Fish</th>\n",
              "      <th>Sweets</th>\n",
              "      <th>Gold</th>\n",
              "      <th>DealPurchases</th>\n",
              "      <th>WebPurchases</th>\n",
              "      <th>CatalogPurchases</th>\n",
              "      <th>StorePurchases</th>\n",
              "      <th>NumWebVisitsMonth</th>\n",
              "      <th>AcceptedCmp3</th>\n",
              "      <th>AcceptedCmp4</th>\n",
              "      <th>AcceptedCmp5</th>\n",
              "      <th>AcceptedCmp1</th>\n",
              "      <th>AcceptedCmp2</th>\n",
              "      <th>Response</th>\n",
              "      <th>Children</th>\n",
              "      <th>Spending</th>\n",
              "      <th>Age</th>\n",
              "      <th>Seniority</th>\n",
              "    </tr>\n",
              "  </thead>\n",
              "  <tbody>\n",
              "    <tr>\n",
              "      <th>0</th>\n",
              "      <td>5524</td>\n",
              "      <td>1957</td>\n",
              "      <td>Graduation</td>\n",
              "      <td>Single</td>\n",
              "      <td>58138.0</td>\n",
              "      <td>04-09-2012</td>\n",
              "      <td>58</td>\n",
              "      <td>635</td>\n",
              "      <td>88</td>\n",
              "      <td>546</td>\n",
              "      <td>172</td>\n",
              "      <td>88</td>\n",
              "      <td>88</td>\n",
              "      <td>3</td>\n",
              "      <td>8</td>\n",
              "      <td>10</td>\n",
              "      <td>4</td>\n",
              "      <td>7</td>\n",
              "      <td>0</td>\n",
              "      <td>0</td>\n",
              "      <td>0</td>\n",
              "      <td>0</td>\n",
              "      <td>0</td>\n",
              "      <td>1</td>\n",
              "      <td>0</td>\n",
              "      <td>1617</td>\n",
              "      <td>57</td>\n",
              "      <td>25.333333</td>\n",
              "    </tr>\n",
              "    <tr>\n",
              "      <th>1</th>\n",
              "      <td>2174</td>\n",
              "      <td>1954</td>\n",
              "      <td>Graduation</td>\n",
              "      <td>Single</td>\n",
              "      <td>46344.0</td>\n",
              "      <td>08-03-2014</td>\n",
              "      <td>38</td>\n",
              "      <td>11</td>\n",
              "      <td>1</td>\n",
              "      <td>6</td>\n",
              "      <td>2</td>\n",
              "      <td>1</td>\n",
              "      <td>6</td>\n",
              "      <td>2</td>\n",
              "      <td>1</td>\n",
              "      <td>1</td>\n",
              "      <td>2</td>\n",
              "      <td>5</td>\n",
              "      <td>0</td>\n",
              "      <td>0</td>\n",
              "      <td>0</td>\n",
              "      <td>0</td>\n",
              "      <td>0</td>\n",
              "      <td>0</td>\n",
              "      <td>2</td>\n",
              "      <td>27</td>\n",
              "      <td>60</td>\n",
              "      <td>7.000000</td>\n",
              "    </tr>\n",
              "    <tr>\n",
              "      <th>2</th>\n",
              "      <td>4141</td>\n",
              "      <td>1965</td>\n",
              "      <td>Graduation</td>\n",
              "      <td>Together</td>\n",
              "      <td>71613.0</td>\n",
              "      <td>21-08-2013</td>\n",
              "      <td>26</td>\n",
              "      <td>426</td>\n",
              "      <td>49</td>\n",
              "      <td>127</td>\n",
              "      <td>111</td>\n",
              "      <td>21</td>\n",
              "      <td>42</td>\n",
              "      <td>1</td>\n",
              "      <td>8</td>\n",
              "      <td>2</td>\n",
              "      <td>10</td>\n",
              "      <td>4</td>\n",
              "      <td>0</td>\n",
              "      <td>0</td>\n",
              "      <td>0</td>\n",
              "      <td>0</td>\n",
              "      <td>0</td>\n",
              "      <td>0</td>\n",
              "      <td>0</td>\n",
              "      <td>776</td>\n",
              "      <td>49</td>\n",
              "      <td>13.633333</td>\n",
              "    </tr>\n",
              "    <tr>\n",
              "      <th>3</th>\n",
              "      <td>6182</td>\n",
              "      <td>1984</td>\n",
              "      <td>Graduation</td>\n",
              "      <td>Together</td>\n",
              "      <td>26646.0</td>\n",
              "      <td>10-02-2014</td>\n",
              "      <td>26</td>\n",
              "      <td>11</td>\n",
              "      <td>4</td>\n",
              "      <td>20</td>\n",
              "      <td>10</td>\n",
              "      <td>3</td>\n",
              "      <td>5</td>\n",
              "      <td>2</td>\n",
              "      <td>2</td>\n",
              "      <td>0</td>\n",
              "      <td>4</td>\n",
              "      <td>6</td>\n",
              "      <td>0</td>\n",
              "      <td>0</td>\n",
              "      <td>0</td>\n",
              "      <td>0</td>\n",
              "      <td>0</td>\n",
              "      <td>0</td>\n",
              "      <td>1</td>\n",
              "      <td>53</td>\n",
              "      <td>30</td>\n",
              "      <td>7.866667</td>\n",
              "    </tr>\n",
              "    <tr>\n",
              "      <th>4</th>\n",
              "      <td>5324</td>\n",
              "      <td>1981</td>\n",
              "      <td>PhD</td>\n",
              "      <td>Married</td>\n",
              "      <td>58293.0</td>\n",
              "      <td>19-01-2014</td>\n",
              "      <td>94</td>\n",
              "      <td>173</td>\n",
              "      <td>43</td>\n",
              "      <td>118</td>\n",
              "      <td>46</td>\n",
              "      <td>27</td>\n",
              "      <td>15</td>\n",
              "      <td>5</td>\n",
              "      <td>5</td>\n",
              "      <td>3</td>\n",
              "      <td>6</td>\n",
              "      <td>5</td>\n",
              "      <td>0</td>\n",
              "      <td>0</td>\n",
              "      <td>0</td>\n",
              "      <td>0</td>\n",
              "      <td>0</td>\n",
              "      <td>0</td>\n",
              "      <td>1</td>\n",
              "      <td>422</td>\n",
              "      <td>33</td>\n",
              "      <td>8.600000</td>\n",
              "    </tr>\n",
              "  </tbody>\n",
              "</table>\n",
              "</div>"
            ],
            "text/plain": [
              "     ID  Year_Birth   Education  ... Spending  Age  Seniority\n",
              "0  5524        1957  Graduation  ...     1617   57  25.333333\n",
              "1  2174        1954  Graduation  ...       27   60   7.000000\n",
              "2  4141        1965  Graduation  ...      776   49  13.633333\n",
              "3  6182        1984  Graduation  ...       53   30   7.866667\n",
              "4  5324        1981         PhD  ...      422   33   8.600000\n",
              "\n",
              "[5 rows x 28 columns]"
            ]
          },
          "metadata": {},
          "execution_count": 86
        }
      ]
    },
    {
      "cell_type": "code",
      "metadata": {
        "id": "yU8bYGz6Ock4"
      },
      "source": [
        "data2.drop(['Dt_Customer'],axis=1,inplace=True)"
      ],
      "execution_count": null,
      "outputs": []
    },
    {
      "cell_type": "code",
      "metadata": {
        "colab": {
          "base_uri": "https://localhost:8080/"
        },
        "id": "ABkHdu4X_2ol",
        "outputId": "cde52d3a-52bf-47c4-d0fa-b3a1f4312263"
      },
      "source": [
        "data2.isna().sum()"
      ],
      "execution_count": null,
      "outputs": [
        {
          "output_type": "execute_result",
          "data": {
            "text/plain": [
              "ID                   0\n",
              "Year_Birth           0\n",
              "Education            0\n",
              "Marital_Status       0\n",
              "Income               0\n",
              "Recency              0\n",
              "Wines                0\n",
              "Fruits               0\n",
              "Meat                 0\n",
              "Fish                 0\n",
              "Sweets               0\n",
              "Gold                 0\n",
              "DealPurchases        0\n",
              "WebPurchases         0\n",
              "CatalogPurchases     0\n",
              "StorePurchases       0\n",
              "NumWebVisitsMonth    0\n",
              "AcceptedCmp3         0\n",
              "AcceptedCmp4         0\n",
              "AcceptedCmp5         0\n",
              "AcceptedCmp1         0\n",
              "AcceptedCmp2         0\n",
              "Response             0\n",
              "Children             0\n",
              "Spending             0\n",
              "Age                  0\n",
              "Seniority            0\n",
              "dtype: int64"
            ]
          },
          "metadata": {},
          "execution_count": 88
        }
      ]
    },
    {
      "cell_type": "code",
      "metadata": {
        "colab": {
          "base_uri": "https://localhost:8080/",
          "height": 244
        },
        "id": "nxNSlaB5VH9e",
        "outputId": "61f507f4-fa2e-43d9-f1cc-112bb33758fc"
      },
      "source": [
        "dummies=pd.get_dummies(data2[[\"Education\",\"Marital_Status\"]])\n",
        "dummies.head()"
      ],
      "execution_count": null,
      "outputs": [
        {
          "output_type": "execute_result",
          "data": {
            "text/html": [
              "<div>\n",
              "<style scoped>\n",
              "    .dataframe tbody tr th:only-of-type {\n",
              "        vertical-align: middle;\n",
              "    }\n",
              "\n",
              "    .dataframe tbody tr th {\n",
              "        vertical-align: top;\n",
              "    }\n",
              "\n",
              "    .dataframe thead th {\n",
              "        text-align: right;\n",
              "    }\n",
              "</style>\n",
              "<table border=\"1\" class=\"dataframe\">\n",
              "  <thead>\n",
              "    <tr style=\"text-align: right;\">\n",
              "      <th></th>\n",
              "      <th>Education_2n Cycle</th>\n",
              "      <th>Education_Basic</th>\n",
              "      <th>Education_Graduation</th>\n",
              "      <th>Education_Master</th>\n",
              "      <th>Education_PhD</th>\n",
              "      <th>Marital_Status_Absurd</th>\n",
              "      <th>Marital_Status_Alone</th>\n",
              "      <th>Marital_Status_Divorced</th>\n",
              "      <th>Marital_Status_Married</th>\n",
              "      <th>Marital_Status_Single</th>\n",
              "      <th>Marital_Status_Together</th>\n",
              "      <th>Marital_Status_Widow</th>\n",
              "      <th>Marital_Status_YOLO</th>\n",
              "    </tr>\n",
              "  </thead>\n",
              "  <tbody>\n",
              "    <tr>\n",
              "      <th>0</th>\n",
              "      <td>0</td>\n",
              "      <td>0</td>\n",
              "      <td>1</td>\n",
              "      <td>0</td>\n",
              "      <td>0</td>\n",
              "      <td>0</td>\n",
              "      <td>0</td>\n",
              "      <td>0</td>\n",
              "      <td>0</td>\n",
              "      <td>1</td>\n",
              "      <td>0</td>\n",
              "      <td>0</td>\n",
              "      <td>0</td>\n",
              "    </tr>\n",
              "    <tr>\n",
              "      <th>1</th>\n",
              "      <td>0</td>\n",
              "      <td>0</td>\n",
              "      <td>1</td>\n",
              "      <td>0</td>\n",
              "      <td>0</td>\n",
              "      <td>0</td>\n",
              "      <td>0</td>\n",
              "      <td>0</td>\n",
              "      <td>0</td>\n",
              "      <td>1</td>\n",
              "      <td>0</td>\n",
              "      <td>0</td>\n",
              "      <td>0</td>\n",
              "    </tr>\n",
              "    <tr>\n",
              "      <th>2</th>\n",
              "      <td>0</td>\n",
              "      <td>0</td>\n",
              "      <td>1</td>\n",
              "      <td>0</td>\n",
              "      <td>0</td>\n",
              "      <td>0</td>\n",
              "      <td>0</td>\n",
              "      <td>0</td>\n",
              "      <td>0</td>\n",
              "      <td>0</td>\n",
              "      <td>1</td>\n",
              "      <td>0</td>\n",
              "      <td>0</td>\n",
              "    </tr>\n",
              "    <tr>\n",
              "      <th>3</th>\n",
              "      <td>0</td>\n",
              "      <td>0</td>\n",
              "      <td>1</td>\n",
              "      <td>0</td>\n",
              "      <td>0</td>\n",
              "      <td>0</td>\n",
              "      <td>0</td>\n",
              "      <td>0</td>\n",
              "      <td>0</td>\n",
              "      <td>0</td>\n",
              "      <td>1</td>\n",
              "      <td>0</td>\n",
              "      <td>0</td>\n",
              "    </tr>\n",
              "    <tr>\n",
              "      <th>4</th>\n",
              "      <td>0</td>\n",
              "      <td>0</td>\n",
              "      <td>0</td>\n",
              "      <td>0</td>\n",
              "      <td>1</td>\n",
              "      <td>0</td>\n",
              "      <td>0</td>\n",
              "      <td>0</td>\n",
              "      <td>1</td>\n",
              "      <td>0</td>\n",
              "      <td>0</td>\n",
              "      <td>0</td>\n",
              "      <td>0</td>\n",
              "    </tr>\n",
              "  </tbody>\n",
              "</table>\n",
              "</div>"
            ],
            "text/plain": [
              "   Education_2n Cycle  ...  Marital_Status_YOLO\n",
              "0                   0  ...                    0\n",
              "1                   0  ...                    0\n",
              "2                   0  ...                    0\n",
              "3                   0  ...                    0\n",
              "4                   0  ...                    0\n",
              "\n",
              "[5 rows x 13 columns]"
            ]
          },
          "metadata": {},
          "execution_count": 89
        }
      ]
    },
    {
      "cell_type": "code",
      "metadata": {
        "id": "LCmblhLp8277",
        "colab": {
          "base_uri": "https://localhost:8080/",
          "height": 244
        },
        "outputId": "f43851bd-7973-411e-8fba-1fb01b2f6050"
      },
      "source": [
        "data3 = pd.concat([data2, dummies],axis=1)\n",
        "data3.head()"
      ],
      "execution_count": null,
      "outputs": [
        {
          "output_type": "execute_result",
          "data": {
            "text/html": [
              "<div>\n",
              "<style scoped>\n",
              "    .dataframe tbody tr th:only-of-type {\n",
              "        vertical-align: middle;\n",
              "    }\n",
              "\n",
              "    .dataframe tbody tr th {\n",
              "        vertical-align: top;\n",
              "    }\n",
              "\n",
              "    .dataframe thead th {\n",
              "        text-align: right;\n",
              "    }\n",
              "</style>\n",
              "<table border=\"1\" class=\"dataframe\">\n",
              "  <thead>\n",
              "    <tr style=\"text-align: right;\">\n",
              "      <th></th>\n",
              "      <th>ID</th>\n",
              "      <th>Year_Birth</th>\n",
              "      <th>Education</th>\n",
              "      <th>Marital_Status</th>\n",
              "      <th>Income</th>\n",
              "      <th>Recency</th>\n",
              "      <th>Wines</th>\n",
              "      <th>Fruits</th>\n",
              "      <th>Meat</th>\n",
              "      <th>Fish</th>\n",
              "      <th>Sweets</th>\n",
              "      <th>Gold</th>\n",
              "      <th>DealPurchases</th>\n",
              "      <th>WebPurchases</th>\n",
              "      <th>CatalogPurchases</th>\n",
              "      <th>StorePurchases</th>\n",
              "      <th>NumWebVisitsMonth</th>\n",
              "      <th>AcceptedCmp3</th>\n",
              "      <th>AcceptedCmp4</th>\n",
              "      <th>AcceptedCmp5</th>\n",
              "      <th>AcceptedCmp1</th>\n",
              "      <th>AcceptedCmp2</th>\n",
              "      <th>Response</th>\n",
              "      <th>Children</th>\n",
              "      <th>Spending</th>\n",
              "      <th>Age</th>\n",
              "      <th>Seniority</th>\n",
              "      <th>Education_2n Cycle</th>\n",
              "      <th>Education_Basic</th>\n",
              "      <th>Education_Graduation</th>\n",
              "      <th>Education_Master</th>\n",
              "      <th>Education_PhD</th>\n",
              "      <th>Marital_Status_Absurd</th>\n",
              "      <th>Marital_Status_Alone</th>\n",
              "      <th>Marital_Status_Divorced</th>\n",
              "      <th>Marital_Status_Married</th>\n",
              "      <th>Marital_Status_Single</th>\n",
              "      <th>Marital_Status_Together</th>\n",
              "      <th>Marital_Status_Widow</th>\n",
              "      <th>Marital_Status_YOLO</th>\n",
              "    </tr>\n",
              "  </thead>\n",
              "  <tbody>\n",
              "    <tr>\n",
              "      <th>0</th>\n",
              "      <td>5524</td>\n",
              "      <td>1957</td>\n",
              "      <td>Graduation</td>\n",
              "      <td>Single</td>\n",
              "      <td>58138.0</td>\n",
              "      <td>58</td>\n",
              "      <td>635</td>\n",
              "      <td>88</td>\n",
              "      <td>546</td>\n",
              "      <td>172</td>\n",
              "      <td>88</td>\n",
              "      <td>88</td>\n",
              "      <td>3</td>\n",
              "      <td>8</td>\n",
              "      <td>10</td>\n",
              "      <td>4</td>\n",
              "      <td>7</td>\n",
              "      <td>0</td>\n",
              "      <td>0</td>\n",
              "      <td>0</td>\n",
              "      <td>0</td>\n",
              "      <td>0</td>\n",
              "      <td>1</td>\n",
              "      <td>0</td>\n",
              "      <td>1617</td>\n",
              "      <td>57</td>\n",
              "      <td>25.333333</td>\n",
              "      <td>0</td>\n",
              "      <td>0</td>\n",
              "      <td>1</td>\n",
              "      <td>0</td>\n",
              "      <td>0</td>\n",
              "      <td>0</td>\n",
              "      <td>0</td>\n",
              "      <td>0</td>\n",
              "      <td>0</td>\n",
              "      <td>1</td>\n",
              "      <td>0</td>\n",
              "      <td>0</td>\n",
              "      <td>0</td>\n",
              "    </tr>\n",
              "    <tr>\n",
              "      <th>1</th>\n",
              "      <td>2174</td>\n",
              "      <td>1954</td>\n",
              "      <td>Graduation</td>\n",
              "      <td>Single</td>\n",
              "      <td>46344.0</td>\n",
              "      <td>38</td>\n",
              "      <td>11</td>\n",
              "      <td>1</td>\n",
              "      <td>6</td>\n",
              "      <td>2</td>\n",
              "      <td>1</td>\n",
              "      <td>6</td>\n",
              "      <td>2</td>\n",
              "      <td>1</td>\n",
              "      <td>1</td>\n",
              "      <td>2</td>\n",
              "      <td>5</td>\n",
              "      <td>0</td>\n",
              "      <td>0</td>\n",
              "      <td>0</td>\n",
              "      <td>0</td>\n",
              "      <td>0</td>\n",
              "      <td>0</td>\n",
              "      <td>2</td>\n",
              "      <td>27</td>\n",
              "      <td>60</td>\n",
              "      <td>7.000000</td>\n",
              "      <td>0</td>\n",
              "      <td>0</td>\n",
              "      <td>1</td>\n",
              "      <td>0</td>\n",
              "      <td>0</td>\n",
              "      <td>0</td>\n",
              "      <td>0</td>\n",
              "      <td>0</td>\n",
              "      <td>0</td>\n",
              "      <td>1</td>\n",
              "      <td>0</td>\n",
              "      <td>0</td>\n",
              "      <td>0</td>\n",
              "    </tr>\n",
              "    <tr>\n",
              "      <th>2</th>\n",
              "      <td>4141</td>\n",
              "      <td>1965</td>\n",
              "      <td>Graduation</td>\n",
              "      <td>Together</td>\n",
              "      <td>71613.0</td>\n",
              "      <td>26</td>\n",
              "      <td>426</td>\n",
              "      <td>49</td>\n",
              "      <td>127</td>\n",
              "      <td>111</td>\n",
              "      <td>21</td>\n",
              "      <td>42</td>\n",
              "      <td>1</td>\n",
              "      <td>8</td>\n",
              "      <td>2</td>\n",
              "      <td>10</td>\n",
              "      <td>4</td>\n",
              "      <td>0</td>\n",
              "      <td>0</td>\n",
              "      <td>0</td>\n",
              "      <td>0</td>\n",
              "      <td>0</td>\n",
              "      <td>0</td>\n",
              "      <td>0</td>\n",
              "      <td>776</td>\n",
              "      <td>49</td>\n",
              "      <td>13.633333</td>\n",
              "      <td>0</td>\n",
              "      <td>0</td>\n",
              "      <td>1</td>\n",
              "      <td>0</td>\n",
              "      <td>0</td>\n",
              "      <td>0</td>\n",
              "      <td>0</td>\n",
              "      <td>0</td>\n",
              "      <td>0</td>\n",
              "      <td>0</td>\n",
              "      <td>1</td>\n",
              "      <td>0</td>\n",
              "      <td>0</td>\n",
              "    </tr>\n",
              "    <tr>\n",
              "      <th>3</th>\n",
              "      <td>6182</td>\n",
              "      <td>1984</td>\n",
              "      <td>Graduation</td>\n",
              "      <td>Together</td>\n",
              "      <td>26646.0</td>\n",
              "      <td>26</td>\n",
              "      <td>11</td>\n",
              "      <td>4</td>\n",
              "      <td>20</td>\n",
              "      <td>10</td>\n",
              "      <td>3</td>\n",
              "      <td>5</td>\n",
              "      <td>2</td>\n",
              "      <td>2</td>\n",
              "      <td>0</td>\n",
              "      <td>4</td>\n",
              "      <td>6</td>\n",
              "      <td>0</td>\n",
              "      <td>0</td>\n",
              "      <td>0</td>\n",
              "      <td>0</td>\n",
              "      <td>0</td>\n",
              "      <td>0</td>\n",
              "      <td>1</td>\n",
              "      <td>53</td>\n",
              "      <td>30</td>\n",
              "      <td>7.866667</td>\n",
              "      <td>0</td>\n",
              "      <td>0</td>\n",
              "      <td>1</td>\n",
              "      <td>0</td>\n",
              "      <td>0</td>\n",
              "      <td>0</td>\n",
              "      <td>0</td>\n",
              "      <td>0</td>\n",
              "      <td>0</td>\n",
              "      <td>0</td>\n",
              "      <td>1</td>\n",
              "      <td>0</td>\n",
              "      <td>0</td>\n",
              "    </tr>\n",
              "    <tr>\n",
              "      <th>4</th>\n",
              "      <td>5324</td>\n",
              "      <td>1981</td>\n",
              "      <td>PhD</td>\n",
              "      <td>Married</td>\n",
              "      <td>58293.0</td>\n",
              "      <td>94</td>\n",
              "      <td>173</td>\n",
              "      <td>43</td>\n",
              "      <td>118</td>\n",
              "      <td>46</td>\n",
              "      <td>27</td>\n",
              "      <td>15</td>\n",
              "      <td>5</td>\n",
              "      <td>5</td>\n",
              "      <td>3</td>\n",
              "      <td>6</td>\n",
              "      <td>5</td>\n",
              "      <td>0</td>\n",
              "      <td>0</td>\n",
              "      <td>0</td>\n",
              "      <td>0</td>\n",
              "      <td>0</td>\n",
              "      <td>0</td>\n",
              "      <td>1</td>\n",
              "      <td>422</td>\n",
              "      <td>33</td>\n",
              "      <td>8.600000</td>\n",
              "      <td>0</td>\n",
              "      <td>0</td>\n",
              "      <td>0</td>\n",
              "      <td>0</td>\n",
              "      <td>1</td>\n",
              "      <td>0</td>\n",
              "      <td>0</td>\n",
              "      <td>0</td>\n",
              "      <td>1</td>\n",
              "      <td>0</td>\n",
              "      <td>0</td>\n",
              "      <td>0</td>\n",
              "      <td>0</td>\n",
              "    </tr>\n",
              "  </tbody>\n",
              "</table>\n",
              "</div>"
            ],
            "text/plain": [
              "     ID  Year_Birth  ... Marital_Status_Widow Marital_Status_YOLO\n",
              "0  5524        1957  ...                    0                   0\n",
              "1  2174        1954  ...                    0                   0\n",
              "2  4141        1965  ...                    0                   0\n",
              "3  6182        1984  ...                    0                   0\n",
              "4  5324        1981  ...                    0                   0\n",
              "\n",
              "[5 rows x 40 columns]"
            ]
          },
          "metadata": {},
          "execution_count": 90
        }
      ]
    },
    {
      "cell_type": "code",
      "metadata": {
        "id": "XSw3pTqZ825O"
      },
      "source": [
        "data3.drop(['Education','Marital_Status','Age','Year_Birth','ID'],axis=1,inplace=True)"
      ],
      "execution_count": null,
      "outputs": []
    },
    {
      "cell_type": "code",
      "metadata": {
        "id": "3R6yZjNT82zH",
        "colab": {
          "base_uri": "https://localhost:8080/"
        },
        "outputId": "2c67d47c-1419-49b6-e14e-1e52804a70a9"
      },
      "source": [
        "data3.shape"
      ],
      "execution_count": null,
      "outputs": [
        {
          "output_type": "execute_result",
          "data": {
            "text/plain": [
              "(2215, 35)"
            ]
          },
          "metadata": {},
          "execution_count": 92
        }
      ]
    },
    {
      "cell_type": "code",
      "metadata": {
        "colab": {
          "base_uri": "https://localhost:8080/",
          "height": 244
        },
        "id": "NQrRqaS7XMf5",
        "outputId": "697cf301-665c-42e2-ad8b-8e0522daff77"
      },
      "source": [
        "data3.head()"
      ],
      "execution_count": null,
      "outputs": [
        {
          "output_type": "execute_result",
          "data": {
            "text/html": [
              "<div>\n",
              "<style scoped>\n",
              "    .dataframe tbody tr th:only-of-type {\n",
              "        vertical-align: middle;\n",
              "    }\n",
              "\n",
              "    .dataframe tbody tr th {\n",
              "        vertical-align: top;\n",
              "    }\n",
              "\n",
              "    .dataframe thead th {\n",
              "        text-align: right;\n",
              "    }\n",
              "</style>\n",
              "<table border=\"1\" class=\"dataframe\">\n",
              "  <thead>\n",
              "    <tr style=\"text-align: right;\">\n",
              "      <th></th>\n",
              "      <th>Income</th>\n",
              "      <th>Recency</th>\n",
              "      <th>Wines</th>\n",
              "      <th>Fruits</th>\n",
              "      <th>Meat</th>\n",
              "      <th>Fish</th>\n",
              "      <th>Sweets</th>\n",
              "      <th>Gold</th>\n",
              "      <th>DealPurchases</th>\n",
              "      <th>WebPurchases</th>\n",
              "      <th>CatalogPurchases</th>\n",
              "      <th>StorePurchases</th>\n",
              "      <th>NumWebVisitsMonth</th>\n",
              "      <th>AcceptedCmp3</th>\n",
              "      <th>AcceptedCmp4</th>\n",
              "      <th>AcceptedCmp5</th>\n",
              "      <th>AcceptedCmp1</th>\n",
              "      <th>AcceptedCmp2</th>\n",
              "      <th>Response</th>\n",
              "      <th>Children</th>\n",
              "      <th>Spending</th>\n",
              "      <th>Seniority</th>\n",
              "      <th>Education_2n Cycle</th>\n",
              "      <th>Education_Basic</th>\n",
              "      <th>Education_Graduation</th>\n",
              "      <th>Education_Master</th>\n",
              "      <th>Education_PhD</th>\n",
              "      <th>Marital_Status_Absurd</th>\n",
              "      <th>Marital_Status_Alone</th>\n",
              "      <th>Marital_Status_Divorced</th>\n",
              "      <th>Marital_Status_Married</th>\n",
              "      <th>Marital_Status_Single</th>\n",
              "      <th>Marital_Status_Together</th>\n",
              "      <th>Marital_Status_Widow</th>\n",
              "      <th>Marital_Status_YOLO</th>\n",
              "    </tr>\n",
              "  </thead>\n",
              "  <tbody>\n",
              "    <tr>\n",
              "      <th>0</th>\n",
              "      <td>58138.0</td>\n",
              "      <td>58</td>\n",
              "      <td>635</td>\n",
              "      <td>88</td>\n",
              "      <td>546</td>\n",
              "      <td>172</td>\n",
              "      <td>88</td>\n",
              "      <td>88</td>\n",
              "      <td>3</td>\n",
              "      <td>8</td>\n",
              "      <td>10</td>\n",
              "      <td>4</td>\n",
              "      <td>7</td>\n",
              "      <td>0</td>\n",
              "      <td>0</td>\n",
              "      <td>0</td>\n",
              "      <td>0</td>\n",
              "      <td>0</td>\n",
              "      <td>1</td>\n",
              "      <td>0</td>\n",
              "      <td>1617</td>\n",
              "      <td>25.333333</td>\n",
              "      <td>0</td>\n",
              "      <td>0</td>\n",
              "      <td>1</td>\n",
              "      <td>0</td>\n",
              "      <td>0</td>\n",
              "      <td>0</td>\n",
              "      <td>0</td>\n",
              "      <td>0</td>\n",
              "      <td>0</td>\n",
              "      <td>1</td>\n",
              "      <td>0</td>\n",
              "      <td>0</td>\n",
              "      <td>0</td>\n",
              "    </tr>\n",
              "    <tr>\n",
              "      <th>1</th>\n",
              "      <td>46344.0</td>\n",
              "      <td>38</td>\n",
              "      <td>11</td>\n",
              "      <td>1</td>\n",
              "      <td>6</td>\n",
              "      <td>2</td>\n",
              "      <td>1</td>\n",
              "      <td>6</td>\n",
              "      <td>2</td>\n",
              "      <td>1</td>\n",
              "      <td>1</td>\n",
              "      <td>2</td>\n",
              "      <td>5</td>\n",
              "      <td>0</td>\n",
              "      <td>0</td>\n",
              "      <td>0</td>\n",
              "      <td>0</td>\n",
              "      <td>0</td>\n",
              "      <td>0</td>\n",
              "      <td>2</td>\n",
              "      <td>27</td>\n",
              "      <td>7.000000</td>\n",
              "      <td>0</td>\n",
              "      <td>0</td>\n",
              "      <td>1</td>\n",
              "      <td>0</td>\n",
              "      <td>0</td>\n",
              "      <td>0</td>\n",
              "      <td>0</td>\n",
              "      <td>0</td>\n",
              "      <td>0</td>\n",
              "      <td>1</td>\n",
              "      <td>0</td>\n",
              "      <td>0</td>\n",
              "      <td>0</td>\n",
              "    </tr>\n",
              "    <tr>\n",
              "      <th>2</th>\n",
              "      <td>71613.0</td>\n",
              "      <td>26</td>\n",
              "      <td>426</td>\n",
              "      <td>49</td>\n",
              "      <td>127</td>\n",
              "      <td>111</td>\n",
              "      <td>21</td>\n",
              "      <td>42</td>\n",
              "      <td>1</td>\n",
              "      <td>8</td>\n",
              "      <td>2</td>\n",
              "      <td>10</td>\n",
              "      <td>4</td>\n",
              "      <td>0</td>\n",
              "      <td>0</td>\n",
              "      <td>0</td>\n",
              "      <td>0</td>\n",
              "      <td>0</td>\n",
              "      <td>0</td>\n",
              "      <td>0</td>\n",
              "      <td>776</td>\n",
              "      <td>13.633333</td>\n",
              "      <td>0</td>\n",
              "      <td>0</td>\n",
              "      <td>1</td>\n",
              "      <td>0</td>\n",
              "      <td>0</td>\n",
              "      <td>0</td>\n",
              "      <td>0</td>\n",
              "      <td>0</td>\n",
              "      <td>0</td>\n",
              "      <td>0</td>\n",
              "      <td>1</td>\n",
              "      <td>0</td>\n",
              "      <td>0</td>\n",
              "    </tr>\n",
              "    <tr>\n",
              "      <th>3</th>\n",
              "      <td>26646.0</td>\n",
              "      <td>26</td>\n",
              "      <td>11</td>\n",
              "      <td>4</td>\n",
              "      <td>20</td>\n",
              "      <td>10</td>\n",
              "      <td>3</td>\n",
              "      <td>5</td>\n",
              "      <td>2</td>\n",
              "      <td>2</td>\n",
              "      <td>0</td>\n",
              "      <td>4</td>\n",
              "      <td>6</td>\n",
              "      <td>0</td>\n",
              "      <td>0</td>\n",
              "      <td>0</td>\n",
              "      <td>0</td>\n",
              "      <td>0</td>\n",
              "      <td>0</td>\n",
              "      <td>1</td>\n",
              "      <td>53</td>\n",
              "      <td>7.866667</td>\n",
              "      <td>0</td>\n",
              "      <td>0</td>\n",
              "      <td>1</td>\n",
              "      <td>0</td>\n",
              "      <td>0</td>\n",
              "      <td>0</td>\n",
              "      <td>0</td>\n",
              "      <td>0</td>\n",
              "      <td>0</td>\n",
              "      <td>0</td>\n",
              "      <td>1</td>\n",
              "      <td>0</td>\n",
              "      <td>0</td>\n",
              "    </tr>\n",
              "    <tr>\n",
              "      <th>4</th>\n",
              "      <td>58293.0</td>\n",
              "      <td>94</td>\n",
              "      <td>173</td>\n",
              "      <td>43</td>\n",
              "      <td>118</td>\n",
              "      <td>46</td>\n",
              "      <td>27</td>\n",
              "      <td>15</td>\n",
              "      <td>5</td>\n",
              "      <td>5</td>\n",
              "      <td>3</td>\n",
              "      <td>6</td>\n",
              "      <td>5</td>\n",
              "      <td>0</td>\n",
              "      <td>0</td>\n",
              "      <td>0</td>\n",
              "      <td>0</td>\n",
              "      <td>0</td>\n",
              "      <td>0</td>\n",
              "      <td>1</td>\n",
              "      <td>422</td>\n",
              "      <td>8.600000</td>\n",
              "      <td>0</td>\n",
              "      <td>0</td>\n",
              "      <td>0</td>\n",
              "      <td>0</td>\n",
              "      <td>1</td>\n",
              "      <td>0</td>\n",
              "      <td>0</td>\n",
              "      <td>0</td>\n",
              "      <td>1</td>\n",
              "      <td>0</td>\n",
              "      <td>0</td>\n",
              "      <td>0</td>\n",
              "      <td>0</td>\n",
              "    </tr>\n",
              "  </tbody>\n",
              "</table>\n",
              "</div>"
            ],
            "text/plain": [
              "    Income  Recency  ...  Marital_Status_Widow  Marital_Status_YOLO\n",
              "0  58138.0       58  ...                     0                    0\n",
              "1  46344.0       38  ...                     0                    0\n",
              "2  71613.0       26  ...                     0                    0\n",
              "3  26646.0       26  ...                     0                    0\n",
              "4  58293.0       94  ...                     0                    0\n",
              "\n",
              "[5 rows x 35 columns]"
            ]
          },
          "metadata": {},
          "execution_count": 93
        }
      ]
    },
    {
      "cell_type": "code",
      "metadata": {
        "id": "6SBbX4tzXMbw"
      },
      "source": [
        "from sklearn.model_selection import train_test_split"
      ],
      "execution_count": null,
      "outputs": []
    },
    {
      "cell_type": "code",
      "metadata": {
        "id": "qG65NcrNXMZ4"
      },
      "source": [
        "x = data3.drop(['Response'],axis=1)\n",
        "y = data3.Response"
      ],
      "execution_count": null,
      "outputs": []
    },
    {
      "cell_type": "code",
      "metadata": {
        "colab": {
          "base_uri": "https://localhost:8080/",
          "height": 244
        },
        "id": "buEuVfJAXMWP",
        "outputId": "ada6b986-81e7-4f0f-ce4d-cdc98785bc88"
      },
      "source": [
        "x.head()"
      ],
      "execution_count": null,
      "outputs": [
        {
          "output_type": "execute_result",
          "data": {
            "text/html": [
              "<div>\n",
              "<style scoped>\n",
              "    .dataframe tbody tr th:only-of-type {\n",
              "        vertical-align: middle;\n",
              "    }\n",
              "\n",
              "    .dataframe tbody tr th {\n",
              "        vertical-align: top;\n",
              "    }\n",
              "\n",
              "    .dataframe thead th {\n",
              "        text-align: right;\n",
              "    }\n",
              "</style>\n",
              "<table border=\"1\" class=\"dataframe\">\n",
              "  <thead>\n",
              "    <tr style=\"text-align: right;\">\n",
              "      <th></th>\n",
              "      <th>Income</th>\n",
              "      <th>Recency</th>\n",
              "      <th>Wines</th>\n",
              "      <th>Fruits</th>\n",
              "      <th>Meat</th>\n",
              "      <th>Fish</th>\n",
              "      <th>Sweets</th>\n",
              "      <th>Gold</th>\n",
              "      <th>DealPurchases</th>\n",
              "      <th>WebPurchases</th>\n",
              "      <th>CatalogPurchases</th>\n",
              "      <th>StorePurchases</th>\n",
              "      <th>NumWebVisitsMonth</th>\n",
              "      <th>AcceptedCmp3</th>\n",
              "      <th>AcceptedCmp4</th>\n",
              "      <th>AcceptedCmp5</th>\n",
              "      <th>AcceptedCmp1</th>\n",
              "      <th>AcceptedCmp2</th>\n",
              "      <th>Children</th>\n",
              "      <th>Spending</th>\n",
              "      <th>Seniority</th>\n",
              "      <th>Education_2n Cycle</th>\n",
              "      <th>Education_Basic</th>\n",
              "      <th>Education_Graduation</th>\n",
              "      <th>Education_Master</th>\n",
              "      <th>Education_PhD</th>\n",
              "      <th>Marital_Status_Absurd</th>\n",
              "      <th>Marital_Status_Alone</th>\n",
              "      <th>Marital_Status_Divorced</th>\n",
              "      <th>Marital_Status_Married</th>\n",
              "      <th>Marital_Status_Single</th>\n",
              "      <th>Marital_Status_Together</th>\n",
              "      <th>Marital_Status_Widow</th>\n",
              "      <th>Marital_Status_YOLO</th>\n",
              "    </tr>\n",
              "  </thead>\n",
              "  <tbody>\n",
              "    <tr>\n",
              "      <th>0</th>\n",
              "      <td>58138.0</td>\n",
              "      <td>58</td>\n",
              "      <td>635</td>\n",
              "      <td>88</td>\n",
              "      <td>546</td>\n",
              "      <td>172</td>\n",
              "      <td>88</td>\n",
              "      <td>88</td>\n",
              "      <td>3</td>\n",
              "      <td>8</td>\n",
              "      <td>10</td>\n",
              "      <td>4</td>\n",
              "      <td>7</td>\n",
              "      <td>0</td>\n",
              "      <td>0</td>\n",
              "      <td>0</td>\n",
              "      <td>0</td>\n",
              "      <td>0</td>\n",
              "      <td>0</td>\n",
              "      <td>1617</td>\n",
              "      <td>25.333333</td>\n",
              "      <td>0</td>\n",
              "      <td>0</td>\n",
              "      <td>1</td>\n",
              "      <td>0</td>\n",
              "      <td>0</td>\n",
              "      <td>0</td>\n",
              "      <td>0</td>\n",
              "      <td>0</td>\n",
              "      <td>0</td>\n",
              "      <td>1</td>\n",
              "      <td>0</td>\n",
              "      <td>0</td>\n",
              "      <td>0</td>\n",
              "    </tr>\n",
              "    <tr>\n",
              "      <th>1</th>\n",
              "      <td>46344.0</td>\n",
              "      <td>38</td>\n",
              "      <td>11</td>\n",
              "      <td>1</td>\n",
              "      <td>6</td>\n",
              "      <td>2</td>\n",
              "      <td>1</td>\n",
              "      <td>6</td>\n",
              "      <td>2</td>\n",
              "      <td>1</td>\n",
              "      <td>1</td>\n",
              "      <td>2</td>\n",
              "      <td>5</td>\n",
              "      <td>0</td>\n",
              "      <td>0</td>\n",
              "      <td>0</td>\n",
              "      <td>0</td>\n",
              "      <td>0</td>\n",
              "      <td>2</td>\n",
              "      <td>27</td>\n",
              "      <td>7.000000</td>\n",
              "      <td>0</td>\n",
              "      <td>0</td>\n",
              "      <td>1</td>\n",
              "      <td>0</td>\n",
              "      <td>0</td>\n",
              "      <td>0</td>\n",
              "      <td>0</td>\n",
              "      <td>0</td>\n",
              "      <td>0</td>\n",
              "      <td>1</td>\n",
              "      <td>0</td>\n",
              "      <td>0</td>\n",
              "      <td>0</td>\n",
              "    </tr>\n",
              "    <tr>\n",
              "      <th>2</th>\n",
              "      <td>71613.0</td>\n",
              "      <td>26</td>\n",
              "      <td>426</td>\n",
              "      <td>49</td>\n",
              "      <td>127</td>\n",
              "      <td>111</td>\n",
              "      <td>21</td>\n",
              "      <td>42</td>\n",
              "      <td>1</td>\n",
              "      <td>8</td>\n",
              "      <td>2</td>\n",
              "      <td>10</td>\n",
              "      <td>4</td>\n",
              "      <td>0</td>\n",
              "      <td>0</td>\n",
              "      <td>0</td>\n",
              "      <td>0</td>\n",
              "      <td>0</td>\n",
              "      <td>0</td>\n",
              "      <td>776</td>\n",
              "      <td>13.633333</td>\n",
              "      <td>0</td>\n",
              "      <td>0</td>\n",
              "      <td>1</td>\n",
              "      <td>0</td>\n",
              "      <td>0</td>\n",
              "      <td>0</td>\n",
              "      <td>0</td>\n",
              "      <td>0</td>\n",
              "      <td>0</td>\n",
              "      <td>0</td>\n",
              "      <td>1</td>\n",
              "      <td>0</td>\n",
              "      <td>0</td>\n",
              "    </tr>\n",
              "    <tr>\n",
              "      <th>3</th>\n",
              "      <td>26646.0</td>\n",
              "      <td>26</td>\n",
              "      <td>11</td>\n",
              "      <td>4</td>\n",
              "      <td>20</td>\n",
              "      <td>10</td>\n",
              "      <td>3</td>\n",
              "      <td>5</td>\n",
              "      <td>2</td>\n",
              "      <td>2</td>\n",
              "      <td>0</td>\n",
              "      <td>4</td>\n",
              "      <td>6</td>\n",
              "      <td>0</td>\n",
              "      <td>0</td>\n",
              "      <td>0</td>\n",
              "      <td>0</td>\n",
              "      <td>0</td>\n",
              "      <td>1</td>\n",
              "      <td>53</td>\n",
              "      <td>7.866667</td>\n",
              "      <td>0</td>\n",
              "      <td>0</td>\n",
              "      <td>1</td>\n",
              "      <td>0</td>\n",
              "      <td>0</td>\n",
              "      <td>0</td>\n",
              "      <td>0</td>\n",
              "      <td>0</td>\n",
              "      <td>0</td>\n",
              "      <td>0</td>\n",
              "      <td>1</td>\n",
              "      <td>0</td>\n",
              "      <td>0</td>\n",
              "    </tr>\n",
              "    <tr>\n",
              "      <th>4</th>\n",
              "      <td>58293.0</td>\n",
              "      <td>94</td>\n",
              "      <td>173</td>\n",
              "      <td>43</td>\n",
              "      <td>118</td>\n",
              "      <td>46</td>\n",
              "      <td>27</td>\n",
              "      <td>15</td>\n",
              "      <td>5</td>\n",
              "      <td>5</td>\n",
              "      <td>3</td>\n",
              "      <td>6</td>\n",
              "      <td>5</td>\n",
              "      <td>0</td>\n",
              "      <td>0</td>\n",
              "      <td>0</td>\n",
              "      <td>0</td>\n",
              "      <td>0</td>\n",
              "      <td>1</td>\n",
              "      <td>422</td>\n",
              "      <td>8.600000</td>\n",
              "      <td>0</td>\n",
              "      <td>0</td>\n",
              "      <td>0</td>\n",
              "      <td>0</td>\n",
              "      <td>1</td>\n",
              "      <td>0</td>\n",
              "      <td>0</td>\n",
              "      <td>0</td>\n",
              "      <td>1</td>\n",
              "      <td>0</td>\n",
              "      <td>0</td>\n",
              "      <td>0</td>\n",
              "      <td>0</td>\n",
              "    </tr>\n",
              "  </tbody>\n",
              "</table>\n",
              "</div>"
            ],
            "text/plain": [
              "    Income  Recency  ...  Marital_Status_Widow  Marital_Status_YOLO\n",
              "0  58138.0       58  ...                     0                    0\n",
              "1  46344.0       38  ...                     0                    0\n",
              "2  71613.0       26  ...                     0                    0\n",
              "3  26646.0       26  ...                     0                    0\n",
              "4  58293.0       94  ...                     0                    0\n",
              "\n",
              "[5 rows x 34 columns]"
            ]
          },
          "metadata": {},
          "execution_count": 96
        }
      ]
    },
    {
      "cell_type": "code",
      "metadata": {
        "colab": {
          "base_uri": "https://localhost:8080/"
        },
        "id": "IHbVySXigdop",
        "outputId": "2a0a4079-c2d2-488b-def8-dc0180ceccd1"
      },
      "source": [
        "y.value_counts()"
      ],
      "execution_count": null,
      "outputs": [
        {
          "output_type": "execute_result",
          "data": {
            "text/plain": [
              "0    1882\n",
              "1     333\n",
              "Name: Response, dtype: int64"
            ]
          },
          "metadata": {},
          "execution_count": 97
        }
      ]
    },
    {
      "cell_type": "code",
      "metadata": {
        "colab": {
          "base_uri": "https://localhost:8080/"
        },
        "id": "RIEuTfhRXMTP",
        "outputId": "bc5034a5-0ab2-40c7-c99f-27d2972b9374"
      },
      "source": [
        "y.head()"
      ],
      "execution_count": null,
      "outputs": [
        {
          "output_type": "execute_result",
          "data": {
            "text/plain": [
              "0    1\n",
              "1    0\n",
              "2    0\n",
              "3    0\n",
              "4    0\n",
              "Name: Response, dtype: int64"
            ]
          },
          "metadata": {},
          "execution_count": 98
        }
      ]
    },
    {
      "cell_type": "code",
      "metadata": {
        "id": "uD0edQ6F82vs"
      },
      "source": [
        "#spliting the data into training and test data\n",
        "\n",
        "from sklearn.model_selection import train_test_split\n",
        "x_train,x_test,y_train,y_test=train_test_split(x,y,test_size=0.25,random_state=42)"
      ],
      "execution_count": null,
      "outputs": []
    },
    {
      "cell_type": "code",
      "metadata": {
        "id": "savuJHwBCwhw"
      },
      "source": [
        "from sklearn.preprocessing import MinMaxScaler\n",
        "\n",
        "# fit scaler on training data\n",
        "norm = MinMaxScaler().fit(x_train)\n",
        "\n",
        "# transform training data\n",
        "x_train_norm = norm.transform(x_train)\n",
        "\n",
        "# transform testing data\n",
        "x_test_norm = norm.transform(x_test)"
      ],
      "execution_count": null,
      "outputs": []
    },
    {
      "cell_type": "code",
      "metadata": {
        "colab": {
          "base_uri": "https://localhost:8080/"
        },
        "id": "bmjqMwhYEPiP",
        "outputId": "c341e5d5-b596-41ad-8c57-3587099e17eb"
      },
      "source": [
        "print(\"\\n\\nScaled Test Data: \\n\\n\")\n",
        "print(x_test_norm)"
      ],
      "execution_count": null,
      "outputs": [
        {
          "output_type": "stream",
          "name": "stdout",
          "text": [
            "\n",
            "\n",
            "Scaled Test Data: \n",
            "\n",
            "\n",
            "[[0.10815538 0.49494949 0.00134048 ... 0.         0.         0.        ]\n",
            " [0.18271331 0.7979798  0.01072386 ... 0.         0.         0.        ]\n",
            " [0.36250755 0.47474747 0.08713137 ... 0.         0.         0.        ]\n",
            " ...\n",
            " [0.44078747 0.39393939 0.5536193  ... 0.         0.         0.        ]\n",
            " [0.06048535 0.16161616 0.         ... 0.         0.         0.        ]\n",
            " [0.20321535 0.68686869 0.04825737 ... 0.         0.         0.        ]]\n"
          ]
        }
      ]
    },
    {
      "cell_type": "markdown",
      "metadata": {
        "id": "sS3T2EIoI5ME"
      },
      "source": [
        "All the features now have a minimum value of 0 and a maximum value of 1"
      ]
    },
    {
      "cell_type": "code",
      "metadata": {
        "id": "LJeiRKUkDBlX"
      },
      "source": [
        "from sklearn.preprocessing import StandardScaler\n",
        "\n",
        "# copy of datasets\n",
        "x_train_stand = x_train.copy()\n",
        "x_test_stand = x_test.copy()\n",
        "\n",
        "# numerical features\n",
        "num_cols = ['Income','Spending','Seniority']\n",
        "\n",
        "# apply standardization on numerical features\n",
        "for i in num_cols:\n",
        "    \n",
        "    # fit on training data column\n",
        "    scale = StandardScaler().fit(x_train_stand[[i]])\n",
        "    \n",
        "    # transform the training data column\n",
        "    x_train_stand[i] = scale.transform(x_train_stand[[i]])\n",
        "    \n",
        "    # transform the testing data column\n",
        "    x_test_stand[i] = scale.transform(x_test_stand[[i]])"
      ],
      "execution_count": null,
      "outputs": []
    },
    {
      "cell_type": "markdown",
      "metadata": {
        "id": "xPCleMOrJK_d"
      },
      "source": [
        "You would have noticed that I only applied standardization to my numerical columns and not the other One-Hot Encoded features. Standardizing the One-Hot encoded features would mean assigning a distribution to categorical features. You don’t want to do that!\n",
        "\n",
        "But why did I not do the same while normalizing the data? Because One-Hot encoded features are already in the range between 0 to 1. So, normalization would not affect their value."
      ]
    },
    {
      "cell_type": "code",
      "metadata": {
        "colab": {
          "base_uri": "https://localhost:8080/"
        },
        "id": "uUsklP7AJPDl",
        "outputId": "d0be8cc2-9c3f-4df6-f0af-3ff0594d81e8"
      },
      "source": [
        "print(x_test_stand)"
      ],
      "execution_count": null,
      "outputs": [
        {
          "output_type": "stream",
          "name": "stdout",
          "text": [
            "        Income  Recency  ...  Marital_Status_Widow  Marital_Status_YOLO\n",
            "1483 -1.553266       49  ...                     0                    0\n",
            "1435 -0.989191       79  ...                     0                    0\n",
            "594   0.371059       47  ...                     0                    0\n",
            "1534 -1.354363       92  ...                     0                    0\n",
            "1244 -1.149434       90  ...                     0                    0\n",
            "...        ...      ...  ...                   ...                  ...\n",
            "1982  2.003575       35  ...                     0                    0\n",
            "870   0.849009       27  ...                     0                    0\n",
            "49    0.963293       39  ...                     0                    0\n",
            "1861 -1.913918       16  ...                     0                    0\n",
            "1471 -0.834081       68  ...                     0                    0\n",
            "\n",
            "[554 rows x 34 columns]\n"
          ]
        }
      ]
    },
    {
      "cell_type": "markdown",
      "metadata": {
        "id": "hFUN6qRsKBZU"
      },
      "source": [
        "The numerical features are now centered on the mean with a unit standard deviation."
      ]
    },
    {
      "cell_type": "markdown",
      "metadata": {
        "id": "2cyUjQJ7KKF9"
      },
      "source": [
        "**Applying Scaling to Machine Learning Algorithms**"
      ]
    },
    {
      "cell_type": "markdown",
      "metadata": {
        "id": "X_-gXFzqLEBs"
      },
      "source": [
        "**K-Nearest Neighbours**\n",
        "\n",
        "\n",
        "Like we saw before, KNN is a distance-based algorithm that is affected by the range of features. Let’s see how it performs on our data, before and after scaling:"
      ]
    },
    {
      "cell_type": "markdown",
      "metadata": {
        "id": "2Q5RRWk9kxxt"
      },
      "source": [
        "**CLASSIFICATION**"
      ]
    },
    {
      "cell_type": "code",
      "metadata": {
        "colab": {
          "base_uri": "https://localhost:8080/"
        },
        "id": "bTWzBisYklcU",
        "outputId": "c9299c6d-d5f1-4369-91db-1ad6790603de"
      },
      "source": [
        "# K-Nearest Neighbours\n",
        "from sklearn.neighbors import KNeighborsClassifier\n",
        "from sklearn.metrics import classification_report\n",
        "from sklearn.metrics import confusion_matrix\n",
        "from sklearn.metrics import accuracy_score\n",
        "Model = KNeighborsClassifier(n_neighbors=8)\n",
        "\n",
        "trainx = [x_train, x_train_norm, x_train_stand]\n",
        "testx = [x_test, x_test_norm, x_test_stand]\n",
        "\n",
        "for i in range(len(trainx)):\n",
        "\n",
        "  Model.fit(trainx[i], y_train)\n",
        "\n",
        "  y_pred = Model.predict(testx[i])\n",
        "\n",
        "# Summary of the predictions made by the classifier\n",
        "print(classification_report(y_test, y_pred))\n",
        "print(confusion_matrix(y_test, y_pred))\n",
        "# Accuracy score\n",
        "\n",
        "print('accuracy is',accuracy_score(y_pred,y_test))"
      ],
      "execution_count": null,
      "outputs": [
        {
          "output_type": "stream",
          "name": "stdout",
          "text": [
            "              precision    recall  f1-score   support\n",
            "\n",
            "           0       0.86      0.98      0.91       469\n",
            "           1       0.44      0.09      0.16        85\n",
            "\n",
            "    accuracy                           0.84       554\n",
            "   macro avg       0.65      0.54      0.53       554\n",
            "weighted avg       0.79      0.84      0.80       554\n",
            "\n",
            "[[459  10]\n",
            " [ 77   8]]\n",
            "accuracy is 0.8429602888086642\n"
          ]
        }
      ]
    },
    {
      "cell_type": "markdown",
      "metadata": {
        "id": "sZ8ZdRIHykkZ"
      },
      "source": [
        "**SUPPORT VECTOR MACHINE(SVM)**"
      ]
    },
    {
      "cell_type": "code",
      "metadata": {
        "colab": {
          "base_uri": "https://localhost:8080/"
        },
        "id": "4iuOC_QRk2J1",
        "outputId": "d26d79bc-c90c-4796-ac8d-b52a8caa119a"
      },
      "source": [
        "# Support Vector Machine\n",
        "from sklearn.svm import SVC\n",
        "\n",
        "Model = SVC()\n",
        "Model.fit(trainx[i], y_train)\n",
        "\n",
        "y_pred = Model.predict(testx[i])\n",
        "\n",
        "# Summary of the predictions made by the classifier\n",
        "print(classification_report(y_test, y_pred))\n",
        "print(confusion_matrix(y_test, y_pred))\n",
        "# Accuracy score\n",
        "\n",
        "print('accuracy is',accuracy_score(y_pred,y_test))"
      ],
      "execution_count": null,
      "outputs": [
        {
          "output_type": "stream",
          "name": "stdout",
          "text": [
            "              precision    recall  f1-score   support\n",
            "\n",
            "           0       0.85      0.99      0.92       469\n",
            "           1       0.45      0.06      0.10        85\n",
            "\n",
            "    accuracy                           0.84       554\n",
            "   macro avg       0.65      0.52      0.51       554\n",
            "weighted avg       0.79      0.84      0.79       554\n",
            "\n",
            "[[463   6]\n",
            " [ 80   5]]\n",
            "accuracy is 0.8447653429602888\n"
          ]
        }
      ]
    }
  ]
}